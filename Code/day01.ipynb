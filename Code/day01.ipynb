{
 "cells": [
  {
   "cell_type": "markdown",
   "metadata": {},
   "source": [
    "# 15天Python3入门 \n",
    "\n",
    "CopyRight by 黑板客  \n",
    "转载请联系heibanke_at_aliyun.com\n"
   ]
  },
  {
   "cell_type": "markdown",
   "metadata": {},
   "source": [
    "2＊＊10000这个数据比客厅大多了,怎么得到合理的数据？  \n",
    "展开10000次，厚度从1cm降到1/（2＊＊10000）cm  \n",
    "合理的最小厚度是多少？ 纳米＝10^-7cm  \n",
    "那最多一个1cm的香烟过滤嘴可以展开多少次？"
   ]
  },
  {
   "cell_type": "code",
   "execution_count": 5,
   "metadata": {},
   "outputs": [
    {
     "name": "stdout",
     "output_type": "stream",
     "text": [
      "9.5367431640625e-07\n"
     ]
    },
    {
     "data": {
      "text/plain": [
       "104.8576"
      ]
     },
     "execution_count": 5,
     "metadata": {},
     "output_type": "execute_result"
    }
   ],
   "source": [
    "print(1.0/2**20)\n",
    "2**20/10000.0"
   ]
  },
  {
   "cell_type": "markdown",
   "metadata": {},
   "source": [
    "## day01：搭建环境"
   ]
  },
  {
   "cell_type": "markdown",
   "metadata": {},
   "source": [
    "1. 装python3  \n",
    "百度云盘链接: https://pan.baidu.com/s/1bqimIeV 密码: wa8d，下载安装python3.6.4 (注：网盘链接访问不到的可能是因为倒数第三个字母是大写的i，而不是小写的L）  \n",
    "在powershell或terminal中执行python或python3，能出现python解释器则安装成功。  \n",
    "百度云不好访问的话，也可以试试在下面的官网地址下载：  \n",
    "<a href=\"https://www.python.org/ftp/python/3.6.4/python-3.6.4-amd64.exe\">windows版本官网3.6.4下载</a>  \n",
    "<a href=\"https://www.python.org/ftp/python/3.6.4/python-3.6.4-macosx10.6.pkg\">mac版本官网3.6.4下载</a>\n",
    "\n",
    "2. 装pip，easy_install  \n",
    "百度云盘下载ez_setup压缩包，解压后在解压目录下执行python ez_setup.py，安装成功\n",
    "下载pip压缩包，解压后在解压目录下执行python setup.py install, 安装成功  \n",
    "百度云不好访问的话，也可以试试在下面的官网地址下载：  \n",
    "<a href=\"https://pypi.python.org/pypi/ez_setup\">ez_setup</a>  \n",
    "<a href=\"https://pypi.python.org/pypi/pip/9.0.1\">pip</a>\n",
    "\n",
    "3. 装virtualenv  \n",
    "安装: pip install virtualenv  \n",
    "新建: virtualenv py3_env -p python3      \n",
    "进入: source py3_env/bin/activate     \n",
    "退出: deactivate    \n",
    "\n",
    "4. 安装第三方库  \n",
    "pip install jupyter -i https://pypi.tuna.tsinghua.edu.cn/simple  \n",
    "pip install future  \n",
    "or  \n",
    "pip install -r requirements.txt  \n",
    "5. 克隆代码：  \n",
    "git clone https://github.com/heibanke/learn_python_in_15days.git  \n",
    "或直接下载参考资料   \n",
    "6. 启动：jupyter notebook  （注意在工作目录启动）  \n",
    " \n",
    "7. 更新pip源  \n",
    "豆瓣(douban) https://pypi.douban.com/simple  \n",
    "阿里云 https://mirrors.aliyun.com/pypi/simple  \n",
    "中国科技大学 https://pypi.mirrors.ustc.edu.cn/simple  \n",
    "清华大学 https://pypi.tuna.tsinghua.edu.cn/simple  \n",
    "配置文件的位置（需要自己写配置文件并保存）  \n",
    "**linux**   \n",
    "~/.pip/pip.conf  \n",
    "**windows**   \n",
    "%HOME%\\pip\\pip.ini  \n",
    "C:\\Users\\your_name\\pip\\pip.ini   \n",
    "**virtualenv**   \n",
    "env/pip.conf   \n",
    "**配置文件的格式**   \n",
    "[global]    \n",
    "index-url = https://pypi.tuna.tsinghua.edu.cn/simple\n"
   ]
  },
  {
   "cell_type": "markdown",
   "metadata": {},
   "source": [
    "## 注释和Print"
   ]
  },
  {
   "cell_type": "code",
   "execution_count": 1,
   "metadata": {},
   "outputs": [
    {
     "name": "stdout",
     "output_type": "stream",
     "text": [
      "Hello World!\n"
     ]
    },
    {
     "data": {
      "text/plain": [
       "'\\n双引号\\n'"
      ]
     },
     "execution_count": 1,
     "metadata": {},
     "output_type": "execute_result"
    }
   ],
   "source": [
    "# 下面这句是为了让python2使用和python3一样的print语法，python3中不需要这句\n",
    "from __future__ import print_function\n",
    "\n",
    "print('Hello World!')\n",
    "\n",
    "# 上面的print语句相当于调用了一个函数，参数是字符串'hello world'，关于函数我们后面会再介绍，大家在这里可以把函数当做一系列的操作的打包。\n",
    "'''\n",
    "这样也行\n",
    "'''\n",
    "\n",
    "\"\"\"\n",
    "双引号\n",
    "\"\"\""
   ]
  },
  {
   "cell_type": "code",
   "execution_count": 2,
   "metadata": {},
   "outputs": [
    {
     "name": "stdout",
     "output_type": "stream",
     "text": [
      "Hello World!\n",
      "Help on built-in function print in module builtins:\n",
      "\n",
      "print(...)\n",
      "    print(value, ..., sep=' ', end='\\n', file=sys.stdout, flush=False)\n",
      "    \n",
      "    Prints the values to a stream, or to sys.stdout by default.\n",
      "    Optional keyword arguments:\n",
      "    file:  a file-like object (stream); defaults to the current sys.stdout.\n",
      "    sep:   string inserted between values, default a space.\n",
      "    end:   string appended after the last value, default a newline.\n",
      "    flush: whether to forcibly flush the stream.\n",
      "\n"
     ]
    }
   ],
   "source": [
    "help(print)\n",
    "# help(x)一般会输出这个函数的作用，输入参数和输出结果。（如果x是函数的话）"
   ]
  },
  {
   "cell_type": "code",
   "execution_count": 13,
   "metadata": {},
   "outputs": [
    {
     "name": "stdout",
     "output_type": "stream",
     "text": [
      "2 3 4\n",
      "2 3 4\n",
      "\n",
      "2,3,4\n"
     ]
    }
   ],
   "source": [
    "# print函数的不同调用方式\n",
    "print(2,3,4)\n",
    "print(2,3,4,end='\\n\\n')\n",
    "print(2,3,4,sep=',')"
   ]
  },
  {
   "cell_type": "markdown",
   "metadata": {},
   "source": [
    "## 模块化编程"
   ]
  },
  {
   "cell_type": "markdown",
   "metadata": {},
   "source": [
    "![模块化](http://www.kf.cn/blwb/rmp/1/2/2014-11/27/B07/res13_attpic_brief.jpg)\n",
    "\n",
    "其中import语句的作用是导入其他模块的类或方法，使用方法如下：\n",
    "\n",
    "import xxx  \n",
    "from xxx import xx  \n",
    "from xxx import xx as x  \n",
    "from xxx import *"
   ]
  },
  {
   "cell_type": "code",
   "execution_count": null,
   "metadata": {},
   "outputs": [],
   "source": [
    "# %load day00/bubble_sort.py\n",
    "#!/usr/bin/env python\n",
    "# coding: utf-8\n",
    "#copyRight by heibanke\n",
    "\"\"\"\n",
    "bubble sort alg\n",
    "\n",
    "最上面的注释\n",
    "# coding: utf-8\n",
    "是为了声明文件编码类型，有中文的话，需要定义为utf-8\n",
    "\"\"\"\n",
    "from __future__ import print_function\n",
    "\n",
    "# 冒泡算法的函数定义\n",
    "def bubble_sort(nums):\n",
    "    # 这个函数就是下面这些语句的打包。\n",
    "    for j in range(len(nums)):\n",
    "        for i in range(0,len(nums)-j-1,1):\n",
    "            if nums[i] > nums[i+1]:\n",
    "                nums[i],nums[i+1] = nums[i+1],nums[i]\n",
    "                print(nums)\n",
    "        print('\\n',j)\n",
    "\n",
    "\n",
    "\n",
    "# 定义一组数，用list保存。list我们第三课会讲到。\n",
    "numbers=[34, 9, 5, 23, 14, 7, 32, 2, 12]\n",
    "\n",
    "# 调用冒泡算法函数，直接对numbers进行了排序\n",
    "bubble_sort(numbers)\n",
    "\n",
    "# 打印排序后的值\n",
    "print(numbers)\n"
   ]
  },
  {
   "cell_type": "code",
   "execution_count": 1,
   "metadata": {},
   "outputs": [
    {
     "name": "stdout",
     "output_type": "stream",
     "text": [
      "[9, 34, 5, 23, 14, 7, 32, 2, 12]\n",
      "[9, 5, 34, 23, 14, 7, 32, 2, 12]\n",
      "[9, 5, 23, 34, 14, 7, 32, 2, 12]\n",
      "[9, 5, 23, 14, 34, 7, 32, 2, 12]\n",
      "[9, 5, 23, 14, 7, 34, 32, 2, 12]\n",
      "[9, 5, 23, 14, 7, 32, 34, 2, 12]\n",
      "[9, 5, 23, 14, 7, 32, 2, 34, 12]\n",
      "[9, 5, 23, 14, 7, 32, 2, 12, 34]\n",
      "\n",
      " 0\n",
      "[5, 9, 23, 14, 7, 32, 2, 12, 34]\n",
      "[5, 9, 14, 23, 7, 32, 2, 12, 34]\n",
      "[5, 9, 14, 7, 23, 32, 2, 12, 34]\n",
      "[5, 9, 14, 7, 23, 2, 32, 12, 34]\n",
      "[5, 9, 14, 7, 23, 2, 12, 32, 34]\n",
      "\n",
      " 1\n",
      "[5, 9, 7, 14, 23, 2, 12, 32, 34]\n",
      "[5, 9, 7, 14, 2, 23, 12, 32, 34]\n",
      "[5, 9, 7, 14, 2, 12, 23, 32, 34]\n",
      "\n",
      " 2\n",
      "[5, 7, 9, 14, 2, 12, 23, 32, 34]\n",
      "[5, 7, 9, 2, 14, 12, 23, 32, 34]\n",
      "[5, 7, 9, 2, 12, 14, 23, 32, 34]\n",
      "\n",
      " 3\n",
      "[5, 7, 2, 9, 12, 14, 23, 32, 34]\n",
      "\n",
      " 4\n",
      "[5, 2, 7, 9, 12, 14, 23, 32, 34]\n",
      "\n",
      " 5\n",
      "[2, 5, 7, 9, 12, 14, 23, 32, 34]\n",
      "\n",
      " 6\n",
      "\n",
      " 7\n",
      "\n",
      " 8\n",
      "[2, 5, 7, 9, 12, 14, 23, 32, 34]\n",
      "Help on function bubble_sort in module day00.bubble_sort:\n",
      "\n",
      "bubble_sort(nums)\n",
      "\n"
     ]
    }
   ],
   "source": [
    "# 我们现在还没有为冒泡算法加注释，所以这个时候调用help没什么信息。\n",
    "from day00.bubble_sort import bubble_sort\n",
    "\n",
    "help(bubble_sort)"
   ]
  },
  {
   "cell_type": "code",
   "execution_count": 6,
   "metadata": {},
   "outputs": [
    {
     "name": "stdout",
     "output_type": "stream",
     "text": [
      "Help on function bubble_sort in module day01.bubble_sort:\n",
      "\n",
      "bubble_sort(nums)\n",
      "    bubble sort function\n",
      "    input: list\n",
      "    output: sorted list\n",
      "\n"
     ]
    }
   ],
   "source": [
    "# 在函数后面用三引号加上注释后，调用help就可以看到自己写的信息了。比如\n",
    "\n",
    "from day01.bubble_sort import bubble_sort as bsort\n",
    "\n",
    "help(bsort)"
   ]
  },
  {
   "cell_type": "code",
   "execution_count": null,
   "metadata": {},
   "outputs": [],
   "source": [
    "# %load day01/bubble_sort.py\n",
    "#!/usr/bin/env python\n",
    "#copyRight by heibanke\n",
    "\"\"\"\n",
    "bubble sort alg\n",
    "\"\"\"\n",
    "from __future__ import print_function\n",
    "\n",
    "def bubble_sort(nums):\n",
    "    \"\"\"\n",
    "    bubble sort function\n",
    "    input: list\n",
    "    output: sorted list\n",
    "    \"\"\"\n",
    "    n = nums[:]\n",
    "    for j in range(len(n)):\n",
    "        for i in range(len(n) - j - 1):\n",
    "            if n[i] > n[i + 1]:\n",
    "                n[i], n[i + 1] = n[i + 1],n[i]\n",
    "                print(n)\n",
    "        print('\\n', j)\n",
    "    return n\n",
    "\n",
    "if __name__ == '__main__':\n",
    "    numbers=[34, 9, 5, 23, 14, 7, 32, 2, 12]\n",
    "    sorted_nums = bubble_sort(numbers)\n",
    "    print('After sorted: ', sorted_nums)\n",
    "    print('Before sorted: ', numbers)\n",
    "    help(bubble_sort)\n"
   ]
  },
  {
   "cell_type": "code",
   "execution_count": 8,
   "metadata": {},
   "outputs": [
    {
     "name": "stdout",
     "output_type": "stream",
     "text": [
      "[9, 34, 5, 23, 14, 7, 32, 2, 12]\n",
      "[9, 5, 34, 23, 14, 7, 32, 2, 12]\n",
      "[9, 5, 23, 34, 14, 7, 32, 2, 12]\n",
      "[9, 5, 23, 14, 34, 7, 32, 2, 12]\n",
      "[9, 5, 23, 14, 7, 34, 32, 2, 12]\n",
      "[9, 5, 23, 14, 7, 32, 34, 2, 12]\n",
      "[9, 5, 23, 14, 7, 32, 2, 34, 12]\n",
      "[9, 5, 23, 14, 7, 32, 2, 12, 34]\n",
      "\n",
      " 0\n",
      "[5, 9, 23, 14, 7, 32, 2, 12, 34]\n",
      "[5, 9, 14, 23, 7, 32, 2, 12, 34]\n",
      "[5, 9, 14, 7, 23, 32, 2, 12, 34]\n",
      "[5, 9, 14, 7, 23, 2, 32, 12, 34]\n",
      "[5, 9, 14, 7, 23, 2, 12, 32, 34]\n",
      "\n",
      " 1\n",
      "[5, 9, 7, 14, 23, 2, 12, 32, 34]\n",
      "[5, 9, 7, 14, 2, 23, 12, 32, 34]\n",
      "[5, 9, 7, 14, 2, 12, 23, 32, 34]\n",
      "\n",
      " 2\n",
      "[5, 7, 9, 14, 2, 12, 23, 32, 34]\n",
      "[5, 7, 9, 2, 14, 12, 23, 32, 34]\n",
      "[5, 7, 9, 2, 12, 14, 23, 32, 34]\n",
      "\n",
      " 3\n",
      "[5, 7, 2, 9, 12, 14, 23, 32, 34]\n",
      "\n",
      " 4\n",
      "[5, 2, 7, 9, 12, 14, 23, 32, 34]\n",
      "\n",
      " 5\n",
      "[2, 5, 7, 9, 12, 14, 23, 32, 34]\n",
      "\n",
      " 6\n",
      "\n",
      " 7\n",
      "\n",
      " 8\n",
      "After sorted:  [2, 5, 7, 9, 12, 14, 23, 32, 34]\n",
      "Before sorted:  [34, 9, 5, 23, 14, 7, 32, 2, 12]\n",
      "Help on function bubble_sort in module __main__:\n",
      "\n",
      "bubble_sort(nums)\n",
      "    bubble sort function\n",
      "    input: list\n",
      "    output: sorted list\n",
      "\n"
     ]
    }
   ],
   "source": [
    "%run day01/bubble_sort.py"
   ]
  },
  {
   "cell_type": "code",
   "execution_count": 7,
   "metadata": {},
   "outputs": [],
   "source": [
    "%magic"
   ]
  },
  {
   "cell_type": "markdown",
   "metadata": {},
   "source": [
    "### Day01 我们学习的内容：\n",
    "\n",
    "1. 安装环境，如何验证环境是否安装完成\n",
    "2. print函数的用法\n",
    "3. 导入模块的方法\n",
    "4. 代码注释的写法\n",
    "\n",
    "\n",
    "作业：  \n",
    "熟悉jupyter notebook的基本使用。（会执行python代码，会新建，修改等）\n",
    "\n",
    "这里有个网络版的notebook，支持python3  \n",
    "https://try.jupyter.org/"
   ]
  }
 ],
 "metadata": {
  "kernelspec": {
   "display_name": "Python 3",
   "language": "python",
   "name": "python3"
  },
  "language_info": {
   "codemirror_mode": {
    "name": "ipython",
    "version": 3
   },
   "file_extension": ".py",
   "mimetype": "text/x-python",
   "name": "python",
   "nbconvert_exporter": "python",
   "pygments_lexer": "ipython3",
   "version": "3.6.4"
  }
 },
 "nbformat": 4,
 "nbformat_minor": 2
}
