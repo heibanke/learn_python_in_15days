{
 "cells": [
  {
   "cell_type": "markdown",
   "metadata": {},
   "source": [
    "# 15天入门Python3\n",
    "\n",
    "CopyRight by 黑板客  \n",
    "转载请联系heibanke_at_aliyun.com"
   ]
  },
  {
   "cell_type": "markdown",
   "metadata": {},
   "source": [
    "## day10的作业\n",
    "\n",
    "1. PK游戏里，如何让英雄动起来？\n",
    "2. 英雄动起来后，就有了距离，请通过距离来为英雄增加攻击范围，比如亚瑟是近战英雄，后羿是远程英雄，如何体现他们的不同？\n",
    "3. 考虑有的装备可以为英雄增加攻击范围。\n",
    "4. 考虑用contains来判断是否在英雄攻击范围"
   ]
  },
  {
   "cell_type": "markdown",
   "metadata": {},
   "source": [
    "1. 增加Position类\n",
    "2. 为Hero增加pos属性，和move方法\n",
    "3. 为Hero增加attack_range属性\n",
    "4. 为PK_obj增加attack_range属性，英雄和道具继承自PK_obj\n",
    "5. 为Hero类增加\\__str\\__\n",
    "6. 修改Game类，增加移动功能"
   ]
  },
  {
   "cell_type": "markdown",
   "metadata": {},
   "source": [
    "|Position|         \n",
    "| :- |\n",
    "|- x  <br> - y |\n",
    "|+ \\__init\\__ (x, y) <br>+ \\__add\\__ (p) <br>+ \\__sub\\__ (p) <br>+ \\__str\\__ ()  <br>+ abs()| \n",
    "\n",
    "|Hero|         \n",
    "| :- |\n",
    "|- name  <br> - defence <br> - attack <br> - life <br> - chuantou <br> - fantan <br> - xixie <br> - pos<br> - attack_range<br> @ alive|\n",
    "|+ \\__init\\__ (name, defence, attack, life, chuantou, fantan, xixie) <br> + damage (enemy)  <br> + use (e) <br> + drop (e)<br> + move ()<br> + \\__contains\\__ (enemy)<br> + \\__str\\__ (enemy)| \n"
   ]
  },
  {
   "cell_type": "code",
   "execution_count": 11,
   "metadata": {},
   "outputs": [
    {
     "name": "stdout",
     "output_type": "stream",
     "text": [
      "亚瑟1 使用了 铠甲\n",
      "亚瑟1 使用了 弓箭\n",
      "后羿1 使用了 弓箭\n",
      "使用铠甲,弓箭的亚瑟1 对 使用弓箭的后羿1 造成 109.80 伤害，使用弓箭的后羿1 还剩 290.20 生命, 使用铠甲,弓箭的亚瑟1 还剩 1110.98 生命。\n",
      "使用弓箭的后羿1 对 使用铠甲,弓箭的亚瑟1 造成 98.77 伤害，使用铠甲,弓箭的亚瑟1 还剩 1012.21 生命, 使用弓箭的后羿1 还剩 270.44 生命。\n",
      "亚瑟1移动到了(-2, -2)\n",
      "后羿1移动到了(3, 0)\n",
      "使用铠甲,弓箭的亚瑟1 对 使用弓箭的后羿1 造成 109.80 伤害，使用弓箭的后羿1 还剩 160.64 生命, 使用铠甲,弓箭的亚瑟1 还剩 1023.20 生命。\n",
      "使用弓箭的后羿1 对 使用铠甲,弓箭的亚瑟1 造成 98.77 伤害，使用铠甲,弓箭的亚瑟1 还剩 924.43 生命, 使用弓箭的后羿1 还剩 140.89 生命。\n",
      "亚瑟1移动到了(-5, 1)\n",
      "后羿1移动到了(1, 1)\n",
      "使用铠甲,弓箭的亚瑟1 对 使用弓箭的后羿1 造成 109.80 伤害，使用弓箭的后羿1 还剩 31.08 生命, 使用铠甲,弓箭的亚瑟1 还剩 935.41 生命。\n",
      "使用弓箭的后羿1 对 使用铠甲,弓箭的亚瑟1 造成 98.77 伤害，使用铠甲,弓箭的亚瑟1 还剩 836.64 生命, 使用弓箭的后羿1 还剩 11.33 生命。\n",
      "亚瑟1移动到了(-5, 2)\n",
      "后羿1移动到了(1, -1)\n",
      "后羿1不在亚瑟1的攻击范围\n",
      "使用弓箭的后羿1 对 使用铠甲,弓箭的亚瑟1 造成 98.77 伤害，使用铠甲,弓箭的亚瑟1 还剩 737.88 生命, 使用弓箭的后羿1 还剩 -8.42 生命。\n",
      "亚瑟1移动到了(-6, 2)\n",
      "后羿1移动到了(3, -2)\n",
      "后羿1 被打败了\n"
     ]
    }
   ],
   "source": [
    "# 修改代码达到上面的功能，最终输出类似下面的结果。\n",
    "%load day10/pk_oop_03.py\n"
   ]
  },
  {
   "cell_type": "code",
   "execution_count": 12,
   "metadata": {},
   "outputs": [],
   "source": [
    "A = YaSe('亚瑟1')"
   ]
  },
  {
   "cell_type": "code",
   "execution_count": 14,
   "metadata": {},
   "outputs": [
    {
     "name": "stdout",
     "output_type": "stream",
     "text": [
      "100\n"
     ]
    }
   ],
   "source": [
    "A.liff = 100\n",
    "print(A.liff)"
   ]
  },
  {
   "cell_type": "markdown",
   "metadata": {},
   "source": [
    "思考问题：\n",
    "\n",
    "1. 英雄不能跑到很远的地方，地图要有一定大小限制，比如(-20, 20)。\n",
    "2. 英雄的属性有限制，不能随便设，如何进行属性检查？\n",
    "3. 英雄的属性不能随意添加，如何加限制？\n",
    "4. 英雄虽然会移动，但是随机移动有时候会打不到对方，如何优化移动策略？\n",
    "5. 目前的PK游戏属于回合制，你打一下，我打一下，如何改成实时操作？\n",
    "6. 改成实时操作后可以使PK游戏获得哪些更好的特性？\n"
   ]
  }
 ],
 "metadata": {
  "kernelspec": {
   "display_name": "Python 3",
   "language": "python",
   "name": "python3"
  },
  "language_info": {
   "codemirror_mode": {
    "name": "ipython",
    "version": 3
   },
   "file_extension": ".py",
   "mimetype": "text/x-python",
   "name": "python",
   "nbconvert_exporter": "python",
   "pygments_lexer": "ipython3",
   "version": "3.6.4"
  }
 },
 "nbformat": 4,
 "nbformat_minor": 2
}
