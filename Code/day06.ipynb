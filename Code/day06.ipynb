{
 "cells": [
  {
   "cell_type": "markdown",
   "metadata": {},
   "source": [
    "# 15天入门Python3\n",
    "\n",
    "CopyRight by 黑板客  \n",
    "转载请联系heibanke_at_aliyun.com"
   ]
  },
  {
   "cell_type": "markdown",
   "metadata": {},
   "source": [
    "**上节作业**\n",
    "\n",
    "1. day05文件夹下有一些英文小说文件，用已经学过的知识编写程序统计出每个文件里单词出现频率最高的前10大单词是什么？\n",
    "2. 你会发现只有001这个文件最好用，其他文件报错。其他文件的问题在哪里。（选做）\n"
   ]
  },
  {
   "cell_type": "code",
   "execution_count": null,
   "metadata": {
    "scrolled": true
   },
   "outputs": [],
   "source": [
    "%load day05/tongji.py  # 从参考资料里下载day05.zip，然后解压到Code目录下即可。"
   ]
  },
  {
   "cell_type": "markdown",
   "metadata": {},
   "source": [
    "## day06：装饰器—给函数打扮一下\n",
    "\n",
    "1. <a href=\"#1\">闭包closure</a>\n",
    "2. <a href=\"#2\">变量作用域</a>\n",
    "3. <a href=\"#3\">装饰器</a>\n",
    "4. <a href=\"#4\">作业</a>\n",
    "\n",
    "## <a name=\"1\">闭包closure</a>\n",
    "\n",
    "1. 嵌套函数\n",
    "2. 内部函数使用外部变量(通常是外部函数的参数)\n",
    "3. 外部函数返回内部函数"
   ]
  },
  {
   "cell_type": "code",
   "execution_count": null,
   "metadata": {},
   "outputs": [],
   "source": [
    "from __future__ import print_function\n",
    "\n",
    "\n",
    "# closure\n",
    "def pow_x(x):\n",
    "    def echo(value):\n",
    "        return value**x\n",
    "    return echo\n",
    "\n",
    "lst = [pow_x(2), pow_x(3), pow_x(4)]\n",
    "for p in lst:\n",
    "    print(\"closure\",p(2), p.__closure__[0].cell_contents)\n"
   ]
  },
  {
   "cell_type": "code",
   "execution_count": null,
   "metadata": {},
   "outputs": [],
   "source": [
    "# 闭包使用的变量注意事项\n",
    "def count():\n",
    "    fs = []\n",
    "    for i in range(1, 4):\n",
    "        def f():\n",
    "             return i*i\n",
    "        fs.append(f)\n",
    "    return fs\n",
    "\n",
    "f1, f2, f3 = count()\n",
    "print(f1(), f2(), f3())"
   ]
  },
  {
   "cell_type": "code",
   "execution_count": null,
   "metadata": {},
   "outputs": [],
   "source": [
    "# -*- coding: utf-8 -*-\n",
    "from __future__ import print_function\n",
    "\n",
    "import random\n",
    "origin = [0, 0] # 坐标系统原点 \n",
    "\n",
    "def create(pos): \n",
    "    def player(direction,step): \n",
    "        \"\"\"\n",
    "        direction: ［x, y]\n",
    "          0: 在这个方向不走\n",
    "          1: 朝正方向走\n",
    "         -1: 朝反方向走\n",
    "        step: [x, y]\n",
    "          朝两个方向各走多远\n",
    "        \"\"\"  \n",
    "        pos[0] = pos[0] + direction[0]*step[0] \n",
    "        pos[1] = pos[1] + direction[1]*step[1]\n",
    "        return pos \n",
    "    return player \n",
    "\n",
    "players = [create(origin[:]) for i in range(5)] # 创建5个player，起点都为原点 \n",
    "\n",
    "#每个player随机走10步，看最终各自的位置。\n",
    "for i in range(10):\n",
    "    print(\"========== 第%d步 ==========\"%(i+1))\n",
    "    for name, player in enumerate(players):\n",
    "        # enumerate可以在遍历列表时同时产生元素的位置，这里把位置当作player的名字\n",
    "        # 产生随机方向和随机步长\n",
    "        direction = [random.choice([-1,1]), random.choice([-1,1])]\n",
    "        step = [random.randint(0,20), random.randint(0,20)]\n",
    "        print(name,player(direction, step))\n"
   ]
  },
  {
   "cell_type": "markdown",
   "metadata": {},
   "source": [
    "### 问题加练习\n",
    "\n",
    "1. 如果走10000步，100000步呢，最终每个player的位置会往哪个方向走？\n",
    "2. 为什么？如果想让它往某个方向走，需要怎么修改程序？\n",
    "3. 如果想把走的轨迹图示出来，可以使用第三方的库matplotlib。感兴趣可以自己试试。在我另一门课《用Python做深度学习1》里有介绍。"
   ]
  },
  {
   "cell_type": "markdown",
   "metadata": {},
   "source": [
    "## <a name=\"2\">变量作用域</a>"
   ]
  },
  {
   "cell_type": "code",
   "execution_count": null,
   "metadata": {},
   "outputs": [],
   "source": [
    "# Build-in Python #######################################\n",
    "#\n",
    "#        ** Global **************************************\n",
    "#        **\n",
    "#        **        $$ Enclosing function local $$$$$$$$$$\n",
    "#        **        $$ \n",
    "#        **        $$         @@ local function @@@@@@@@@\n",
    "#        **        $$         @@  \n",
    "#        **        $$         @@ \n",
    "#        **        $$         @@ \n",
    "#        **        $$         @@ "
   ]
  },
  {
   "cell_type": "code",
   "execution_count": null,
   "metadata": {},
   "outputs": [],
   "source": [
    "from __future__ import print_function\n",
    "\n",
    "# 1. Global\n",
    "g_X = 9 \n",
    "def f1(s):\n",
    "    # global g_X\n",
    "    g_X = s\n",
    "    # 2. Global or enclosing \n",
    "    def f2():\n",
    "        # 3. enclosing or local\n",
    "        # g_X=7\n",
    "        print(\"in f2()\", g_X)\n",
    "    print(\"in f1()\",g_X)\n",
    "    return f2\n",
    "\n",
    "if __name__==\"__main__\":\n",
    "    a = f1(6)\n",
    "    b = f1(8)\n",
    "    print(\"in main\",g_X)\n",
    "    \n",
    "    a()\n",
    "    b()\n",
    "    "
   ]
  },
  {
   "cell_type": "markdown",
   "metadata": {},
   "source": [
    "## <a name=\"3\">装饰器</a>"
   ]
  },
  {
   "cell_type": "code",
   "execution_count": null,
   "metadata": {},
   "outputs": [],
   "source": [
    "# 装饰器也是函数\n",
    "\n",
    "def func1():  \n",
    "    print(\"func1() called.\") \n",
    "    \n",
    "def decorator(f):  \n",
    "    print(\"before f() called.\") \n",
    "    return f\n",
    "\n",
    "def func2():  \n",
    "    print(\"func2() called.\")\n",
    "\n",
    "f1 = decorator(func1)\n",
    "f2 = decorator(func2)\n",
    "\n",
    "f1()\n",
    "f2()"
   ]
  },
  {
   "cell_type": "code",
   "execution_count": null,
   "metadata": {},
   "outputs": [],
   "source": [
    "# 1. 最简单的装饰器\n",
    "\n",
    "@decorator\n",
    "def func1():  \n",
    "    print(\"func1() called.\")  \n",
    "\n",
    "def decorator(f):  \n",
    "    print(\"before f() called.\")  \n",
    "    return f\n",
    "\n",
    "@decorator\n",
    "def func2():  \n",
    "    print(\"func2() called.\")  \n",
    "\n",
    "#func1()\n",
    "#func2()"
   ]
  },
  {
   "cell_type": "markdown",
   "metadata": {},
   "source": [
    "### 最简单装饰器存在问题\n",
    "1. 装饰器会提前执行\n",
    "2. 目标函数无法带参数\n",
    "3. 目标函数调用后无法插入代码，只能在调用前插入代码"
   ]
  },
  {
   "cell_type": "code",
   "execution_count": null,
   "metadata": {},
   "outputs": [],
   "source": [
    "# 2层改进\n",
    "import time\n",
    "def decorator(f):\n",
    "    def _f(*arg, **kwarg):\n",
    "        print(\"before f() called\")\n",
    "        start = time.clock()\n",
    "        f(*arg,**kwarg)\n",
    "        end = time.clock()\n",
    "        print(end-start)\n",
    "    return _f\n",
    "\n",
    "@decorator\n",
    "def func2():  \n",
    "    print(\"func2() called.\") \n",
    "    \n",
    "func2()"
   ]
  },
  {
   "cell_type": "markdown",
   "metadata": {},
   "source": [
    "### 2层装饰器存在问题\n",
    "1. ~~@装饰器会提前执行~~\n",
    "2. ~~目标函数无法带参数~~\n",
    "3. ~~函数调用后无法插入代码~~\n",
    "4. 装饰器无法带参数\n"
   ]
  },
  {
   "cell_type": "code",
   "execution_count": null,
   "metadata": {},
   "outputs": [],
   "source": [
    "# 3层装饰器\n",
    "import time\n",
    "\n",
    "def time_cost(loopnum):  # 装饰器参数\n",
    "    def decorator(f):    # f装饰的函数\n",
    "        def _f(*arg, **kwarg):  # 装饰的函数调用时的参数\n",
    "            \"\"\"\n",
    "            decorator_f\n",
    "            \"\"\"\n",
    "            start = time.clock()\n",
    "            for i in range(loopnum):\n",
    "                f(*arg,**kwarg)\n",
    "            end = time.clock()\n",
    "            print(f.__name__,\"run cost time is \",end-start)\n",
    "        return _f\n",
    "\n",
    "    return decorator\n",
    "\n",
    "@time_cost(2)\n",
    "def func2():\n",
    "    \"\"\"\n",
    "    func2\n",
    "    \"\"\"\n",
    "    print(\"func2() called.\") \n",
    "    \n",
    "func2()\n",
    "\n",
    "print(func2.__name__)\n",
    "help(func2)"
   ]
  },
  {
   "cell_type": "markdown",
   "metadata": {},
   "source": [
    "这个三层，还有什么问题？\n",
    "\n",
    "### functools.wraps"
   ]
  },
  {
   "cell_type": "code",
   "execution_count": null,
   "metadata": {},
   "outputs": [],
   "source": [
    "# 3层装饰器\n",
    "from functools import wraps\n",
    "import time\n",
    "\n",
    "def time_cost(loopnum):  # 装饰器参数\n",
    "    def decorator(f):    # f装饰的函数\n",
    "        @wraps(f)\n",
    "        def _f(*arg, **kwarg):  # 装饰的函数调用时的参数\n",
    "            \"\"\"\n",
    "            decorator_f\n",
    "            \"\"\"\n",
    "            start = time.clock()\n",
    "            for i in range(loopnum):\n",
    "                f(*arg,**kwarg)\n",
    "            end = time.clock()\n",
    "            print(f.__name__,\"run cost time is \",end-start)\n",
    "        return _f\n",
    "\n",
    "    return decorator\n",
    "\n",
    "@time_cost(3)\n",
    "def func2():  \n",
    "    \"\"\"\n",
    "    func2\n",
    "    \"\"\"\n",
    "    print(\"func2() called.\") \n",
    "    \n",
    "func2()\n",
    "\n",
    "print(func2.__name__)\n",
    "help(func2)"
   ]
  },
  {
   "cell_type": "markdown",
   "metadata": {},
   "source": [
    "<a name=\"4\">**作业：用装饰器完成穿衣服的例子**</a>\n",
    "\n",
    "1. 用装饰器完成给人穿各种衣服的例子\n",
    "2. 实现套装适合各种场景，比如：上班工作套装，运动套装，休闲套装等。"
   ]
  },
  {
   "cell_type": "code",
   "execution_count": null,
   "metadata": {},
   "outputs": [],
   "source": [
    "from __future__ import print_function\n",
    "from __future__ import unicode_literals\n",
    "from day06.decorator_mode import wear_cloth, taozhuang\n",
    "\n",
    "@wear_cloth(\"毛衣\")\n",
    "@wear_cloth(\"T恤\")\n",
    "@wear_cloth(\"裤子\")\n",
    "def person(name):\n",
    "    print(\"装扮好的%s\" % name)\n",
    "\n",
    "\n",
    "@taozhuang([\"衬衫\",\"裤子\",\"西装\",\"皮鞋\",\"领带\"])\n",
    "def work_person(name):\n",
    "    print(\"装扮好的%s\" % name)\n",
    "\n",
    "@taozhuang([\"运动衣\", \"运动裤\",\"运动鞋\"])\n",
    "def sport_person(name):\n",
    "    print(\"装扮好的%s\" % name)\n",
    "\n",
    "\n",
    "\n",
    "work_person(\"小明\")"
   ]
  }
 ],
 "metadata": {
  "kernelspec": {
   "display_name": "Python 3",
   "language": "python",
   "name": "python3"
  },
  "language_info": {
   "codemirror_mode": {
    "name": "ipython",
    "version": 3
   },
   "file_extension": ".py",
   "mimetype": "text/x-python",
   "name": "python",
   "nbconvert_exporter": "python",
   "pygments_lexer": "ipython3",
   "version": "3.6.4"
  }
 },
 "nbformat": 4,
 "nbformat_minor": 2
}
