{
 "cells": [
  {
   "cell_type": "markdown",
   "metadata": {},
   "source": [
    "# 15天入门Python3\n",
    "\n",
    "CopyRight by 黑板客  \n",
    "转载请联系heibanke_at_aliyun.com"
   ]
  },
  {
   "cell_type": "markdown",
   "metadata": {},
   "source": [
    "**上节作业**\n",
    "\n",
    "1. 把自己想的三个栗子发到讨论区\n",
    "2. 把100以内的两个乘积大于25的数挑出来。分别用列表解析和for循环实现。并且分别评估两种方式的时间。\n",
    "3. 完成猜数字程序\n",
    "4. 优化猜数字\n",
    "\n",
    "优化思路：\n",
    "1. 猜的次数太多，总能猜对，如果最多只能猜6次，6次猜不对则Game Over。如何修改\n",
    "2. 用户输入错误异常处理，如果用户输入非数字的字符，如何进行异常处理，提示用户并要求用户重新输入。"
   ]
  },
  {
   "cell_type": "code",
   "execution_count": null,
   "metadata": {
    "scrolled": true
   },
   "outputs": [],
   "source": [
    "%%timeit -n 1000\n",
    "a=[(x,y) for x in range(100) for y in range(100) if x*y > 25]"
   ]
  },
  {
   "cell_type": "code",
   "execution_count": null,
   "metadata": {},
   "outputs": [],
   "source": [
    "%%timeit -n 1000\n",
    "a=[]\n",
    "for x in range(0,100):\n",
    "    for y in range(0,100):\n",
    "        if x*y>25:\n",
    "            a.append((x,y))"
   ]
  },
  {
   "cell_type": "code",
   "execution_count": null,
   "metadata": {},
   "outputs": [],
   "source": [
    "%load day04/guess_number.py"
   ]
  },
  {
   "cell_type": "code",
   "execution_count": null,
   "metadata": {},
   "outputs": [],
   "source": [
    "# 4\n",
    "%load day04/guess_number_opt1.py"
   ]
  },
  {
   "cell_type": "code",
   "execution_count": null,
   "metadata": {},
   "outputs": [],
   "source": [
    "%load day04/guess_number_opt2.py"
   ]
  },
  {
   "cell_type": "markdown",
   "metadata": {},
   "source": [
    "## day06：函数使操作更高效（中）\n",
    "\n",
    "1. 闭包\n",
    "2. 变量作用域\n",
    "3. 装饰器\n",
    "4. 递归\n",
    "5. 生成器\n",
    "\n",
    "## 闭包closure\n",
    "\n",
    "1. 嵌套函数\n",
    "2. 内部函数使用外部变量(通常是外部函数的参数)\n",
    "3. 外部函数返回内部函数"
   ]
  },
  {
   "cell_type": "code",
   "execution_count": 20,
   "metadata": {},
   "outputs": [
    {
     "name": "stdout",
     "output_type": "stream",
     "text": [
      "a=1, args=(), kargs={}\n",
      "a=1, args=(2, 3), kargs={}\n",
      "a=1, args=(2, 3), kargs={'x': 1, 'y': 2}\n"
     ]
    }
   ],
   "source": [
    "# closure\n",
    "def pow_x(x):\n",
    "    def echo(value):\n",
    "        #x=2\n",
    "        return value**x\n",
    "    return echo\n",
    "\n",
    "lst = [pow_x(2), pow_x(3), pow_x(4)]\n",
    "for p in lst:\n",
    "    print(\"closure\",p(2))\n",
    "\n"
   ]
  },
  {
   "cell_type": "code",
   "execution_count": 3,
   "metadata": {},
   "outputs": [
    {
     "name": "stdout",
     "output_type": "stream",
     "text": [
      "9 9 9\n"
     ]
    }
   ],
   "source": [
    "def count():\n",
    "    fs = []\n",
    "    for i in range(1, 4):\n",
    "        def f():\n",
    "             return i*i\n",
    "        fs.append(f)\n",
    "    return fs\n",
    "\n",
    "f1, f2, f3 = count()\n",
    "print(f1(), f2(), f3())"
   ]
  },
  {
   "cell_type": "markdown",
   "metadata": {},
   "source": [
    "### 变量作用域"
   ]
  },
  {
   "cell_type": "code",
   "execution_count": 22,
   "metadata": {},
   "outputs": [
    {
     "name": "stdout",
     "output_type": "stream",
     "text": [
      "a=1, b=2\n",
      "3\n",
      "a=4, b=2\n",
      "6\n",
      "a=4, b=8\n",
      "12\n"
     ]
    }
   ],
   "source": [
    "# Build-in Python #######################################\n",
    "#\n",
    "#        ** Global **************************************\n",
    "#        **\n",
    "#        **        $$ Enclosing function local $$$$$$$$$$\n",
    "#        **        $$ \n",
    "#        **        $$         @@ local function @@@@@@@@@\n",
    "#        **        $$         @@  \n",
    "#        **        $$         @@ \n",
    "#        **        $$         @@ \n",
    "#        **        $$         @@ "
   ]
  },
  {
   "cell_type": "code",
   "execution_count": 27,
   "metadata": {},
   "outputs": [
    {
     "ename": "AssertionError",
     "evalue": "False的测试4, fail",
     "output_type": "error",
     "traceback": [
      "\u001b[0;31m-------------------------------------------------------------------------\u001b[0m",
      "\u001b[0;31mAssertionError\u001b[0m                          Traceback (most recent call last)",
      "\u001b[0;32m<ipython-input-27-b5c59e18dd4e>\u001b[0m in \u001b[0;36m<module>\u001b[0;34m()\u001b[0m\n\u001b[1;32m      7\u001b[0m     \u001b[0;32massert\u001b[0m \u001b[0mis_prime\u001b[0m\u001b[0;34m(\u001b[0m\u001b[0mi\u001b[0m\u001b[0;34m)\u001b[0m\u001b[0;34m==\u001b[0m\u001b[0;32mTrue\u001b[0m\u001b[0;34m,\u001b[0m \u001b[0;34m'True的测试%d, fail'\u001b[0m\u001b[0;34m%\u001b[0m\u001b[0;34m(\u001b[0m\u001b[0mi\u001b[0m\u001b[0;34m)\u001b[0m\u001b[0;34m\u001b[0m\u001b[0m\n\u001b[1;32m      8\u001b[0m \u001b[0;32mfor\u001b[0m \u001b[0mi\u001b[0m \u001b[0;32min\u001b[0m \u001b[0;34m[\u001b[0m\u001b[0;36m4\u001b[0m\u001b[0;34m,\u001b[0m \u001b[0;36m8\u001b[0m\u001b[0;34m,\u001b[0m \u001b[0;36m12\u001b[0m\u001b[0;34m,\u001b[0m \u001b[0;36m15\u001b[0m\u001b[0;34m,\u001b[0m \u001b[0;36m32\u001b[0m\u001b[0;34m]\u001b[0m\u001b[0;34m:\u001b[0m\u001b[0;34m\u001b[0m\u001b[0m\n\u001b[0;32m----> 9\u001b[0;31m     \u001b[0;32massert\u001b[0m \u001b[0mis_prime\u001b[0m\u001b[0;34m(\u001b[0m\u001b[0mi\u001b[0m\u001b[0;34m)\u001b[0m\u001b[0;34m==\u001b[0m\u001b[0;32mFalse\u001b[0m\u001b[0;34m,\u001b[0m \u001b[0;34m'False的测试%d, fail'\u001b[0m\u001b[0;34m%\u001b[0m\u001b[0;34m(\u001b[0m\u001b[0mi\u001b[0m\u001b[0;34m)\u001b[0m\u001b[0;34m\u001b[0m\u001b[0m\n\u001b[0m\u001b[1;32m     10\u001b[0m \u001b[0;34m\u001b[0m\u001b[0m\n\u001b[1;32m     11\u001b[0m \u001b[0mprint\u001b[0m\u001b[0;34m(\u001b[0m\u001b[0;34m\"OK, All Test Pass!\"\u001b[0m\u001b[0;34m)\u001b[0m\u001b[0;34m\u001b[0m\u001b[0m\n",
      "\u001b[0;31mAssertionError\u001b[0m: False的测试4, fail"
     ]
    }
   ],
   "source": [
    "# 判断一个数是否是素数\n",
    "def is_prime(x):\n",
    "    # Your Code\n",
    "    \n",
    "    return True\n",
    "\n",
    "########### Test Code ################\n",
    "for i in [1, 3, 5, 7, 13, 19]:\n",
    "    assert is_prime(i)==True, 'True的测试%d, fail'%(i)\n",
    "for i in [4, 8, 12, 15, 32]:\n",
    "    assert is_prime(i)==False, 'False的测试%d, fail'%(i)\n",
    "    \n",
    "print(\"OK, All Test Pass!\")"
   ]
  },
  {
   "cell_type": "code",
   "execution_count": 28,
   "metadata": {},
   "outputs": [
    {
     "ename": "AssertionError",
     "evalue": "aabbcde fail",
     "output_type": "error",
     "traceback": [
      "\u001b[0;31m-------------------------------------------------------------------------\u001b[0m",
      "\u001b[0;31mAssertionError\u001b[0m                          Traceback (most recent call last)",
      "\u001b[0;32m<ipython-input-28-25fb7a1c2029>\u001b[0m in \u001b[0;36m<module>\u001b[0;34m()\u001b[0m\n\u001b[1;32m     14\u001b[0m     \u001b[0;32mreturn\u001b[0m \u001b[0;36m0\u001b[0m\u001b[0;34m\u001b[0m\u001b[0m\n\u001b[1;32m     15\u001b[0m \u001b[0;32mfor\u001b[0m \u001b[0ms\u001b[0m\u001b[0;34m,\u001b[0m\u001b[0mresult\u001b[0m \u001b[0;32min\u001b[0m \u001b[0;34m(\u001b[0m\u001b[0;34m(\u001b[0m\u001b[0;34m\"abcde\"\u001b[0m\u001b[0;34m,\u001b[0m\u001b[0;36m0\u001b[0m\u001b[0;34m)\u001b[0m\u001b[0;34m,\u001b[0m \u001b[0;34m(\u001b[0m\u001b[0;34m\"aabbcde\"\u001b[0m\u001b[0;34m,\u001b[0m \u001b[0;36m2\u001b[0m\u001b[0;34m)\u001b[0m\u001b[0;34m,\u001b[0m \u001b[0;34m(\u001b[0m\u001b[0;34m\"aabBcde\"\u001b[0m\u001b[0;34m,\u001b[0m \u001b[0;36m2\u001b[0m\u001b[0;34m)\u001b[0m\u001b[0;34m,\u001b[0m                  \u001b[0;34m(\u001b[0m\u001b[0;34m\"indivisibility\"\u001b[0m\u001b[0;34m,\u001b[0m \u001b[0;36m1\u001b[0m\u001b[0;34m)\u001b[0m\u001b[0;34m,\u001b[0m \u001b[0;34m(\u001b[0m\u001b[0;34m\"Indivisibilities\"\u001b[0m\u001b[0;34m,\u001b[0m\u001b[0;36m2\u001b[0m\u001b[0;34m)\u001b[0m\u001b[0;34m,\u001b[0m                  \u001b[0;34m(\u001b[0m\u001b[0;34m\"aA11\"\u001b[0m\u001b[0;34m,\u001b[0m \u001b[0;36m2\u001b[0m\u001b[0;34m)\u001b[0m\u001b[0;34m,\u001b[0m \u001b[0;34m(\u001b[0m\u001b[0;34m\"ABBA\"\u001b[0m\u001b[0;34m,\u001b[0m \u001b[0;36m2\u001b[0m\u001b[0;34m)\u001b[0m\u001b[0;34m)\u001b[0m\u001b[0;34m:\u001b[0m\u001b[0;34m\u001b[0m\u001b[0m\n\u001b[0;32m---> 16\u001b[0;31m     \u001b[0;32massert\u001b[0m \u001b[0mduplicate_count\u001b[0m\u001b[0;34m(\u001b[0m\u001b[0ms\u001b[0m\u001b[0;34m)\u001b[0m\u001b[0;34m==\u001b[0m\u001b[0mresult\u001b[0m\u001b[0;34m,\u001b[0m \u001b[0;34m\"%s fail\"\u001b[0m\u001b[0;34m%\u001b[0m\u001b[0;34m(\u001b[0m\u001b[0ms\u001b[0m\u001b[0;34m)\u001b[0m\u001b[0;34m\u001b[0m\u001b[0m\n\u001b[0m",
      "\u001b[0;31mAssertionError\u001b[0m: aabbcde fail"
     ]
    }
   ],
   "source": [
    "\"\"\"\n",
    "判断一个字符串中重复字符的个数，比如：\n",
    "\"abcde\" -> 0 # no characters repeat\n",
    "\"aabbcde\" -> 2 # 'a' and 'b'\n",
    "\"aabBcde\" -> 2 # 'a' occurs twice and 'b' twice , b and B是重复\n",
    "\"indivisibility\" -> 1 # 'i' occurs six times，不过只有i是重复的。\n",
    "\"Indivisibilities\" -> 2 # 'i' occurs seven times and 's' occurs twice\n",
    "\"aA11\" -> 2 # 'a' and '1'\n",
    "\"ABBA\" -> 2 # 'A' and 'B' each occur twice\n",
    "\"\"\"\n",
    "def duplicate_count(s):\n",
    "    # Your Code\n",
    "\n",
    "    return 0\n",
    "\n",
    "########### Test Code ################\n",
    "for s,result in ((\"abcde\",0), (\"aabbcde\", 2), (\"aabBcde\", 2), \\\n",
    "                 (\"indivisibility\", 1), (\"Indivisibilities\",2), \\\n",
    "                 (\"aA11\", 2), (\"ABBA\", 2)):\n",
    "    assert duplicate_count(s)==result, \"%s fail\"%(s)\n",
    "print(\"OK, All Test Pass!\")"
   ]
  },
  {
   "cell_type": "markdown",
   "metadata": {},
   "source": [
    "### 函数也是对象\n",
    "\n",
    "1. 可以赋给其他变量\n",
    "2. 可以作为函数返回值\n",
    "3. 可以作为其他函数的参数"
   ]
  },
  {
   "cell_type": "code",
   "execution_count": 29,
   "metadata": {},
   "outputs": [
    {
     "data": {
      "text/plain": [
       "True"
      ]
     },
     "execution_count": 29,
     "metadata": {},
     "output_type": "execute_result"
    }
   ],
   "source": [
    "# 赋值\n",
    "def is_prime(x):\n",
    "    # Your Code\n",
    "    \n",
    "    return True\n",
    "\n",
    "a = is_prime\n",
    "a(3)"
   ]
  },
  {
   "cell_type": "code",
   "execution_count": 35,
   "metadata": {},
   "outputs": [
    {
     "data": {
      "text/plain": [
       "200"
      ]
     },
     "execution_count": 35,
     "metadata": {},
     "output_type": "execute_result"
    }
   ],
   "source": [
    "# 返回值def f_add(a,b):  return a+b\n",
    "def f_mul(a,b):  return a*b\n",
    "def f_sub(a,b):  return a-b\n",
    "    \n",
    "def calc2(s):    \n",
    "    if s=='+':\n",
    "        return  f_add\n",
    "    elif s=='*':\n",
    "        return f_mul\n",
    "    elif s=='-':\n",
    "        return f_sub\n",
    "    else:\n",
    "        assert False, \"error\"\n",
    "\n",
    "calc2('*')(100, 2)"
   ]
  },
  {
   "cell_type": "code",
   "execution_count": 39,
   "metadata": {},
   "outputs": [
    {
     "name": "stdout",
     "output_type": "stream",
     "text": [
      "点菜完毕，开始做菜\n",
      "\n",
      "做了一份蛋炒饭\n",
      "做了一份肉丝面\n",
      "做了一份肉丝面\n",
      "做了一个肉夹馍\n",
      "做了一个肉夹馍\n",
      "做了一个肉夹馍\n",
      "\n",
      "做菜完毕，开始上菜\n"
     ]
    }
   ],
   "source": [
    "# 参数\n",
    "def do_danchaofan():\n",
    "    # 做蛋炒饭\n",
    "    print('做了一份蛋炒饭')\n",
    "\n",
    "def do_rousimian():\n",
    "    # 做肉丝面\n",
    "    print('做了一份肉丝面')\n",
    "    \n",
    "def do_roubing():\n",
    "    # 做肉夹馍\n",
    "    print('做了一个肉夹馍')\n",
    "\n",
    "\n",
    "# 点菜\n",
    "order = [(1, do_danchaofan), (2, do_rousimian), (3, do_roubing)]\n",
    "\n",
    "# 做菜\n",
    "def send_order(orders):\n",
    "    print(\"点菜完毕，开始做菜\\n\")\n",
    "    for nums, do_fan in orders:\n",
    "        for i in range(nums):\n",
    "            do_fan()\n",
    "    print(\"\\n做菜完毕，开始上菜\")\n",
    "\n",
    "send_order(order)"
   ]
  },
  {
   "cell_type": "markdown",
   "metadata": {},
   "source": [
    "## 闭包closure\n",
    "\n",
    "1. 嵌套函数\n",
    "2. 内部函数使用外部变量(通常是外部函数的参数)\n",
    "3. 外部函数返回内部函数"
   ]
  },
  {
   "cell_type": "code",
   "execution_count": 41,
   "metadata": {},
   "outputs": [
    {
     "name": "stdout",
     "output_type": "stream",
     "text": [
      "closure 4\n",
      "closure 8\n",
      "closure 16\n"
     ]
    }
   ],
   "source": [
    "# closure\n",
    "def pow_x(x):\n",
    "    def echo(value):\n",
    "        #x=2\n",
    "        return value**x\n",
    "    return echo\n",
    "\n",
    "lst = [pow_x(2), pow_x(3), pow_x(4)]\n",
    "for p in lst:\n",
    "    print(\"closure\",p(2))\n"
   ]
  },
  {
   "cell_type": "code",
   "execution_count": null,
   "metadata": {},
   "outputs": [],
   "source": [
    "\"\"\"\n",
    "\"\"\""
   ]
  },
  {
   "cell_type": "code",
   "execution_count": null,
   "metadata": {},
   "outputs": [],
   "source": [
    "\"\"\"\n",
    "\"\"\""
   ]
  },
  {
   "cell_type": "markdown",
   "metadata": {},
   "source": [
    "## 装饰器"
   ]
  },
  {
   "cell_type": "code",
   "execution_count": null,
   "metadata": {},
   "outputs": [],
   "source": [
    "\"\"\"\n",
    "\"\"\""
   ]
  },
  {
   "cell_type": "code",
   "execution_count": null,
   "metadata": {},
   "outputs": [],
   "source": [
    "\"\"\"\n",
    "\"\"\""
   ]
  },
  {
   "cell_type": "code",
   "execution_count": null,
   "metadata": {},
   "outputs": [],
   "source": [
    "\"\"\"\n",
    "\"\"\""
   ]
  },
  {
   "cell_type": "code",
   "execution_count": null,
   "metadata": {},
   "outputs": [],
   "source": [
    "for 作业 in 所有作业:\n",
    "    做作业\n",
    "    if 实在做不动了，不想做了:\n",
    "        break\n",
    "else:\n",
    "    出去玩\n",
    "    \n",
    "# 自己想一个实际的例子"
   ]
  },
  {
   "cell_type": "code",
   "execution_count": null,
   "metadata": {},
   "outputs": [],
   "source": [
    "sum = 0\n",
    "for x in [1, 2, 3, 4]:\n",
    "    sum += x\n",
    "else:\n",
    "    print(sum)"
   ]
  },
  {
   "cell_type": "code",
   "execution_count": null,
   "metadata": {},
   "outputs": [],
   "source": [
    "items = [\"小方\", \"小白\", \"小三\", \"小王\"] # 名单\n",
    "key = \"小李\" # 需要找的人名\n",
    "\n",
    "for item in items: # 遍历\n",
    "    if item == key: # 判断\n",
    "        print(key, \"找到了\")\n",
    "        break\n",
    "else:\n",
    "    print(key, \"没找到\")"
   ]
  },
  {
   "cell_type": "code",
   "execution_count": null,
   "metadata": {},
   "outputs": [],
   "source": [
    "# 给一个字符串，要求处理后输出结果如下：\n",
    "# \"abcd\"    -->  \"A-Bb-Ccc-Dddd\"\n",
    "# \"RqaEzty\" --> \"R-Qq-Aaa-Eeee-Zzzzz-Tttttt-Yyyyyyy\"\n",
    "# \"cwAt\"    --> \"C-Ww-Aaa-Tttt\"\n",
    "\n",
    "txt = [\"abcd\", \"RqaEzty\", \"cwAt\"]\n",
    "# Your code\n",
    "\n",
    "\n"
   ]
  },
  {
   "cell_type": "markdown",
   "metadata": {},
   "source": [
    "### 列表解析"
   ]
  },
  {
   "cell_type": "code",
   "execution_count": null,
   "metadata": {},
   "outputs": [],
   "source": [
    "# 求10以内大于0的偶数\n",
    "[a for a in range(10, 0, -1) if a%2==0]"
   ]
  },
  {
   "cell_type": "code",
   "execution_count": null,
   "metadata": {},
   "outputs": [],
   "source": [
    "# 去除l1里的重复字符\n",
    "l1 = ['b','c','d','b','c','a','a']\n",
    "l2 = []\n",
    "[l2.append(i) for i in l1 if not i in l2]\n",
    "print(l2)"
   ]
  },
  {
   "cell_type": "code",
   "execution_count": null,
   "metadata": {},
   "outputs": [],
   "source": [
    "a = [(x,y) for x, y in ((1,5),(2,6),(3,7),(4,8)) if x*y > 25]\n",
    "b = [(x,y) for x in (1,2,3,4) for y in (5,6,7,8) if x*y > 25]\n",
    "print(a)\n",
    "print(b)\n",
    "\n",
    "# 这两种写法有区别吗？"
   ]
  },
  {
   "cell_type": "markdown",
   "metadata": {},
   "source": [
    "### 异常处理\n",
    "\n",
    "try/except，  try后语句有异常发生后执行except  \n",
    "try/finally， 无论异常是否发生都执行finally  \n",
    "raise error(message)    触发异常  \n",
    "assert condition，message   \n",
    "条件触发错误，触发后打印信息，并终止程序\n"
   ]
  },
  {
   "cell_type": "code",
   "execution_count": null,
   "metadata": {},
   "outputs": [],
   "source": [
    "#n[1]         #NameError\n",
    "#n=2; n[1]    #TypeError\n",
    "#n=[2]; n[1]  #IndexError\n",
    "#n={}; n[1]   #KeyError\n",
    "try:\n",
    "    n=2\n",
    "    #raise IndexError(\"error\")\n",
    "    assert n==0,\"assert error\"\n",
    "except Exception as e: # support python2 and python3\n",
    "    print(type(e), e)\n",
    "finally:\n",
    "    print('Over')"
   ]
  },
  {
   "cell_type": "code",
   "execution_count": null,
   "metadata": {},
   "outputs": [],
   "source": [
    "# 经常用于测试，判断输出结果是否和预期一致。\n",
    "assert n==0,\"assert error\""
   ]
  },
  {
   "cell_type": "markdown",
   "metadata": {},
   "source": [
    "**作业**\n",
    "\n",
    "1. 把自己想的三个栗子发到讨论区\n",
    "2. 把100以内的两个乘积大于25的数挑出来。分别用列表解析和for循环实现。并且分别评估两种方式的时间。\n",
    "3. 完成猜数字程序\n",
    "4. 优化猜数字"
   ]
  },
  {
   "cell_type": "code",
   "execution_count": null,
   "metadata": {},
   "outputs": [],
   "source": [
    "from __future__ import print_function\n",
    "from __future__ import unicode_literals\n",
    "from builtins import input\n",
    "\n",
    "print(\"你好, 你很幸运, 我是一个路过的神仙, 我有一个秘密!\")\n",
    "print(\"我的秘密是一个从1到99的数字。\")\n",
    "print(\"如果你猜到它, 那说明你真的很幸运, 赶紧去买彩票吧!\")\n",
    "\n",
    "# 1. 随机产生要猜的数字\n",
    "# Your code\n",
    "\n",
    "# 2. 循环获得用户输入\n",
    "while True:\n",
    "    # Your code\n",
    "    \n",
    "    # 3. 判断用户输入和结果的关系，输出提示“你猜的数太大了”， 或者“你猜的数太小了”\n",
    "    #    正确后输出结果“恭喜你，猜对了！”\n",
    "    # Your code\n",
    "    "
   ]
  },
  {
   "cell_type": "code",
   "execution_count": null,
   "metadata": {},
   "outputs": [],
   "source": [
    "# 优化思路：\n",
    "# 1. 猜的次数太多，总能猜对，如果最多只能猜6次，6次猜不对则Game Over。如何修改\n",
    "# 2. 用户输入错误异常处理，如果用户输入非数字的字符，如何进行异常处理，提示用户并要求用户重新输入。"
   ]
  }
 ],
 "metadata": {
  "kernelspec": {
   "display_name": "Python 3",
   "language": "python",
   "name": "python3"
  },
  "language_info": {
   "codemirror_mode": {
    "name": "ipython",
    "version": 3
   },
   "file_extension": ".py",
   "mimetype": "text/x-python",
   "name": "python",
   "nbconvert_exporter": "python",
   "pygments_lexer": "ipython3",
   "version": "3.6.4"
  }
 },
 "nbformat": 4,
 "nbformat_minor": 2
}
