{
 "cells": [
  {
   "cell_type": "markdown",
   "metadata": {},
   "source": [
    "# 15天入门Python3\n",
    "\n",
    "CopyRight by 黑板客  \n",
    "转载请联系heibanke_at_aliyun.com"
   ]
  },
  {
   "cell_type": "markdown",
   "metadata": {},
   "source": [
    "**上节作业**\n",
    "\n",
    "八皇后\n"
   ]
  },
  {
   "cell_type": "code",
   "execution_count": null,
   "metadata": {
    "scrolled": true
   },
   "outputs": [],
   "source": [
    "%load day08/eight_queen.py\n"
   ]
  },
  {
   "cell_type": "code",
   "execution_count": null,
   "metadata": {},
   "outputs": [],
   "source": [
    "a = gen_n_queen(5)\n"
   ]
  },
  {
   "cell_type": "code",
   "execution_count": null,
   "metadata": {},
   "outputs": [],
   "source": [
    "printsolution(next(a))"
   ]
  },
  {
   "cell_type": "markdown",
   "metadata": {},
   "source": [
    "## day09：谈对象—高富帅和白富美\n",
    "\n",
    "1. <a href=\"#1\">面向对象编程</a>\n",
    "2. <a href=\"#2\">**封装**, 属性和方法</a>\n",
    "3. <a href=\"#3\">**继承**</a>\n",
    "4. <a href=\"#4\">**多态** 与 重载</a>\n",
    "5. <a href=\"#5\">作业</a>"
   ]
  },
  {
   "cell_type": "markdown",
   "metadata": {},
   "source": [
    "## <a name=\"1\">面向对象编程</a>\n",
    "\n",
    "面向对象和面向过程的区别：\n",
    "\n",
    "1. 面向过程编程 (OPP) 定义各种数据，定义各种函数，然后操作数据和函数输出结果，解决一类问题。面向过程适合解决特定的简单问题。\n",
    "2. 面向对象编程 (OOP) 最重要的是把用到的数据和方法抽象成为类。使用不同的类进行建模。达到代码模块化。适合解决多变，复杂，不断更新的问题。\n",
    "\n",
    "三大特性：封装，继承，多态。"
   ]
  },
  {
   "cell_type": "code",
   "execution_count": null,
   "metadata": {},
   "outputs": [],
   "source": [
    "class A(object):\n",
    "    nums_A = 0\n",
    "    def __init__(self, data):\n",
    "        # 初始化\n",
    "        self.data = data\n",
    "        A.nums_A += 1\n",
    "        \n",
    "    def methods(self):\n",
    "        self.data -= 1\n",
    "\n",
    "    \n",
    "a = A(3)\n",
    "print(a.data, A.nums_A)\n",
    "\n",
    "b = A(5)\n",
    "print(b.data, A.nums_A)\n",
    "\n",
    "a.methods()\n",
    "c = A(6)\n",
    "\n",
    "print(a.data, A.nums_A)\n"
   ]
  },
  {
   "cell_type": "code",
   "execution_count": null,
   "metadata": {},
   "outputs": [],
   "source": [
    "%%html\n",
    "<style>\n",
    ".rendered_html td, .rendered_html th {text-align: left;}\n",
    "</style>"
   ]
  },
  {
   "cell_type": "markdown",
   "metadata": {},
   "source": [
    "| A |         \n",
    "| :- |\n",
    "|- data| \n",
    "|+ methods()| "
   ]
  },
  {
   "cell_type": "markdown",
   "metadata": {},
   "source": [
    "举个王者荣耀简化版的例子说明一下：\n",
    "\n",
    "你要开发一个游戏，游戏中每个玩家都是一个英雄。英雄有两种，比如亚瑟是近战英雄，后羿是远程英雄。\n",
    "每种英雄都有不同的属性。\n",
    "\n",
    "1. name\n",
    "2. defence\n",
    "3. attack\n",
    "4. life\n",
    "\n",
    "请模拟游戏里两个英雄互相PK的过程。看谁先game over。\n",
    "\n",
    "<img src=\"day09/yase_vs_houyi_small.png\" width=600></img>\n",
    "\n"
   ]
  },
  {
   "cell_type": "code",
   "execution_count": null,
   "metadata": {
    "scrolled": true
   },
   "outputs": [],
   "source": [
    "# %load day09/pk_opp_01.py\n",
    "# 面向过程\n",
    "def cal_damage(A, B):\n",
    "    \"\"\"\n",
    "    计算A对B造成的伤害\n",
    "    \"\"\"\n",
    "    return A['attack'] * (1-B['defence']/(B['defence']+400))\n",
    "\n",
    "\n",
    "tank = {'name':'亚瑟1', 'defence':200, 'attack':80, 'life':600}\n",
    "archer = {'name':'后羿1', 'defence':100, 'attack':200, 'life':300}\n",
    "\n",
    "\n",
    "def game_test(A, B):\n",
    "    while A['life']>0 and B['life']>0:\n",
    "        damage1 = cal_damage(A, B) #A对B造成伤害\n",
    "        damage2 = cal_damage(B, A) #B对A造成伤害\n",
    "\n",
    "        A['life'] -= damage2\n",
    "        print('%s 对 %s 造成 %.2f 伤害，%s 还剩 %.2f 生命。'%(B['name'], A['name'], damage2, A['name'], A['life']))\n",
    "        B['life'] -= damage1\n",
    "        print('%s 对 %s 造成 %.2f 伤害，%s 还剩 %.2f 生命。'%(A['name'], B['name'], damage1, B['name'], B['life']))\n",
    "\n",
    "        if A['life']<0:\n",
    "            print('%s 被打败了'%(A['name']))\n",
    "        if B['life']<0:\n",
    "            print('%s 被打败了'%(B['name']))\n",
    "\n",
    "game_test(tank, archer)"
   ]
  },
  {
   "cell_type": "markdown",
   "metadata": {},
   "source": [
    "## <a name=\"2\">封装，属性和方法</a>\n"
   ]
  },
  {
   "cell_type": "markdown",
   "metadata": {},
   "source": [
    "|Hero|         \n",
    "| :- |\n",
    "|- name  <br> - defence <br> - attack <br> - life|\n",
    "|+ \\__init\\__ (name, defence, attack, life) <br> + damage (enemy) <br> + alive ()| \n",
    "\n",
    "|Game|         \n",
    "| :- |\n",
    "|- A  <br> - B|\n",
    "|+ \\__init\\__ (A, B) <br> + start () <br> + end ()| "
   ]
  },
  {
   "cell_type": "code",
   "execution_count": null,
   "metadata": {},
   "outputs": [],
   "source": [
    "# %load day09/pk_oop_01.py\n",
    "class Hero(object):\n",
    "    def __init__(self, name, defence, attack, life):\n",
    "        self.name = name\n",
    "        self.defence = defence\n",
    "        self.attack = attack\n",
    "        self.life = life\n",
    "        \n",
    "    def damage(self, enemy):\n",
    "        d = self.attack * (1-enemy.defence/(enemy.defence+400))\n",
    "        enemy.life -= d\n",
    "        print('%s 对 %s 造成 %.2f 伤害，%s 还剩 %.2f 生命。'%(self.name, enemy.name, d, enemy.name, enemy.life))\n",
    "    \n",
    "    def alive(self):\n",
    "        return self.life > 0\n",
    "    \n",
    "class Game(object):\n",
    "    def __init__(self, A, B):\n",
    "        self.A = A\n",
    "        self.B = B\n",
    "        \n",
    "    def start(self):\n",
    "        while self.A.alive() and self.B.alive():\n",
    "            self.A.damage(self.B)\n",
    "            self.B.damage(self.A)\n",
    "        self.end()\n",
    "        \n",
    "    def end(self):\n",
    "        if not self.B.alive():\n",
    "            print('%s 被打败了'%(self.B.name))\n",
    "        if not self.A.alive():\n",
    "            print('%s 被打败了'%(self.A.name))\n",
    "            \n",
    "def game_test():\n",
    "    A = Hero('亚瑟1', 200, 80, 600)\n",
    "    B = Hero('后羿1', 100, 200, 300)\n",
    "\n",
    "\n",
    "    game = Game(A, B)\n",
    "    game.start()\n",
    "    \n",
    "game_test()"
   ]
  },
  {
   "cell_type": "markdown",
   "metadata": {},
   "source": [
    "封装：对象的属性建议只能通过调用对象的方法来修改。只对对象的方法可见。"
   ]
  },
  {
   "cell_type": "markdown",
   "metadata": {},
   "source": [
    "问题：当玩家很多时，生成亚瑟和后羿的属性只需要改变name，而其他属性是统一的。怎么更简化？"
   ]
  },
  {
   "cell_type": "markdown",
   "metadata": {},
   "source": [
    "## <a name=\"3\">继承</a>\n",
    "\n",
    "子类继承父类的属性和方法。"
   ]
  },
  {
   "cell_type": "code",
   "execution_count": null,
   "metadata": {},
   "outputs": [],
   "source": [
    "# %load day09/pk_oop_02.py\n",
    "from day09.pk_oop_01 import Game\n",
    "\n",
    "class Hero(object):\n",
    "    nums = 0\n",
    "    def __init__(self, name, defence, attack, life):\n",
    "        self.name = name\n",
    "        self.defence = defence\n",
    "        self.attack = attack\n",
    "        self.life = life\n",
    "        Hero.nums += 1\n",
    "        \n",
    "    def damage(self, enemy):\n",
    "        d = self.attack * (1-enemy.defence/(enemy.defence+400))\n",
    "        enemy.life -= d\n",
    "        print('%s 对 %s 造成 %.2f 伤害，%s 还剩 %.2f 生命。'%(self.name, enemy.name, d, enemy.name, enemy.life))\n",
    "    \n",
    "    def alive(self):\n",
    "        return self.life > 0\n",
    "\n",
    "class YaSe(Hero):\n",
    "    nums = 0\n",
    "    def __init__(self, name):\n",
    "        Hero.__init__(self, name, 200, 80, 600)\n",
    "        YaSe.nums += 1\n",
    "        \n",
    "class HouYi(Hero):\n",
    "    nums = 0\n",
    "    def __init__(self, name):\n",
    "        Hero.__init__(self, name, 100, 200, 300)\n",
    "        HouYi.nums += 1\n",
    "\n",
    "        \n",
    "def game_test():\n",
    "    A = YaSe('亚瑟1')\n",
    "    B = HouYi('后羿1')\n",
    "\n",
    "\n",
    "    game = Game(A, B)\n",
    "    game.start()\n",
    "    \n",
    "game_test()"
   ]
  },
  {
   "cell_type": "code",
   "execution_count": null,
   "metadata": {},
   "outputs": [],
   "source": [
    "class YaSe(Hero):\n",
    "    nums = 0\n",
    "    def __init__(self, name):\n",
    "        Hero.__init__(self, name, 200, 80, 600)\n",
    "        YaSe.nums += 1\n",
    "game_test()"
   ]
  },
  {
   "cell_type": "code",
   "execution_count": null,
   "metadata": {},
   "outputs": [],
   "source": [
    "print(Hero.nums, YaSe.nums, HouYi.nums)"
   ]
  },
  {
   "cell_type": "markdown",
   "metadata": {},
   "source": [
    "## <a name=\"4\">多态和重载\n",
    "    \n",
    "多态，方法和子类动态绑定\n",
    "\n",
    "重载，多个同名的方法，参数不同。"
   ]
  },
  {
   "cell_type": "markdown",
   "metadata": {},
   "source": [
    "让亚瑟的攻击带有吸血功能，每次将伤害的10%转化成自己的生命，看能否打败后羿。"
   ]
  },
  {
   "cell_type": "code",
   "execution_count": null,
   "metadata": {},
   "outputs": [],
   "source": [
    "class YaSe(Hero):\n",
    "    def __init__(self, name):\n",
    "        Hero.__init__(self, name, 200, 80, 2000)\n",
    "\n",
    "    def damage(self, enemy, xixie = 0.1):\n",
    "        d = self.attack * (1-enemy.defence/(enemy.defence+400))\n",
    "        enemy.life -= d\n",
    "        self.life += d * xixie\n",
    "        print('%s 对 %s 造成 %.2f 伤害，%s 还剩 %.2f 生命。'%(self.name, enemy.name, d, enemy.name, enemy.life))\n",
    "\n",
    "game_test()"
   ]
  },
  {
   "cell_type": "markdown",
   "metadata": {},
   "source": [
    "<a name=\"5\">作业：（面向对象角度实现选做）</a>\n",
    "\n",
    "1. 如何让英雄可以使用道具，比如铠甲能够增加defence，增加生命。弓箭可以增加attack。\n",
    "2. 如果考虑装备有其他更多的作用，比如弓箭可以减少对方的一部分defence，铠甲受到伤害可以反弹一部分给对方，如何设计？\n",
    "3. 如果道具能让英雄有吸血功能，而且很多种英雄都有吸血功能，如何设计代码？\n",
    "4. 从面向过程和面向对象两个角度考虑实现上面的功能，对比不同。\n",
    "\n",
    "欢迎大家把做好的作业分享到讨论区。\n"
   ]
  }
 ],
 "metadata": {
  "kernelspec": {
   "display_name": "Python 3",
   "language": "python",
   "name": "python3"
  },
  "language_info": {
   "codemirror_mode": {
    "name": "ipython",
    "version": 3
   },
   "file_extension": ".py",
   "mimetype": "text/x-python",
   "name": "python",
   "nbconvert_exporter": "python",
   "pygments_lexer": "ipython3",
   "version": "3.6.4"
  }
 },
 "nbformat": 4,
 "nbformat_minor": 2
}
