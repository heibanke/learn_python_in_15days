{
 "cells": [
  {
   "cell_type": "markdown",
   "metadata": {},
   "source": [
    "# 15天入门Python3\n",
    "\n",
    "CopyRight by 黑板客  \n",
    "转载请联系heibanke_at_aliyun.com"
   ]
  },
  {
   "cell_type": "markdown",
   "metadata": {},
   "source": [
    "上节作业\n",
    "\n",
    "1. 判断字符串e中是否包含python字符串，并且告诉位置\n",
    "2. 判断字符串e中字母'o', 'n'的个数。\n",
    "3. 使字符串e的首字母大写\n",
    "4. 将字符串 'c++, python2, python3, perl, ruby, java, javascript, php4, php5, c'通过程序修改为\n",
    "   'c++python2python3perlrubyjavajavascriptphp4php5c'  \n",
    "5. 利用random模块模拟扔硬币，正面为True，反面为False。随机输出正面或反面。"
   ]
  },
  {
   "cell_type": "code",
   "execution_count": null,
   "metadata": {},
   "outputs": [],
   "source": [
    "from __future__ import print_function\n",
    "\n",
    "# 参考\n",
    "e = \"learn-python-from-zero\"\n",
    "e.index('python') #1\n",
    "e.count('o') #2\n",
    "e.count('n') #2\n",
    "e.capitalize() #3\n",
    "\n",
    "txt = 'c++, python2, python3, perl, ruby, java, javascript, php4, php5, c'\n",
    "print(txt.replace(', ', '')) #4\n",
    "\n",
    "import random\n",
    "print(random.random() > 0.5) #5"
   ]
  },
  {
   "cell_type": "markdown",
   "metadata": {},
   "source": [
    "## day03：存储／操作数据集（列表，元组，字典，集合，文件）\n",
    "\n",
    "1. <a href=\"#1\">列表</a>\n",
    "2. <a href=\"#2\">元组</a>\n",
    "3. <a href=\"#3\">字典</a>\n",
    "4. <a href=\"#4\">集合</a>\n",
    "5. <a href=\"#5\">文件</a>\n",
    "6. <a href=\"#6\">作业</a>\n",
    "\n",
    "### <a name=\"1\">列表</a>\n",
    "列表和元组都是有顺序的数据的集合。列表和元组里的元素可以是不同种类的。\n",
    "\n",
    "比如你做过的每一份蛋炒饭，甚至你做过的每件事情，你学的每个知识点等。\n",
    "\n",
    "列表中的元素可以修改，元组中的元素不能修改。\n"
   ]
  },
  {
   "cell_type": "code",
   "execution_count": null,
   "metadata": {},
   "outputs": [],
   "source": [
    "# 创建\n",
    "a = []\n",
    "a = [1, '123', True]\n",
    "a = [0,1,2,3,4,5,6,7,8,9,10]\n",
    "\n",
    "# 取某个值 a[index]\n",
    "print(a[0],a[5],a[-1])\n",
    "\n",
    "# 取连续的几个值 a[start:stop]\n",
    "print(a[0:4], a[:5], a[-4:])\n",
    "\n",
    "# 取中间某段 a[start: end: step]\n",
    "print(a[3:7:1], a[6:2:-1])\n",
    "\n",
    "# range(n)得到0～n之间的整数\n",
    "from builtins import range\n",
    "# python2和python3的range返回值不同\n",
    "\n",
    "print(list(range(10)))\n",
    "\n",
    "# 倒序\n",
    "print(list(range(10, 0, -1)))\n"
   ]
  },
  {
   "cell_type": "markdown",
   "metadata": {},
   "source": [
    " <img src=\"./day03/ref_list.png\" width = \"500\" alt=\"图片名称\" align=center />"
   ]
  },
  {
   "cell_type": "code",
   "execution_count": null,
   "metadata": {},
   "outputs": [],
   "source": [
    "a = [1,2,3]\n",
    "a_ref = a\n",
    "c = a[:] # 或者a.copy()\n",
    "\n",
    "a[2] = 100\n",
    "print(a, a_ref)\n",
    "# b是a的引用, 指向同一个对象，相当于a的另一个名字。\n",
    "\n",
    "print(a, c)\n",
    "# c是a的复制, c指向的是不同的对象"
   ]
  },
  {
   "cell_type": "code",
   "execution_count": null,
   "metadata": {},
   "outputs": [],
   "source": [
    "# 操作\n",
    "a=[1,2,1000]\n",
    "a.append(300) # 在a的后面添加元素\n",
    "print(a)\n",
    "\n",
    "a.insert(2,50) # 插入到指定位置\n",
    "print(a)\n",
    "\n",
    "print(a.count(50)) # 计算元素50的个数\n",
    "\n",
    "print(a.index(50)) # 计算元素50的位置\n",
    "\n",
    "a.pop()   # 弹出一个元素\n",
    "print(a)\n",
    "\n",
    "a.sort(reverse=True)   # 排序\n",
    "print(a)\n",
    "\n",
    "a.reverse()\n",
    "print(a)\n",
    "\n",
    "a.extend([1,2])      # 将另一个list扩展到原有list后面。\n",
    "print(a)\n",
    "\n",
    "del a[0]   # 删除元素\n",
    "print(a)\n"
   ]
  },
  {
   "cell_type": "markdown",
   "metadata": {},
   "source": [
    "### <a name=\"2\">元组</a>"
   ]
  },
  {
   "cell_type": "code",
   "execution_count": null,
   "metadata": {},
   "outputs": [],
   "source": [
    "# 创建\n",
    "a = (1,2,50,1000)\n",
    "b = (1)\n",
    "c = (1,) # 创建1个元素的元组\n",
    "d = ()\n",
    "\n",
    "print(b, c)\n",
    "a[2] = 100"
   ]
  },
  {
   "cell_type": "code",
   "execution_count": null,
   "metadata": {},
   "outputs": [],
   "source": [
    "print(a.count(50))\n",
    "\n",
    "print(a.index(50))\n",
    "\n",
    "print(list(a))\n",
    "\n",
    "print(tuple(a))\n",
    "\n",
    "del a"
   ]
  },
  {
   "cell_type": "markdown",
   "metadata": {},
   "source": [
    "### <a name=\"3\">字典</a>"
   ]
  },
  {
   "cell_type": "markdown",
   "metadata": {},
   "source": [
    "无序的key-value数据，适合根据key进行查询。就像咱们查字典一样。\n",
    "\n",
    "比如用户ID做key，用户信息做value。\n",
    "\n",
    "学生学号做key，学生信息做value。\n",
    "\n",
    "订单ID做key，订单详细信息做value。"
   ]
  },
  {
   "cell_type": "code",
   "execution_count": null,
   "metadata": {},
   "outputs": [],
   "source": [
    "# 创建\n",
    "\n",
    "a = {}\n",
    "a = {'xiaoli':33, 'xiaowang':20, 'xiaozhang':40}\n",
    "b = dict(xiaoli=33,xiaowang=20,xiaozhang=40)\n",
    "\n",
    "c = (('xiaoli',33),('xiaowang',20),('xiaozhang',40))\n",
    "d = dict(c) # 这里c也可以是list\n",
    "\n",
    "# 当一行太长需要换行时，可以用\\反斜杠来表示换行，下一行需要缩进。\n",
    "a = {'1':{'username':'xiaoli', 'password':'123123', 'email':'1@11.com'}, \\\n",
    "     '2':{'username':'xiaowang', 'password':'123123', 'email':'2@11.com'}, \\\n",
    "     '3':{'username':'xiaozhang', 'password':'123123', 'email':'2@11.com'}, \\\n",
    "    }\n",
    "\n",
    "print(d)\n",
    "print(dir(a))"
   ]
  },
  {
   "cell_type": "code",
   "execution_count": null,
   "metadata": {},
   "outputs": [],
   "source": [
    "# 访问\n",
    "\n",
    "print(a['1']['username'])\n",
    "print(a.keys(), a.values())\n",
    "print('1' in a) # 查看某个id是否在字典里\n",
    "\n",
    "# 设置默认值\n",
    "\n",
    "b = a.get('4',None)\n",
    "print(b)\n",
    "a['4'] # 直接访问不存在的key会出错"
   ]
  },
  {
   "cell_type": "code",
   "execution_count": null,
   "metadata": {},
   "outputs": [],
   "source": [
    "#--------如何将两个等长度的list合并成dict\n",
    "text = 'c++ python shell ruby java javascript c'\n",
    "code_num = [38599, 100931, 26153, 93142, 84275, 184220, 46843]\n",
    "\n",
    "text_list=text.split(' ')\n",
    "code_dict = dict(zip(text_list,code_num))\n",
    "print(code_dict)"
   ]
  },
  {
   "cell_type": "code",
   "execution_count": null,
   "metadata": {},
   "outputs": [],
   "source": [
    "# 引用和copy\n",
    "\n",
    "a_ref = code_dict\n",
    "a_copy = code_dict.copy()\n",
    "\n",
    "#--------update, del, copy, clear\n",
    "other_code = {'php':78014,'objective-c':34444}\n",
    "code_dict.update(other_code)\n",
    "print(code_dict)\n",
    "\n",
    "del code_dict['c++']\n",
    "print('ref = ',a_ref)\n",
    "print('copy = ', a_copy)\n",
    "a_ref.clear()\n",
    "print(a_ref)\n",
    "\n",
    "code_dict = a_copy.copy() # 为了让这段代码可以单独执行"
   ]
  },
  {
   "cell_type": "markdown",
   "metadata": {},
   "source": [
    "### python2 VS python3\n",
    "\n",
    "python2: viewkeys, viewvalues\n",
    "\n",
    "python3: keys, values\n",
    "\n",
    "six.viewkeys\n",
    "\n",
    "six.viewvalues"
   ]
  },
  {
   "cell_type": "code",
   "execution_count": null,
   "metadata": {},
   "outputs": [],
   "source": [
    "from six import viewkeys\n",
    "from future.utils import viewkeys\n",
    "\n",
    "a = {'xiaoli':33, 'xiaowang':20, 'xiaozhang':40}\n",
    "viewkeys(a)\n"
   ]
  },
  {
   "cell_type": "markdown",
   "metadata": {},
   "source": [
    "### <a name=\"4\">集合</a>\n",
    "\n",
    "无顺序，无重复的数据集，只有key，没有value。"
   ]
  },
  {
   "cell_type": "code",
   "execution_count": null,
   "metadata": {},
   "outputs": [],
   "source": [
    "a = set([1,2,3,2,3,1])\n",
    "print(a)"
   ]
  },
  {
   "cell_type": "code",
   "execution_count": null,
   "metadata": {},
   "outputs": [],
   "source": [
    "b = a.copy()\n",
    "b.add(5)\n",
    "b.add(1)\n",
    "b.remove(2)\n",
    "print(b)"
   ]
  },
  {
   "cell_type": "code",
   "execution_count": null,
   "metadata": {},
   "outputs": [],
   "source": [
    "print(a & b)\n",
    "print(a | b)"
   ]
  },
  {
   "cell_type": "markdown",
   "metadata": {},
   "source": [
    "## <a name=\"5\">文件</a>\n",
    "\n",
    "1. byte字符串\n",
    "2. unicode字符串"
   ]
  },
  {
   "cell_type": "code",
   "execution_count": null,
   "metadata": {},
   "outputs": [],
   "source": [
    "\"\"\"\n",
    "# 这段程序在python2可以执行。\n",
    "\n",
    "# python2里有两种字符串类型，str和unicode\n",
    "# str是字节串，由unicode经过编码(encode)后的字节组成的\n",
    "# unicode是真正意义上的字符串，由字符组成\n",
    "sstr = '\\xe4\\xbd\\xa0\\xe5\\xa5\\xbd'  # python2里也可以加前缀b。因为python2默认是字节串。\n",
    "sstr1 = u\"你好\"\n",
    "sstr2 = u\"你好\".encode(\"utf-8\")  \n",
    "sstr3 = sstr.decode('utf-8')\n",
    "print(repr(sstr),len(sstr))  #11  \n",
    "print(repr(sstr1) ,len(sstr1))\n",
    "print(repr(sstr2) ,len(sstr2))\n",
    "print(repr(sstr3) ,len(sstr3))\n",
    "\n",
    "\"\"\""
   ]
  },
  {
   "cell_type": "code",
   "execution_count": null,
   "metadata": {},
   "outputs": [],
   "source": [
    "# python3里也有两种字符串类型，bytes和str\n",
    "# bytes是字节串，str是unicode字符串。\n",
    "# 下面这句使得python2里的中文无需前缀u。\n",
    "from __future__ import unicode_literals\n",
    "\n",
    "sstr = b'\\xe4\\xbd\\xa0\\xe5\\xa5\\xbd' # 这里的前缀b不能去掉。因为python3默认是unicode字符串。\n",
    "sstr1 = \"你好\"\n",
    "sstr2 = \"你好\".encode('utf-8')\n",
    "sstr3 = sstr.decode('utf-8')\n",
    "print(repr(sstr),len(sstr))  #11  \n",
    "print(repr(sstr1) ,len(sstr1))\n",
    "print(repr(sstr2) ,len(sstr2))\n",
    "print(repr(sstr3) ,len(sstr3))\n",
    "\n",
    "print(sstr + sstr2, sstr1 + sstr3)\n"
   ]
  },
  {
   "cell_type": "code",
   "execution_count": null,
   "metadata": {},
   "outputs": [],
   "source": [
    "# 加下面这句是为了python2和python3统一打开文件的方式\n",
    "from io import open\n",
    "\n",
    "f = open('day03/chinese_r.txt', 'rt')\n",
    "f2 = open('day03/chinese_w.txt', 'wt')\n",
    "f3 = open('day03/chinese_a.txt', 'at')\n",
    "\n",
    "s = f.read()\n",
    "f2.write(s)\n",
    "f3.write(s)\n",
    "\n",
    "f.close()\n",
    "f2.close()\n",
    "f3.close()\n",
    "\n",
    "help(open)"
   ]
  },
  {
   "cell_type": "markdown",
   "metadata": {},
   "source": [
    "<a name=\"6\">**作业**</a>\n",
    "\n",
    "1. 熟悉列表，字典等的基本操作方法\n",
    "2. 试着在tuple里放入list元素\n",
    "3. 修改tuple里的list，看tuple是否修改\n",
    "4. 试着新建文件，并往文件里写入内容保存后，再把内容读出。"
   ]
  }
 ],
 "metadata": {
  "kernelspec": {
   "display_name": "Python 3",
   "language": "python",
   "name": "python3"
  },
  "language_info": {
   "codemirror_mode": {
    "name": "ipython",
    "version": 3
   },
   "file_extension": ".py",
   "mimetype": "text/x-python",
   "name": "python",
   "nbconvert_exporter": "python",
   "pygments_lexer": "ipython3",
   "version": "3.6.4"
  }
 },
 "nbformat": 4,
 "nbformat_minor": 2
}
