{
 "cells": [
  {
   "cell_type": "markdown",
   "metadata": {},
   "source": [
    "# 15天入门Python3\n",
    "\n",
    "CopyRight by 黑板客  \n",
    "转载请联系heibanke_at_aliyun.com"
   ]
  },
  {
   "cell_type": "markdown",
   "metadata": {},
   "source": [
    "上节作业\n",
    "\n",
    "1. 判断字符串e中是否包含python字符串，并且告诉位置\n",
    "2. 判断字符串e中字母'o', 'n'的个数。\n",
    "3. 使字符串e的首字母大写\n",
    "4. 将字符串 'c++, python2, python3, perl, ruby, java, javascript, php4, php5, c'通过程序修改为\n",
    "   'c++python2python3perlrubyjavajavascriptphp4php5c'  \n",
    "5. 利用random模块模拟扔硬币，正面为True，反面为False。随机输出正面或反面。"
   ]
  },
  {
   "cell_type": "code",
   "execution_count": 1,
   "metadata": {},
   "outputs": [
    {
     "name": "stdout",
     "output_type": "stream",
     "text": [
      "c++python2python3perlrubyjavajavascriptphp4php5c\n",
      "False\n"
     ]
    }
   ],
   "source": [
    "# 参考\n",
    "e = \"learn-python-from-zero\"\n",
    "e.index('python') #1\n",
    "e.count('o') #2\n",
    "e.count('n') #2\n",
    "e.capitalize() #3\n",
    "\n",
    "txt = 'c++, python2, python3, perl, ruby, java, javascript, php4, php5, c'\n",
    "print(txt.replace(', ', '')) #4\n",
    "\n",
    "import random\n",
    "print(random.random() > 0.5) #5"
   ]
  },
  {
   "cell_type": "markdown",
   "metadata": {},
   "source": [
    "## day03：复合对象（列表，元组，字典，集合）\n",
    "### 列表\n",
    "列表和元组都是有顺序的数据的集合。\n",
    "\n",
    "比如你做过的每一份蛋炒饭，甚至你做的所有的菜，因为列表和元组里的元素可以是不同种类的。\n",
    "\n",
    "列表中的元素可以修改，元组中的元素不能修改。\n"
   ]
  },
  {
   "cell_type": "code",
   "execution_count": 6,
   "metadata": {},
   "outputs": [
    {
     "name": "stdout",
     "output_type": "stream",
     "text": [
      "0 5 10\n",
      "[0, 1, 2, 3] [0, 1, 2, 3, 4] [7, 8, 9, 10]\n",
      "[3, 4, 5, 6] [6, 5, 4, 3]\n"
     ]
    }
   ],
   "source": [
    "# 创建\n",
    "a = []\n",
    "a = [1, '123', True]\n",
    "a = [0,1,2,3,4,5,6,7,8,9,10]\n",
    "# 取某个值\n",
    "print(a[0],a[5],a[-1])\n",
    "\n",
    "# 取连续的几个值\n",
    "print(a[0:4], a[:5], a[-4:])\n",
    "\n",
    "# 取中间某段\n",
    "print(a[3:7:1], a[6:2:-1])\n"
   ]
  },
  {
   "cell_type": "code",
   "execution_count": 8,
   "metadata": {},
   "outputs": [
    {
     "name": "stdout",
     "output_type": "stream",
     "text": [
      "[1, 2, 100] [1, 2, 100]\n",
      "[1, 2, 1000] [1, 2, 100]\n"
     ]
    }
   ],
   "source": [
    "a = [1,2,3]\n",
    "b = a\n",
    "a[2] = 100\n",
    "print(a,b)\n",
    "# b是a的引用, 指向同一个对象，相当于a的另一个名字。\n",
    "\n",
    "c = a[:] # 或者a.copy()\n",
    "a[2] = 1000\n",
    "print(a,c)\n",
    "# c是a的复制, c指向的是不同的对象"
   ]
  },
  {
   "cell_type": "code",
   "execution_count": 20,
   "metadata": {},
   "outputs": [
    {
     "name": "stdout",
     "output_type": "stream",
     "text": [
      "[1, 2, 1000, 300]\n",
      "[1, 2, 50, 1000, 300]\n",
      "1\n",
      "2\n",
      "[1, 2, 50, 1000]\n",
      "[1000, 50, 2, 1]\n",
      "[1, 2, 50, 1000]\n",
      "[1, 2, 50, 1000, 1, 2]\n",
      "[2, 50, 1000, 1, 2]\n"
     ]
    }
   ],
   "source": [
    "# 操作\n",
    "a=[1,2,1000]\n",
    "a.append(300)\n",
    "print(a)\n",
    "\n",
    "a.insert(2,50)\n",
    "print(a)\n",
    "\n",
    "print(a.count(50))\n",
    "\n",
    "print(a.index(50))\n",
    "\n",
    "a.pop()\n",
    "print(a)\n",
    "\n",
    "a.sort(reverse=True)\n",
    "print(a)\n",
    "\n",
    "a.reverse()\n",
    "print(a)\n",
    "\n",
    "a.extend([1,2])\n",
    "print(a)\n",
    "\n",
    "del a[0]\n",
    "print(a)\n"
   ]
  },
  {
   "cell_type": "markdown",
   "metadata": {},
   "source": [
    "### 元组"
   ]
  },
  {
   "cell_type": "code",
   "execution_count": 16,
   "metadata": {},
   "outputs": [
    {
     "ename": "TypeError",
     "evalue": "'tuple' object does not support item assignment",
     "output_type": "error",
     "traceback": [
      "\u001b[0;31m---------------------------------------------------------------------------\u001b[0m",
      "\u001b[0;31mTypeError\u001b[0m                                 Traceback (most recent call last)",
      "\u001b[0;32m<ipython-input-16-5222896352bf>\u001b[0m in \u001b[0;36m<module>\u001b[0;34m()\u001b[0m\n\u001b[1;32m      2\u001b[0m \u001b[0mb\u001b[0m \u001b[0;34m=\u001b[0m \u001b[0;34m(\u001b[0m\u001b[0;36m1\u001b[0m\u001b[0;34m)\u001b[0m\u001b[0;34m\u001b[0m\u001b[0m\n\u001b[1;32m      3\u001b[0m \u001b[0mc\u001b[0m \u001b[0;34m=\u001b[0m \u001b[0;34m(\u001b[0m\u001b[0;36m1\u001b[0m\u001b[0;34m,\u001b[0m\u001b[0;34m)\u001b[0m\u001b[0;34m\u001b[0m\u001b[0m\n\u001b[0;32m----> 4\u001b[0;31m \u001b[0ma\u001b[0m\u001b[0;34m[\u001b[0m\u001b[0;36m2\u001b[0m\u001b[0;34m]\u001b[0m \u001b[0;34m=\u001b[0m \u001b[0;36m100\u001b[0m\u001b[0;34m\u001b[0m\u001b[0m\n\u001b[0m",
      "\u001b[0;31mTypeError\u001b[0m: 'tuple' object does not support item assignment"
     ]
    }
   ],
   "source": [
    "# 创建\n",
    "a = (1,2,50,1000)\n",
    "b = (1)\n",
    "c = (1,)\n",
    "d = ()\n",
    "a[2] = 100"
   ]
  },
  {
   "cell_type": "code",
   "execution_count": 19,
   "metadata": {},
   "outputs": [
    {
     "name": "stdout",
     "output_type": "stream",
     "text": [
      "1\n",
      "2\n",
      "[1, 2, 50, 1000]\n",
      "(1, 2, 50, 1000)\n"
     ]
    }
   ],
   "source": [
    "print(a.count(50))\n",
    "\n",
    "print(a.index(50))\n",
    "\n",
    "print(list(a))\n",
    "\n",
    "print(tuple(a))\n",
    "\n",
    "del a"
   ]
  },
  {
   "cell_type": "markdown",
   "metadata": {},
   "source": [
    "### 字典"
   ]
  },
  {
   "cell_type": "markdown",
   "metadata": {},
   "source": [
    "无序的key-value数据，适合根据key进行查询。\n",
    "\n",
    "比如用户ID做key，用户信息做value。\n",
    "\n",
    "学生学号做key，学生信息做value。\n",
    "\n",
    "订单ID做key，订单详细信息做value。"
   ]
  },
  {
   "cell_type": "code",
   "execution_count": 58,
   "metadata": {},
   "outputs": [
    {
     "name": "stdout",
     "output_type": "stream",
     "text": [
      "['__class__', '__contains__', '__delattr__', '__delitem__', '__dir__', '__doc__', '__eq__', '__format__', '__ge__', '__getattribute__', '__getitem__', '__gt__', '__hash__', '__init__', '__init_subclass__', '__iter__', '__le__', '__len__', '__lt__', '__ne__', '__new__', '__reduce__', '__reduce_ex__', '__repr__', '__setattr__', '__setitem__', '__sizeof__', '__str__', '__subclasshook__', 'clear', 'copy', 'fromkeys', 'get', 'items', 'keys', 'pop', 'popitem', 'setdefault', 'update', 'values']\n"
     ]
    }
   ],
   "source": [
    "# 创建\n",
    "a = {}\n",
    "a = {'xiaoli':33, 'xiaowang':20, 'xiaozhang':40}\n",
    "b = dict(xiaoli=33,xiaowang=20,xiaozhang=40)\n",
    "\n",
    "c = (('xiaoli',33),('xiaowang',20),('xiaozhang',40))\n",
    "d = dict(c)\n",
    "\n",
    "a = {'1':{'username':'xiaoli', 'password':'123123', 'email':'1@11.com'}, \\\n",
    "     '2':{'username':'xiaowang', 'password':'123123', 'email':'2@11.com'}, \\\n",
    "     '3':{'username':'xiaozhang', 'password':'123123', 'email':'2@11.com'}, \\\n",
    "    }\n",
    "print(dir(a))"
   ]
  },
  {
   "cell_type": "code",
   "execution_count": 59,
   "metadata": {},
   "outputs": [
    {
     "name": "stdout",
     "output_type": "stream",
     "text": [
      "xiaoli\n",
      "dict_keys(['1', '2', '3']) dict_values([{'username': 'xiaoli', 'password': '123123', 'email': '1@11.com'}, {'username': 'xiaowang', 'password': '123123', 'email': '2@11.com'}, {'username': 'xiaozhang', 'password': '123123', 'email': '2@11.com'}])\n",
      "True\n",
      "None\n"
     ]
    },
    {
     "ename": "KeyError",
     "evalue": "'4'",
     "output_type": "error",
     "traceback": [
      "\u001b[0;31m---------------------------------------------------------------------------\u001b[0m",
      "\u001b[0;31mKeyError\u001b[0m                                  Traceback (most recent call last)",
      "\u001b[0;32m<ipython-input-59-c879641a468b>\u001b[0m in \u001b[0;36m<module>\u001b[0;34m()\u001b[0m\n\u001b[1;32m      6\u001b[0m \u001b[0mb\u001b[0m \u001b[0;34m=\u001b[0m \u001b[0ma\u001b[0m\u001b[0;34m.\u001b[0m\u001b[0mget\u001b[0m\u001b[0;34m(\u001b[0m\u001b[0;34m'4'\u001b[0m\u001b[0;34m,\u001b[0m\u001b[0;32mNone\u001b[0m\u001b[0;34m)\u001b[0m\u001b[0;34m\u001b[0m\u001b[0m\n\u001b[1;32m      7\u001b[0m \u001b[0mprint\u001b[0m\u001b[0;34m(\u001b[0m\u001b[0mb\u001b[0m\u001b[0;34m)\u001b[0m\u001b[0;34m\u001b[0m\u001b[0m\n\u001b[0;32m----> 8\u001b[0;31m \u001b[0ma\u001b[0m\u001b[0;34m[\u001b[0m\u001b[0;34m'4'\u001b[0m\u001b[0;34m]\u001b[0m \u001b[0;31m# 直接访问不存在的key会出错\u001b[0m\u001b[0;34m\u001b[0m\u001b[0m\n\u001b[0m",
      "\u001b[0;31mKeyError\u001b[0m: '4'"
     ]
    }
   ],
   "source": [
    "print(a['1']['username'])\n",
    "print(a.keys(), a.values())\n",
    "print('1' in a) # 查看某个id是否在字典里\n",
    "# 设置默认值\n",
    "\n",
    "b = a.get('4',None)\n",
    "print(b)\n",
    "a['4'] # 直接访问不存在的key会出错"
   ]
  },
  {
   "cell_type": "code",
   "execution_count": 44,
   "metadata": {},
   "outputs": [
    {
     "name": "stdout",
     "output_type": "stream",
     "text": [
      "{'c++': 38599, 'python': 100931, 'shell': 26153, 'ruby': 93142, 'java': 84275, 'javascript': 184220, 'c': 46843}\n"
     ]
    }
   ],
   "source": [
    "#--------如何将两个等长度的list合并成dict\n",
    "text = 'c++ python shell ruby java javascript c'\n",
    "code_num = [38599, 100931, 26153, 93142, 84275, 184220, 46843]\n",
    "\n",
    "text_list=text.split(' ')\n",
    "code_dict = dict(zip(text_list,code_num))\n",
    "print(code_dict)"
   ]
  },
  {
   "cell_type": "code",
   "execution_count": 46,
   "metadata": {},
   "outputs": [
    {
     "name": "stdout",
     "output_type": "stream",
     "text": [
      "{'c++': 38599, 'python': 100931, 'shell': 26153, 'ruby': 93142, 'java': 84275, 'javascript': 184220, 'c': 46843, 'php': 78014, 'objective-c': 34444}\n",
      "ref =  {'python': 100931, 'shell': 26153, 'ruby': 93142, 'java': 84275, 'javascript': 184220, 'c': 46843, 'php': 78014, 'objective-c': 34444}\n",
      "copy =  {'c++': 38599, 'python': 100931, 'shell': 26153, 'ruby': 93142, 'java': 84275, 'javascript': 184220, 'c': 46843}\n",
      "{}\n"
     ]
    }
   ],
   "source": [
    "# 引用和copy\n",
    "a_ref = code_dict\n",
    "a_copy = code_dict.copy()\n",
    "\n",
    "#--------update, del, copy, clear\n",
    "other_code = {'php':78014,'objective-c':34444}\n",
    "code_dict.update(other_code)\n",
    "print(code_dict)\n",
    "\n",
    "del code_dict['c++']\n",
    "print('ref = ',a_ref)\n",
    "print('copy = ', a_copy)\n",
    "a_ref.clear()\n",
    "print(a_ref)\n",
    "\n",
    "code_dict = a_copy.copy() # 为了让这段代码可以单独执行"
   ]
  },
  {
   "cell_type": "markdown",
   "metadata": {},
   "source": [
    "### python2 VS python3\n",
    "\n",
    "python2: viewkeys, viewvalues\n",
    "\n",
    "python3: keys, values\n",
    "\n",
    "six.viewkeys\n",
    "\n",
    "six.viewvalues"
   ]
  },
  {
   "cell_type": "code",
   "execution_count": 61,
   "metadata": {},
   "outputs": [
    {
     "data": {
      "text/plain": [
       "dict_keys(['xiaoli', 'xiaowang', 'xiaozhang'])"
      ]
     },
     "execution_count": 61,
     "metadata": {},
     "output_type": "execute_result"
    }
   ],
   "source": [
    "from six import viewkeys\n",
    "a = {'xiaoli':33, 'xiaowang':20, 'xiaozhang':40}\n",
    "viewkeys(a)"
   ]
  },
  {
   "cell_type": "markdown",
   "metadata": {},
   "source": [
    "### 集合\n",
    "\n",
    "无顺序，无重复的数据集，只有key，没有value。"
   ]
  },
  {
   "cell_type": "code",
   "execution_count": 65,
   "metadata": {},
   "outputs": [
    {
     "name": "stdout",
     "output_type": "stream",
     "text": [
      "{1, 2, 3}\n"
     ]
    }
   ],
   "source": [
    "a = set([1,2,3,2,3,1])\n",
    "print(a)"
   ]
  },
  {
   "cell_type": "code",
   "execution_count": 66,
   "metadata": {},
   "outputs": [
    {
     "name": "stdout",
     "output_type": "stream",
     "text": [
      "{1, 3, 5}\n"
     ]
    }
   ],
   "source": [
    "b = a.copy()\n",
    "b.add(5)\n",
    "b.remove(2)\n",
    "print(b)"
   ]
  },
  {
   "cell_type": "code",
   "execution_count": 67,
   "metadata": {},
   "outputs": [
    {
     "name": "stdout",
     "output_type": "stream",
     "text": [
      "{1, 3}\n",
      "{1, 2, 3, 5}\n"
     ]
    }
   ],
   "source": [
    "print(a & b)\n",
    "print(a | b)"
   ]
  },
  {
   "cell_type": "markdown",
   "metadata": {},
   "source": [
    "**作业**\n",
    "\n",
    "1. 熟悉列表，字典的基本操作方法\n",
    "2. 试着在tuple里放入list元素\n",
    "3. 修改tuple里的list，看tuple是否修改"
   ]
  }
 ],
 "metadata": {
  "kernelspec": {
   "display_name": "Python 3",
   "language": "python",
   "name": "python3"
  },
  "language_info": {
   "codemirror_mode": {
    "name": "ipython",
    "version": 3
   },
   "file_extension": ".py",
   "mimetype": "text/x-python",
   "name": "python",
   "nbconvert_exporter": "python",
   "pygments_lexer": "ipython3",
   "version": "3.6.4"
  }
 },
 "nbformat": 4,
 "nbformat_minor": 2
}
