{
 "cells": [
  {
   "cell_type": "markdown",
   "metadata": {},
   "source": [
    "# 15天入门Python3\n",
    "\n",
    "CopyRight by 黑板客  \n",
    "转载请联系heibanke_at_aliyun.com"
   ]
  },
  {
   "cell_type": "markdown",
   "metadata": {},
   "source": [
    "上节作业\n",
    "\n",
    "1. 判断字符串e中是否包含python字符串，并且告诉位置\n",
    "2. 判断字符串e中字母'o', 'n'的个数。\n",
    "3. 使字符串e的首字母大写\n",
    "4. 将字符串 'c++, python2, python3, perl, ruby, java, javascript, php4, php5, c'通过程序修改为\n",
    "   'c++python2python3perlrubyjavajavascriptphp4php5c'  \n",
    "5. 利用random模块模拟扔硬币，正面为True，反面为False。随机输出正面或反面。"
   ]
  },
  {
   "cell_type": "code",
   "execution_count": null,
   "metadata": {},
   "outputs": [],
   "source": [
    "from __future__ import print_function\n",
    "\n",
    "# 参考\n",
    "e = \"learn-python-from-zero\"\n",
    "e.index('python') #1\n",
    "e.count('o') #2\n",
    "e.count('n') #2\n",
    "e.capitalize() #3\n",
    "\n",
    "txt = 'c++, python2, python3, perl, ruby, java, javascript, php4, php5, c'\n",
    "print(txt.replace(', ', '')) #4\n",
    "\n",
    "import random\n",
    "print(random.random() > 0.5) #5"
   ]
  },
  {
   "cell_type": "markdown",
   "metadata": {},
   "source": [
    "## day03：存储／操作数据集（列表，元组，字典，集合，文件）\n",
    "### 列表\n",
    "列表和元组都是有顺序的数据的集合。列表和元组里的元素可以是不同种类的。\n",
    "\n",
    "比如你做过的每一份蛋炒饭，甚至你做过的每件事情，你学的每个知识点等。\n",
    "\n",
    "列表中的元素可以修改，元组中的元素不能修改。\n"
   ]
  },
  {
   "cell_type": "code",
   "execution_count": 24,
   "metadata": {},
   "outputs": [
    {
     "name": "stdout",
     "output_type": "stream",
     "text": [
      "0 5 10\n",
      "[0, 1, 2, 3] [0, 1, 2, 3, 4] [7, 8, 9, 10]\n",
      "[3, 4, 5, 6] [6, 5, 4, 3]\n",
      "[0, 1, 2, 3, 4, 5, 6, 7, 8, 9]\n",
      "[10, 9, 8, 7, 6, 5, 4, 3, 2, 1]\n"
     ]
    }
   ],
   "source": [
    "# 创建\n",
    "a = []\n",
    "a = [1, '123', True]\n",
    "a = [0,1,2,3,4,5,6,7,8,9,10]\n",
    "\n",
    "# 取某个值 a[index]\n",
    "print(a[0],a[5],a[-1])\n",
    "\n",
    "# 取连续的几个值 a[start:stop]\n",
    "print(a[0:4], a[:5], a[-4:])\n",
    "\n",
    "# 取中间某段 a[start: end: step]\n",
    "print(a[3:7:1], a[6:2:-1])\n",
    "\n",
    "# range(n)得到0～n之间的整数\n",
    "from builtins import range\n",
    "# python2和python3的range返回值不同\n",
    "\n",
    "print(list(range(10)))\n",
    "\n",
    "# 倒序\n",
    "print(list(range(10, 0, -1)))\n"
   ]
  },
  {
   "cell_type": "markdown",
   "metadata": {},
   "source": [
    " <img src=\"./day03/ref_list.png\" width = \"500\" alt=\"图片名称\" align=center />"
   ]
  },
  {
   "cell_type": "code",
   "execution_count": 25,
   "metadata": {},
   "outputs": [
    {
     "name": "stdout",
     "output_type": "stream",
     "text": [
      "[1, 2, 100] [1, 2, 100]\n",
      "[1, 2, 100] [1, 2, 3]\n"
     ]
    }
   ],
   "source": [
    "a = [1,2,3]\n",
    "a_ref = a\n",
    "c = a[:] # 或者a.copy()\n",
    "\n",
    "a[2] = 100\n",
    "print(a, a_ref)\n",
    "# b是a的引用, 指向同一个对象，相当于a的另一个名字。\n",
    "\n",
    "print(a, c)\n",
    "# c是a的复制, c指向的是不同的对象"
   ]
  },
  {
   "cell_type": "code",
   "execution_count": 26,
   "metadata": {},
   "outputs": [
    {
     "name": "stdout",
     "output_type": "stream",
     "text": [
      "[1, 2, 1000, 300]\n",
      "[1, 2, 50, 1000, 300]\n",
      "1\n",
      "2\n",
      "[1, 2, 50, 1000]\n",
      "[1000, 50, 2, 1]\n",
      "[1, 2, 50, 1000]\n",
      "[1, 2, 50, 1000, 1, 2]\n",
      "[2, 50, 1000, 1, 2]\n"
     ]
    }
   ],
   "source": [
    "# 操作\n",
    "a=[1,2,1000]\n",
    "a.append(300) # 在a的后面添加元素\n",
    "print(a)\n",
    "\n",
    "a.insert(2,50) # 插入到指定位置\n",
    "print(a)\n",
    "\n",
    "print(a.count(50)) # 计算元素50的个数\n",
    "\n",
    "print(a.index(50)) # 计算元素50的位置\n",
    "\n",
    "a.pop()   # 弹出一个元素\n",
    "print(a)\n",
    "\n",
    "a.sort(reverse=True)   # 排序\n",
    "print(a)\n",
    "\n",
    "a.reverse()\n",
    "print(a)\n",
    "\n",
    "a.extend([1,2])      # 将另一个list扩展到原有list后面。\n",
    "print(a)\n",
    "\n",
    "del a[0]   # 删除元素\n",
    "print(a)\n"
   ]
  },
  {
   "cell_type": "markdown",
   "metadata": {},
   "source": [
    "### 元组"
   ]
  },
  {
   "cell_type": "code",
   "execution_count": 30,
   "metadata": {},
   "outputs": [
    {
     "name": "stdout",
     "output_type": "stream",
     "text": [
      "1 (1,)\n"
     ]
    },
    {
     "ename": "TypeError",
     "evalue": "'tuple' object does not support item assignment",
     "output_type": "error",
     "traceback": [
      "\u001b[0;31m-------------------------------------------------------------------------\u001b[0m",
      "\u001b[0;31mTypeError\u001b[0m                               Traceback (most recent call last)",
      "\u001b[0;32m<ipython-input-30-c46c22648304>\u001b[0m in \u001b[0;36m<module>\u001b[0;34m()\u001b[0m\n\u001b[1;32m      6\u001b[0m \u001b[0;34m\u001b[0m\u001b[0m\n\u001b[1;32m      7\u001b[0m \u001b[0mprint\u001b[0m\u001b[0;34m(\u001b[0m\u001b[0mb\u001b[0m\u001b[0;34m,\u001b[0m \u001b[0mc\u001b[0m\u001b[0;34m)\u001b[0m\u001b[0;34m\u001b[0m\u001b[0m\n\u001b[0;32m----> 8\u001b[0;31m \u001b[0ma\u001b[0m\u001b[0;34m[\u001b[0m\u001b[0;36m2\u001b[0m\u001b[0;34m]\u001b[0m \u001b[0;34m=\u001b[0m \u001b[0;36m100\u001b[0m\u001b[0;34m\u001b[0m\u001b[0m\n\u001b[0m",
      "\u001b[0;31mTypeError\u001b[0m: 'tuple' object does not support item assignment"
     ]
    }
   ],
   "source": [
    "# 创建\n",
    "a = (1,2,50,1000)\n",
    "b = (1)\n",
    "c = (1,) # 创建1个元素的元组\n",
    "d = ()\n",
    "\n",
    "print(b, c)\n",
    "a[2] = 100"
   ]
  },
  {
   "cell_type": "code",
   "execution_count": null,
   "metadata": {},
   "outputs": [],
   "source": [
    "print(a.count(50))\n",
    "\n",
    "print(a.index(50))\n",
    "\n",
    "print(list(a))\n",
    "\n",
    "print(tuple(a))\n",
    "\n",
    "del a"
   ]
  },
  {
   "cell_type": "markdown",
   "metadata": {},
   "source": [
    "### 字典"
   ]
  },
  {
   "cell_type": "markdown",
   "metadata": {},
   "source": [
    "无序的key-value数据，适合根据key进行查询。就像咱们查字典一样。\n",
    "\n",
    "比如用户ID做key，用户信息做value。\n",
    "\n",
    "学生学号做key，学生信息做value。\n",
    "\n",
    "订单ID做key，订单详细信息做value。"
   ]
  },
  {
   "cell_type": "code",
   "execution_count": 31,
   "metadata": {},
   "outputs": [
    {
     "name": "stdout",
     "output_type": "stream",
     "text": [
      "{'xiaoli': 33, 'xiaowang': 20, 'xiaozhang': 40}\n",
      "['__class__', '__contains__', '__delattr__', '__delitem__', '__dir__', '__doc__', '__eq__', '__format__', '__ge__', '__getattribute__', '__getitem__', '__gt__', '__hash__', '__init__', '__init_subclass__', '__iter__', '__le__', '__len__', '__lt__', '__ne__', '__new__', '__reduce__', '__reduce_ex__', '__repr__', '__setattr__', '__setitem__', '__sizeof__', '__str__', '__subclasshook__', 'clear', 'copy', 'fromkeys', 'get', 'items', 'keys', 'pop', 'popitem', 'setdefault', 'update', 'values']\n"
     ]
    }
   ],
   "source": [
    "# 创建\n",
    "\n",
    "a = {}\n",
    "a = {'xiaoli':33, 'xiaowang':20, 'xiaozhang':40}\n",
    "b = dict(xiaoli=33,xiaowang=20,xiaozhang=40)\n",
    "\n",
    "c = (('xiaoli',33),('xiaowang',20),('xiaozhang',40))\n",
    "d = dict(c) # 这里c也可以是list\n",
    "\n",
    "a = {'1':{'username':'xiaoli', 'password':'123123', 'email':'1@11.com'}, \\\n",
    "     '2':{'username':'xiaowang', 'password':'123123', 'email':'2@11.com'}, \\\n",
    "     '3':{'username':'xiaozhang', 'password':'123123', 'email':'2@11.com'}, \\\n",
    "    }\n",
    "\n",
    "print(d)\n",
    "print(dir(a))"
   ]
  },
  {
   "cell_type": "code",
   "execution_count": 32,
   "metadata": {},
   "outputs": [
    {
     "name": "stdout",
     "output_type": "stream",
     "text": [
      "xiaoli\n",
      "dict_keys(['1', '2', '3']) dict_values([{'username': 'xiaoli', 'password': '123123', 'email': '1@11.com'}, {'username': 'xiaowang', 'password': '123123', 'email': '2@11.com'}, {'username': 'xiaozhang', 'password': '123123', 'email': '2@11.com'}])\n",
      "True\n",
      "None\n"
     ]
    },
    {
     "ename": "KeyError",
     "evalue": "'4'",
     "output_type": "error",
     "traceback": [
      "\u001b[0;31m-------------------------------------------------------------------------\u001b[0m",
      "\u001b[0;31mKeyError\u001b[0m                                Traceback (most recent call last)",
      "\u001b[0;32m<ipython-input-32-bf2f94627802>\u001b[0m in \u001b[0;36m<module>\u001b[0;34m()\u001b[0m\n\u001b[1;32m      8\u001b[0m \u001b[0mb\u001b[0m \u001b[0;34m=\u001b[0m \u001b[0ma\u001b[0m\u001b[0;34m.\u001b[0m\u001b[0mget\u001b[0m\u001b[0;34m(\u001b[0m\u001b[0;34m'4'\u001b[0m\u001b[0;34m,\u001b[0m\u001b[0;32mNone\u001b[0m\u001b[0;34m)\u001b[0m\u001b[0;34m\u001b[0m\u001b[0m\n\u001b[1;32m      9\u001b[0m \u001b[0mprint\u001b[0m\u001b[0;34m(\u001b[0m\u001b[0mb\u001b[0m\u001b[0;34m)\u001b[0m\u001b[0;34m\u001b[0m\u001b[0m\n\u001b[0;32m---> 10\u001b[0;31m \u001b[0ma\u001b[0m\u001b[0;34m[\u001b[0m\u001b[0;34m'4'\u001b[0m\u001b[0;34m]\u001b[0m \u001b[0;31m# 直接访问不存在的key会出错\u001b[0m\u001b[0;34m\u001b[0m\u001b[0m\n\u001b[0m",
      "\u001b[0;31mKeyError\u001b[0m: '4'"
     ]
    }
   ],
   "source": [
    "# 访问\n",
    "\n",
    "print(a['1']['username'])\n",
    "print(a.keys(), a.values())\n",
    "print('1' in a) # 查看某个id是否在字典里\n",
    "\n",
    "# 设置默认值\n",
    "\n",
    "b = a.get('4',None)\n",
    "print(b)\n",
    "a['4'] # 直接访问不存在的key会出错"
   ]
  },
  {
   "cell_type": "code",
   "execution_count": 33,
   "metadata": {},
   "outputs": [
    {
     "name": "stdout",
     "output_type": "stream",
     "text": [
      "{'c++': 38599, 'python': 100931, 'shell': 26153, 'ruby': 93142, 'java': 84275, 'javascript': 184220, 'c': 46843}\n"
     ]
    }
   ],
   "source": [
    "#--------如何将两个等长度的list合并成dict\n",
    "text = 'c++ python shell ruby java javascript c'\n",
    "code_num = [38599, 100931, 26153, 93142, 84275, 184220, 46843]\n",
    "\n",
    "text_list=text.split(' ')\n",
    "code_dict = dict(zip(text_list,code_num))\n",
    "print(code_dict)"
   ]
  },
  {
   "cell_type": "code",
   "execution_count": 34,
   "metadata": {},
   "outputs": [
    {
     "name": "stdout",
     "output_type": "stream",
     "text": [
      "{'c++': 38599, 'python': 100931, 'shell': 26153, 'ruby': 93142, 'java': 84275, 'javascript': 184220, 'c': 46843, 'php': 78014, 'objective-c': 34444}\n",
      "ref =  {'python': 100931, 'shell': 26153, 'ruby': 93142, 'java': 84275, 'javascript': 184220, 'c': 46843, 'php': 78014, 'objective-c': 34444}\n",
      "copy =  {'c++': 38599, 'python': 100931, 'shell': 26153, 'ruby': 93142, 'java': 84275, 'javascript': 184220, 'c': 46843}\n",
      "{}\n"
     ]
    }
   ],
   "source": [
    "# 引用和copy\n",
    "\n",
    "a_ref = code_dict\n",
    "a_copy = code_dict.copy()\n",
    "\n",
    "#--------update, del, copy, clear\n",
    "other_code = {'php':78014,'objective-c':34444}\n",
    "code_dict.update(other_code)\n",
    "print(code_dict)\n",
    "\n",
    "del code_dict['c++']\n",
    "print('ref = ',a_ref)\n",
    "print('copy = ', a_copy)\n",
    "a_ref.clear()\n",
    "print(a_ref)\n",
    "\n",
    "code_dict = a_copy.copy() # 为了让这段代码可以单独执行"
   ]
  },
  {
   "cell_type": "markdown",
   "metadata": {},
   "source": [
    "### python2 VS python3\n",
    "\n",
    "python2: viewkeys, viewvalues\n",
    "\n",
    "python3: keys, values\n",
    "\n",
    "six.viewkeys\n",
    "\n",
    "six.viewvalues"
   ]
  },
  {
   "cell_type": "code",
   "execution_count": null,
   "metadata": {},
   "outputs": [],
   "source": [
    "from six import viewkeys\n",
    "from future.utils import viewkeys\n",
    "\n",
    "a = {'xiaoli':33, 'xiaowang':20, 'xiaozhang':40}\n",
    "viewkeys(a)"
   ]
  },
  {
   "cell_type": "markdown",
   "metadata": {},
   "source": [
    "### 集合\n",
    "\n",
    "无顺序，无重复的数据集，只有key，没有value。"
   ]
  },
  {
   "cell_type": "code",
   "execution_count": 35,
   "metadata": {},
   "outputs": [
    {
     "name": "stdout",
     "output_type": "stream",
     "text": [
      "{1, 2, 3}\n"
     ]
    }
   ],
   "source": [
    "a = set([1,2,3,2,3,1])\n",
    "print(a)"
   ]
  },
  {
   "cell_type": "code",
   "execution_count": 36,
   "metadata": {},
   "outputs": [
    {
     "name": "stdout",
     "output_type": "stream",
     "text": [
      "{1, 3, 5}\n"
     ]
    }
   ],
   "source": [
    "b = a.copy()\n",
    "b.add(5)\n",
    "b.add(1)\n",
    "b.remove(2)\n",
    "print(b)"
   ]
  },
  {
   "cell_type": "code",
   "execution_count": 37,
   "metadata": {},
   "outputs": [
    {
     "name": "stdout",
     "output_type": "stream",
     "text": [
      "{1, 3}\n",
      "{1, 2, 3, 5}\n"
     ]
    }
   ],
   "source": [
    "print(a & b)\n",
    "print(a | b)"
   ]
  },
  {
   "cell_type": "markdown",
   "metadata": {},
   "source": [
    "## 文件\n",
    "\n",
    "1. byte字符串\n",
    "2. unicode字符串"
   ]
  },
  {
   "cell_type": "code",
   "execution_count": null,
   "metadata": {},
   "outputs": [],
   "source": [
    "\"\"\"\n",
    "# 这段程序在python2可以执行。\n",
    "\n",
    "# python2里有两种字符串类型，str和unicode\n",
    "# str是字节串，由unicode经过编码(encode)后的字节组成的\n",
    "# unicode是真正意义上的字符串，由字符组成\n",
    "sstr = '\\xe4\\xbd\\xa0\\xe5\\xa5\\xbd'  # python2里也可以加前缀b。因为python2默认是字节串。\n",
    "sstr1 = u\"你好\"\n",
    "sstr2 = u\"你好\".encode(\"utf-8\")  \n",
    "sstr3 = sstr.decode('utf-8')\n",
    "print(repr(sstr),len(sstr))  #11  \n",
    "print(repr(sstr1) ,len(sstr1))\n",
    "print(repr(sstr2) ,len(sstr2))\n",
    "print(repr(sstr3) ,len(sstr3))\n",
    "\n",
    "\"\"\""
   ]
  },
  {
   "cell_type": "code",
   "execution_count": 38,
   "metadata": {},
   "outputs": [
    {
     "name": "stdout",
     "output_type": "stream",
     "text": [
      "b'\\xe4\\xbd\\xa0\\xe5\\xa5\\xbd' 6\n",
      "'你好' 2\n",
      "b'\\xe4\\xbd\\xa0\\xe5\\xa5\\xbd' 6\n",
      "'你好' 2\n",
      "b'\\xe4\\xbd\\xa0\\xe5\\xa5\\xbd\\xe4\\xbd\\xa0\\xe5\\xa5\\xbd' 你好你好\n"
     ]
    }
   ],
   "source": [
    "# python3里也有两种字符串类型，bytes和str\n",
    "# bytes是字节串，str是unicode字符串。\n",
    "# 下面这句使得python2里的中文无需前缀u。\n",
    "from __future__ import unicode_literals\n",
    "\n",
    "sstr = b'\\xe4\\xbd\\xa0\\xe5\\xa5\\xbd' # 这里的前缀b不能去掉。因为python3默认是unicode字符串。\n",
    "sstr1 = \"你好\"\n",
    "sstr2 = \"你好\".encode('utf-8')\n",
    "sstr3 = sstr.decode('utf-8')\n",
    "print(repr(sstr),len(sstr))  #11  \n",
    "print(repr(sstr1) ,len(sstr1))\n",
    "print(repr(sstr2) ,len(sstr2))\n",
    "print(repr(sstr3) ,len(sstr3))\n",
    "\n",
    "print(sstr + sstr2, sstr1 + sstr3)\n"
   ]
  },
  {
   "cell_type": "code",
   "execution_count": 42,
   "metadata": {},
   "outputs": [
    {
     "name": "stdout",
     "output_type": "stream",
     "text": [
      "Help on built-in function open in module io:\n",
      "\n",
      "open(file, mode='r', buffering=-1, encoding=None, errors=None, newline=None, closefd=True, opener=None)\n",
      "    Open file and return a stream.  Raise IOError upon failure.\n",
      "    \n",
      "    file is either a text or byte string giving the name (and the path\n",
      "    if the file isn't in the current working directory) of the file to\n",
      "    be opened or an integer file descriptor of the file to be\n",
      "    wrapped. (If a file descriptor is given, it is closed when the\n",
      "    returned I/O object is closed, unless closefd is set to False.)\n",
      "    \n",
      "    mode is an optional string that specifies the mode in which the file\n",
      "    is opened. It defaults to 'r' which means open for reading in text\n",
      "    mode.  Other common values are 'w' for writing (truncating the file if\n",
      "    it already exists), 'x' for creating and writing to a new file, and\n",
      "    'a' for appending (which on some Unix systems, means that all writes\n",
      "    append to the end of the file regardless of the current seek position).\n",
      "    In text mode, if encoding is not specified the encoding used is platform\n",
      "    dependent: locale.getpreferredencoding(False) is called to get the\n",
      "    current locale encoding. (For reading and writing raw bytes use binary\n",
      "    mode and leave encoding unspecified.) The available modes are:\n",
      "    \n",
      "    ========= ===============================================================\n",
      "    Character Meaning\n",
      "    --------- ---------------------------------------------------------------\n",
      "    'r'       open for reading (default)\n",
      "    'w'       open for writing, truncating the file first\n",
      "    'x'       create a new file and open it for writing\n",
      "    'a'       open for writing, appending to the end of the file if it exists\n",
      "    'b'       binary mode\n",
      "    't'       text mode (default)\n",
      "    '+'       open a disk file for updating (reading and writing)\n",
      "    'U'       universal newline mode (deprecated)\n",
      "    ========= ===============================================================\n",
      "    \n",
      "    The default mode is 'rt' (open for reading text). For binary random\n",
      "    access, the mode 'w+b' opens and truncates the file to 0 bytes, while\n",
      "    'r+b' opens the file without truncation. The 'x' mode implies 'w' and\n",
      "    raises an `FileExistsError` if the file already exists.\n",
      "    \n",
      "    Python distinguishes between files opened in binary and text modes,\n",
      "    even when the underlying operating system doesn't. Files opened in\n",
      "    binary mode (appending 'b' to the mode argument) return contents as\n",
      "    bytes objects without any decoding. In text mode (the default, or when\n",
      "    't' is appended to the mode argument), the contents of the file are\n",
      "    returned as strings, the bytes having been first decoded using a\n",
      "    platform-dependent encoding or using the specified encoding if given.\n",
      "    \n",
      "    'U' mode is deprecated and will raise an exception in future versions\n",
      "    of Python.  It has no effect in Python 3.  Use newline to control\n",
      "    universal newlines mode.\n",
      "    \n",
      "    buffering is an optional integer used to set the buffering policy.\n",
      "    Pass 0 to switch buffering off (only allowed in binary mode), 1 to select\n",
      "    line buffering (only usable in text mode), and an integer > 1 to indicate\n",
      "    the size of a fixed-size chunk buffer.  When no buffering argument is\n",
      "    given, the default buffering policy works as follows:\n",
      "    \n",
      "    * Binary files are buffered in fixed-size chunks; the size of the buffer\n",
      "      is chosen using a heuristic trying to determine the underlying device's\n",
      "      \"block size\" and falling back on `io.DEFAULT_BUFFER_SIZE`.\n",
      "      On many systems, the buffer will typically be 4096 or 8192 bytes long.\n",
      "    \n",
      "    * \"Interactive\" text files (files for which isatty() returns True)\n",
      "      use line buffering.  Other text files use the policy described above\n",
      "      for binary files.\n",
      "    \n",
      "    encoding is the name of the encoding used to decode or encode the\n",
      "    file. This should only be used in text mode. The default encoding is\n",
      "    platform dependent, but any encoding supported by Python can be\n",
      "    passed.  See the codecs module for the list of supported encodings.\n",
      "    \n",
      "    errors is an optional string that specifies how encoding errors are to\n",
      "    be handled---this argument should not be used in binary mode. Pass\n",
      "    'strict' to raise a ValueError exception if there is an encoding error\n",
      "    (the default of None has the same effect), or pass 'ignore' to ignore\n",
      "    errors. (Note that ignoring encoding errors can lead to data loss.)\n",
      "    See the documentation for codecs.register or run 'help(codecs.Codec)'\n",
      "    for a list of the permitted encoding error strings.\n",
      "    \n",
      "    newline controls how universal newlines works (it only applies to text\n",
      "    mode). It can be None, '', '\\n', '\\r', and '\\r\\n'.  It works as\n",
      "    follows:\n",
      "    \n",
      "    * On input, if newline is None, universal newlines mode is\n",
      "      enabled. Lines in the input can end in '\\n', '\\r', or '\\r\\n', and\n",
      "      these are translated into '\\n' before being returned to the\n",
      "      caller. If it is '', universal newline mode is enabled, but line\n",
      "      endings are returned to the caller untranslated. If it has any of\n",
      "      the other legal values, input lines are only terminated by the given\n",
      "      string, and the line ending is returned to the caller untranslated.\n",
      "    \n",
      "    * On output, if newline is None, any '\\n' characters written are\n",
      "      translated to the system default line separator, os.linesep. If\n",
      "      newline is '' or '\\n', no translation takes place. If newline is any\n",
      "      of the other legal values, any '\\n' characters written are translated\n",
      "      to the given string.\n",
      "    \n",
      "    If closefd is False, the underlying file descriptor will be kept open\n",
      "    when the file is closed. This does not work when a file name is given\n",
      "    and must be True in that case.\n",
      "    \n",
      "    A custom opener can be used by passing a callable as *opener*. The\n",
      "    underlying file descriptor for the file object is then obtained by\n",
      "    calling *opener* with (*file*, *flags*). *opener* must return an open\n",
      "    file descriptor (passing os.open as *opener* results in functionality\n",
      "    similar to passing None).\n",
      "    \n",
      "    open() returns a file object whose type depends on the mode, and\n",
      "    through which the standard file operations such as reading and writing\n",
      "    are performed. When open() is used to open a file in a text mode ('w',\n",
      "    'r', 'wt', 'rt', etc.), it returns a TextIOWrapper. When used to open\n",
      "    a file in a binary mode, the returned class varies: in read binary\n",
      "    mode, it returns a BufferedReader; in write binary and append binary\n",
      "    modes, it returns a BufferedWriter, and in read/write mode, it returns\n",
      "    a BufferedRandom.\n",
      "    \n",
      "    It is also possible to use a string or bytearray as a file for both\n",
      "    reading and writing. For strings StringIO can be used like a file\n",
      "    opened in a text mode, and for bytes a BytesIO can be used like a file\n",
      "    opened in a binary mode.\n",
      "\n"
     ]
    }
   ],
   "source": [
    "# 加下面这句是为了python2和python3统一打开文件的方式\n",
    "from io import open\n",
    "\n",
    "f = open('day03/chinese_r.txt', 'rt')\n",
    "f2 = open('day03/chinese_w.txt', 'wt')\n",
    "f3 = open('day03/chinese_a.txt', 'at')\n",
    "\n",
    "s = f.read()\n",
    "f2.write(s)\n",
    "f3.write(s)\n",
    "\n",
    "f.close()\n",
    "f2.close()\n",
    "f3.close()\n",
    "\n",
    "help(open)"
   ]
  },
  {
   "cell_type": "markdown",
   "metadata": {},
   "source": [
    "**作业**\n",
    "\n",
    "1. 熟悉列表，字典等的基本操作方法\n",
    "2. 试着在tuple里放入list元素\n",
    "3. 修改tuple里的list，看tuple是否修改\n",
    "4. 试着新建文件，并往文件里写入内容保存后，再把内容读出。"
   ]
  }
 ],
 "metadata": {
  "kernelspec": {
   "display_name": "Python 3",
   "language": "python",
   "name": "python3"
  },
  "language_info": {
   "codemirror_mode": {
    "name": "ipython",
    "version": 3
   },
   "file_extension": ".py",
   "mimetype": "text/x-python",
   "name": "python",
   "nbconvert_exporter": "python",
   "pygments_lexer": "ipython3",
   "version": "3.6.4"
  }
 },
 "nbformat": 4,
 "nbformat_minor": 2
}
