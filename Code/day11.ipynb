{
 "cells": [
  {
   "cell_type": "markdown",
   "metadata": {},
   "source": [
    "# 15天入门Python3\n",
    "\n",
    "CopyRight by 黑板客  \n",
    "转载请联系heibanke_at_aliyun.com"
   ]
  },
  {
   "cell_type": "markdown",
   "metadata": {},
   "source": [
    "## day11：更进1步—见见对象的家人\n",
    "\n",
    "谈对象的第一天，我们介绍了对象的三要素  \n",
    "第二天，我们知道设计对象接口最重要。  \n",
    "今天我们介绍一下跟对象有关的一些使用方法，加深理解对象。\n",
    "\n",
    "1. <a href=\"#1\">属性 propery, setter</a>\n",
    "2. <a href=\"#2\">方法 class methods, static methods</a>\n",
    "3. <a href=\"#3\">抽象类，抽象方法</a>\n",
    "4. <a href=\"#4\">元类 meta class</a>\n",
    "5. <a href=\"#5\">作业</a>"
   ]
  },
  {
   "cell_type": "markdown",
   "metadata": {},
   "source": [
    "## <a name=\"1\">属性 property，setter</a>\n",
    "\n",
    "防御不能为负值。最低为0，最大不能超过1000。"
   ]
  },
  {
   "cell_type": "code",
   "execution_count": null,
   "metadata": {},
   "outputs": [],
   "source": [
    "import datetime\n",
    "class PK_object(object): \n",
    "    def __init__(self, name, defence=0.0, attack = 0.0, life = 0.0, chuantou = 0.0, fantan= 0.0, xixie = 0.0, attack_range=0.0):\n",
    "        self.name = name\n",
    "        self.defence = defence\n",
    "        self.attack = attack\n",
    "        self.life = life\n",
    "        self.xixie = xixie\n",
    "        self.fantan = fantan\n",
    "        self.chuantou = chuantou\n",
    "        self.attack_range = attack_range\n",
    "        self._obtain_time = datetime.datetime.now()\n",
    "\n",
    "    @property\n",
    "    def defence(self):\n",
    "        #### \n",
    "        return self._defence\n",
    "\n",
    "    @defence.setter\n",
    "    def defence(self, value):\n",
    "        if value < 0:\n",
    "            print(\"防御值小于0则被设置为0\")\n",
    "            self._defence = 0\n",
    "        elif value > 1000:\n",
    "            print(\"防御值大于1000被设置为1000\")\n",
    "            self._defence = 1000\n",
    "        else:\n",
    "            self._defence = value\n",
    "\n",
    "    @property\n",
    "    def age(self):\n",
    "        return (datetime.datetime.now() - self._obtain_time).seconds\n",
    "\n",
    "a = PK_object(\"铠甲\",defence=10000)\n",
    "print(a.defence)\n",
    "a.defence = -100\n",
    "print(a.defence)\n",
    "print(a.age)"
   ]
  },
  {
   "cell_type": "code",
   "execution_count": null,
   "metadata": {},
   "outputs": [],
   "source": [
    "print(a.age)"
   ]
  },
  {
   "cell_type": "code",
   "execution_count": null,
   "metadata": {},
   "outputs": [],
   "source": [
    "# 问题又来了，当属性很多时，为每个属性加一个property和setter太麻烦。怎么办？如果有统一的规则，如何避免重复代码。\n",
    "import datetime\n",
    "class PK_object(object): \n",
    "    def __init__(self, name, defence=0.0, attack = 0.0, life = 0.0, chuantou = 0.0, fantan= 0.0, xixie = 0.0, attack_range=0.0):\n",
    "        self.name = name\n",
    "        self.defence = defence\n",
    "        self.attack = attack\n",
    "        self.life = life\n",
    "        self.xixie = xixie\n",
    "        self.fantan = fantan\n",
    "        self.chuantou = chuantou\n",
    "        self.attack_range = attack_range\n",
    "        self.obtain_time = datetime.datetime.now()\n",
    "\n",
    "\n",
    "    def __getattr__(self, attr):\n",
    "        if self.__dict__.get(attr,None) is None:\n",
    "            return self.__dict__.get('_'+attr, None)\n",
    "        else:\n",
    "            return self.__dict__.get(attr,None)\n",
    "\n",
    "    def __setattr__(self, attr, value):\n",
    "        \n",
    "        if attr in ['defence', 'attack', 'life', 'xixie', 'chuantou', 'attack_range', 'fantan']:\n",
    "            if value < 0:\n",
    "                print(\"%s属性值低于0，被设置为0\"%(attr))\n",
    "                self.__dict__['_'+attr] = 0.0\n",
    "            else:\n",
    "                self.__dict__['_'+attr] = value\n",
    "\n",
    "        else:\n",
    "            self.__dict__[attr] = value\n",
    "    \n",
    "a = PK_object(\"铠甲\",defence=-100)\n",
    "a.attack=-100\n",
    "print(a.__dict__)\n",
    "a.nums = 10"
   ]
  },
  {
   "cell_type": "code",
   "execution_count": null,
   "metadata": {},
   "outputs": [],
   "source": [
    "# 还有问题\n",
    "a.nums = 10\n",
    "print(a.nums)\n",
    "a.wudi = True"
   ]
  },
  {
   "cell_type": "markdown",
   "metadata": {},
   "source": [
    "### \\__slots\\__"
   ]
  },
  {
   "cell_type": "code",
   "execution_count": null,
   "metadata": {},
   "outputs": [],
   "source": [
    "class PK_object(object):\n",
    "    __slots__=['name', 'defence', 'attack', 'life', 'chuantou', 'fantan', 'xixie', 'attack_range']\n",
    "    def __init__(self, name, defence=0.0, attack = 0.0, life = 0.0, chuantou = 0.0, fantan= 0.0, xixie = 0.0, attack_range=0.0):\n",
    "        self.name = name\n",
    "        self.defence = defence\n",
    "        self.attack = attack\n",
    "        self.life = life\n",
    "        self.xixie = xixie\n",
    "        self.fantan = fantan\n",
    "        self.chuantou = chuantou\n",
    "        self.attack_range = attack_range\n",
    "        \n",
    "a = PK_object(\"nums\")\n",
    "a.nums = 10"
   ]
  },
  {
   "cell_type": "markdown",
   "metadata": {},
   "source": [
    "## <a name=\"2\">方法 classmethods， staticmethods</a>\n",
    "\n",
    "之前我们学了实例方法和一些魔法方法，今天来学类方法和静态方法"
   ]
  },
  {
   "cell_type": "code",
   "execution_count": null,
   "metadata": {},
   "outputs": [],
   "source": [
    "import datetime\n",
    "class PK_object(object):\n",
    "    def __init__(self, name, defence=0.0, attack = 0.0, life = 0.0, chuantou = 0.0, fantan= 0.0, xixie = 0.0, attack_range=0.0):\n",
    "        self.name = name\n",
    "        self.defence = defence\n",
    "        self.attack = attack\n",
    "        self.life = life\n",
    "        self.xixie = xixie\n",
    "        self.fantan = fantan\n",
    "        self.chuantou = chuantou\n",
    "        self.attack_range = attack_range\n",
    "        self.obtain_time = datetime.datetime.now()\n",
    "\n",
    "class Equipment(PK_object):\n",
    "    @classmethod\n",
    "    def create_armor(cls, defence, life, fantan):\n",
    "        return cls(\"铠甲\", defence=defence, life=life, fantan=fantan)\n",
    "    @classmethod\n",
    "    def create_weapon(cls, attack, chuantou, attack_range):\n",
    "        return cls(\"武器\", attack=attack, chuantou=chuantou, attack_range=attack_range)\n",
    "\n",
    "    @staticmethod\n",
    "    def isvalid(chuantou):\n",
    "        if chuantou > 0.5:\n",
    "            print(\"穿透护甲必须小于等于0.5\")\n",
    "            return False\n",
    "        else:\n",
    "            return True\n",
    "        \n",
    "    def is_age_valid(self):\n",
    "        raise NotImplementedError(\"没有实现\")\n",
    "\n",
    "a=Equipment.create_armor(100,100,0.2)\n",
    "b=Equipment.create_weapon(100,100,0.2)\n",
    "\n",
    "Equipment.isvalid(0.6)\n",
    "a.isvalid(0.2)"
   ]
  },
  {
   "cell_type": "code",
   "execution_count": null,
   "metadata": {
    "scrolled": true
   },
   "outputs": [],
   "source": [
    "a.is_age_valid()\n"
   ]
  },
  {
   "cell_type": "markdown",
   "metadata": {},
   "source": [
    "## <a name=\"3\">抽象类和抽象方法</a>\n",
    "\n",
    "我们希望没有定义抽象方法前，不会产生PK_object的对象，如果实例化对象则会出错。"
   ]
  },
  {
   "cell_type": "code",
   "execution_count": null,
   "metadata": {},
   "outputs": [],
   "source": [
    "from abc import ABC, ABCMeta, abstractmethod\n",
    "import datetime\n",
    "class PK_object(metaclass=ABCMeta):\n",
    "    \n",
    "    def __init__(self, name=\"\", defence=0.0, attack = 0.0, life = 0.0, chuantou = 0.0, fantan= 0.0, xixie = 0.0, attack_range=0.0):\n",
    "        self.name = name\n",
    "        self.defence = defence\n",
    "        self.attack = attack\n",
    "        self.life = life\n",
    "        self.xixie = xixie\n",
    "        self.fantan = fantan\n",
    "        self.chuantou = chuantou\n",
    "        self.attack_range = attack_range\n",
    "        self.obtain_time = datetime.datetime.now()\n",
    "    \n",
    "    @staticmethod\n",
    "    @abstractmethod\n",
    "    def is_age_valid(cls):\n",
    "        pass\n",
    "\n",
    "    \n",
    "class Equipment(PK_object):\n",
    "    \n",
    "    def is_age_valid(self):\n",
    "        d = datetime.datetime.now() - self.obtain_time\n",
    "        print(d.days)\n",
    "        return d.days < 100\n",
    "    "
   ]
  },
  {
   "cell_type": "code",
   "execution_count": null,
   "metadata": {},
   "outputs": [],
   "source": [
    "a = Equipment(\"\")\n",
    "a.is_age_valid()"
   ]
  },
  {
   "cell_type": "code",
   "execution_count": null,
   "metadata": {},
   "outputs": [],
   "source": [
    "\"\"\"\n",
    "# python2抽象类的写法，关键是使用metaclass的区别\n",
    "class BasePizza(object):\n",
    "    __metaclass__  = ABCMeta\n",
    "    \n",
    "# python3的写法\n",
    "class BasePizza(metaclass=ABCMeta):\n",
    "    pass\n",
    "\"\"\"\n",
    "\n",
    "# python2 and python3都支持的写法\n",
    "from future.utils import with_metaclass\n",
    "from abc import ABC, ABCMeta, abstractmethod\n",
    "\n",
    " \n",
    "class A(with_metaclass(ABCMeta)):\n",
    "    @abstractmethod\n",
    "    def __init__(self):\n",
    "        pass\n",
    "    def use(self):\n",
    "        pass"
   ]
  },
  {
   "cell_type": "code",
   "execution_count": null,
   "metadata": {},
   "outputs": [],
   "source": [
    "# 装饰器的叠加\n"
   ]
  },
  {
   "cell_type": "markdown",
   "metadata": {},
   "source": [
    "## <a name=\"4\">元类 metaclass</a>\n",
    "\n",
    "对象的姥姥，类的妈妈。（元类产生类，类产生对象。）\n",
    "\n",
    "\n",
    "<a href=\"https://stackoverflow.com/questions/100003/what-are-metaclasses-in-python\">StackOverFlow的例子</a>"
   ]
  },
  {
   "cell_type": "code",
   "execution_count": null,
   "metadata": {},
   "outputs": [],
   "source": [
    "# 1\n",
    "class HeroCreator(object):\n",
    "    pass\n",
    "\n",
    "my_hero = HeroCreator()\n",
    "\n",
    "print(hasattr(HeroCreator, 'attack'))\n",
    "HeroCreator.attack = 100\n",
    "print(hasattr(HeroCreator, 'attack'))"
   ]
  },
  {
   "cell_type": "markdown",
   "metadata": {},
   "source": [
    "类也是一种对象\n",
    "1. 类可以增加属性\n",
    "2. 类可以赋值\n",
    "3. 类可以作为参数传递"
   ]
  },
  {
   "cell_type": "code",
   "execution_count": null,
   "metadata": {},
   "outputs": [],
   "source": [
    "# 2\n",
    "def choose_class(name):\n",
    "    if name == 'YaSe':\n",
    "        class YaSe(object):\n",
    "            pass\n",
    "        return YaSe # return the class, not an instance\n",
    "    else:\n",
    "        class HouYi(object):\n",
    "            pass\n",
    "        return HouYi\n",
    "    \n",
    "MyClass = choose_class('YaSe') "
   ]
  },
  {
   "cell_type": "code",
   "execution_count": null,
   "metadata": {},
   "outputs": [],
   "source": [
    "\"\"\"\n",
    "type的另一种用法，动态创建类  \n",
    "type(name of the class,   \n",
    "     tuple of the parent class (for inheritance, can be empty),   \n",
    "     dictionary containing attributes names and values)\n",
    "\"\"\""
   ]
  },
  {
   "cell_type": "code",
   "execution_count": null,
   "metadata": {},
   "outputs": [],
   "source": [
    "# 3\n",
    "\"\"\"\n",
    "class YaSe(object):\n",
    "    nums = 0\n",
    "    \n",
    "    @classmethod\n",
    "    def show_nums(cls):\n",
    "        print(\"nums is %s\"%(cls.nums))\n",
    "\"\"\"\n",
    "@classmethod\n",
    "def show_nums(cls):\n",
    "    print(\"nums is %s\"%(cls.nums))\n",
    "\n",
    "YaSe = type('YaSe', (object,), {'nums':0, 'show_nums':show_nums})\n",
    "        \n",
    "YaSe.show_nums()\n",
    "\n"
   ]
  },
  {
   "cell_type": "code",
   "execution_count": null,
   "metadata": {},
   "outputs": [],
   "source": [
    "# 4\n",
    "\n",
    "def upper_attr(cls, bases, attrs):\n",
    "  \"\"\"\n",
    "    Return a class object, with the list of its attribute turned \n",
    "    into uppercase.\n",
    "  \"\"\"\n",
    "\n",
    "  # pick up any attribute that doesn't start with '__' and uppercase it\n",
    "  uppercase_attrs = {}\n",
    "  for name, val in attrs.items():\n",
    "      if not name.startswith('__'):\n",
    "          uppercase_attrs[name.upper()] = val\n",
    "      else:\n",
    "          uppercase_attrs[name] = val\n",
    "\n",
    "  # let `type` do the class creation\n",
    "  return type(cls, bases, uppercase_attrs)\n",
    "\n",
    "class YaSe(object, metaclass=upper_attr):\n",
    "    nums = 0\n",
    "    __attack = 0\n",
    "    \n",
    "print(hasattr(YaSe, 'nums'))\n",
    "print(hasattr(YaSe, 'NUMS'))\n",
    "\n",
    "YaSe.NUMS"
   ]
  },
  {
   "cell_type": "code",
   "execution_count": null,
   "metadata": {},
   "outputs": [],
   "source": [
    "# 5\n",
    "\n",
    "class UpperAttrMeta(type):\n",
    "  \"\"\"\n",
    "    Return a class object, with the list of its attribute turned \n",
    "    into uppercase.\n",
    "  \"\"\"\n",
    "  def __new__(metacls, cls, bases, attrs):\n",
    "      # pick up any attribute that doesn't start with '__' and uppercase it\n",
    "      print(metacls, cls, bases, attrs, sep='\\n')\n",
    "      uppercase_attrs = {}\n",
    "      for name, val in attrs.items():\n",
    "          if not name.startswith('__'):\n",
    "              uppercase_attrs[name.upper()] = val\n",
    "          else:\n",
    "              uppercase_attrs[name] = val\n",
    "\n",
    "      # let `type` do the class creation\n",
    "      return type(cls, bases, uppercase_attrs)\n",
    "      # return type.__new__(metacls, cls, bases, uppercase_attrs)\n",
    "      # return super().__new__(metacls, cls, bases, uppercase_attrs)\n",
    "    \n",
    "class YaSe(object, metaclass=UpperAttrMeta):\n",
    "    nums = 0\n",
    "    __attack = 0\n",
    "    \n",
    "print(hasattr(YaSe, 'nums'))\n",
    "print(hasattr(YaSe, 'NUMS'))\n",
    "\n",
    "YaSe.NUMS"
   ]
  },
  {
   "cell_type": "markdown",
   "metadata": {},
   "source": [
    "## <a name=\"5\">思考与作业</a>\n",
    "\n",
    "1. PK游戏里考虑哪些功能需要增加新的类，和原有类的关系是什么？哪些功能适合定义成类方法，哪些适合静态方法，哪些适合抽象方法。（包括你想到的，我们没实现的功能）\n",
    "2. 简单实现几个上面你想到的功能。\n",
    "3. 一个字典，想用访问属性的方式访问key的值。比如A={'name':'xiaowang', 'age': 15}，想用A.name, A.age来访问。如何实现？"
   ]
  }
 ],
 "metadata": {
  "kernelspec": {
   "display_name": "Python 3",
   "language": "python",
   "name": "python3"
  },
  "language_info": {
   "codemirror_mode": {
    "name": "ipython",
    "version": 3
   },
   "file_extension": ".py",
   "mimetype": "text/x-python",
   "name": "python",
   "nbconvert_exporter": "python",
   "pygments_lexer": "ipython3",
   "version": "3.6.4"
  }
 },
 "nbformat": 4,
 "nbformat_minor": 2
}
