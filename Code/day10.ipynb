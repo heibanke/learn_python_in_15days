{
 "cells": [
  {
   "cell_type": "markdown",
   "metadata": {},
   "source": [
    "# 15天入门Python3\n",
    "\n",
    "CopyRight by 黑板客  \n",
    "转载请联系heibanke_at_aliyun.com"
   ]
  },
  {
   "cell_type": "markdown",
   "metadata": {},
   "source": [
    "**上节作业**\n",
    "\n",
    "1. 如何让英雄可以使用道具，比如铠甲能够增加defence，增加生命。弓箭可以增加attack。\n",
    "2. 如果考虑装备有其他更多的作用，比如弓箭可以减少对方的一部分defence，铠甲受到伤害可以反弹一部分给对方，如何设计？\n",
    "3. 如果道具能让英雄有吸血功能，而且很多种英雄都有吸血功能，如何设计代码？\n"
   ]
  },
  {
   "cell_type": "code",
   "execution_count": null,
   "metadata": {},
   "outputs": [],
   "source": [
    "%%html\n",
    "<style>\n",
    ".rendered_html td, .rendered_html th {text-align: left;}\n",
    "</style>"
   ]
  },
  {
   "cell_type": "markdown",
   "metadata": {},
   "source": [
    "|Equipment|         \n",
    "| :- |\n",
    "|- name  <br> - defence <br> - attack <br> - life <br> - chuantou <br> - fantan <br> - xixie|\n",
    "|+ \\__init\\__ (name, defence, attack, life, chuantou, fantan, xixie)| \n",
    "\n",
    "|Hero|         \n",
    "| :- |\n",
    "|- name  <br> - defence <br> - attack <br> - life <br> - chuantou <br> - fantan <br> - xixie <br> @ alive|\n",
    "|+ \\__init\\__ (name, defence, attack, life, chuantou, fantan, xixie) <br> + damage (enemy)  <br> + use (e) <br> + drop (e)| \n",
    "\n",
    "|Game|         \n",
    "| :- |\n",
    "|- A  <br> - B|\n",
    "|+ \\__init\\__ (A, B) <br> + start () <br> + end ()| "
   ]
  },
  {
   "cell_type": "code",
   "execution_count": null,
   "metadata": {
    "scrolled": true
   },
   "outputs": [],
   "source": [
    "%load day10/pk_oop_03.py\n"
   ]
  },
  {
   "cell_type": "markdown",
   "metadata": {},
   "source": [
    "1. 组合 has a，继承 is a\n",
    "2. super\n",
    "3. property"
   ]
  },
  {
   "cell_type": "markdown",
   "metadata": {},
   "source": [
    "## day10：再谈对象—合得来最重要\n",
    "\n",
    "1. <a href=\"#1\">鸭子类型 duck type</a>\n",
    "2. <a href=\"#2\">魔法方法—运算符重载</a>\n",
    "5. <a href=\"#3\">作业</a>"
   ]
  },
  {
   "cell_type": "markdown",
   "metadata": {},
   "source": [
    "## <a name=\"1\">鸭子类型 duck type</a>\n",
    "\n",
    "鸭子测试：当看到一只鸟走起来像鸭子、游泳起来像鸭子、叫起来也像鸭子，那么这只鸟就可以被称为鸭子。\n"
   ]
  },
  {
   "cell_type": "code",
   "execution_count": null,
   "metadata": {},
   "outputs": [],
   "source": [
    "class Duck(object): \n",
    "  def quack(self): \n",
    "    print(\"Quaaaaaack!\")\n",
    "  \n",
    "class Bird(object): \n",
    "  def quack(self): \n",
    "    print(\"bird imitate duck.\")\n",
    "  \n",
    "class Doge(object): \n",
    "  def quack(self): \n",
    "    print(\"doge imitate duck.\")\n",
    "  \n",
    "def in_the_forest(duck): \n",
    "  duck.quack() \n",
    "  \n",
    "duck = Duck() \n",
    "bird = Bird() \n",
    "doge = Doge() \n",
    "for x in [duck, bird, doge]: \n",
    "  in_the_forest(x) "
   ]
  },
  {
   "cell_type": "markdown",
   "metadata": {},
   "source": [
    "## <a name=\"2\">魔法方法</a>\n",
    "\n",
    "<img src=\"day10/magic_methods.png\" width=800></img>\n"
   ]
  },
  {
   "cell_type": "markdown",
   "metadata": {},
   "source": [
    "- l : less\n",
    "- t : than\n",
    "- e : equal\n",
    "- g : great\n",
    "- n : negative\n",
    "\n",
    "\n",
    "属性访问：__getattr__, __setattr__, __getattribute__\n",
    "\n",
    "实例生成／类生成：__init__, __new__\n",
    "\n",
    "数字计算：__add__, __sub__, __mul__, __div__，__pow__, __round__, \n",
    "\n",
    "调用方法：__str__, __repr__，__len__，__bool__\n",
    "\n",
    "比较大小：__cmp__, __lt__, __le__, __eq__, __ne__, __gt__, __ge__\n",
    "\n",
    "集合访问：__setslice__, __getslice__, __getitem__, __setitem__, __contains__\n",
    "\n",
    "迭代器：__iter__, __next__\n"
   ]
  },
  {
   "cell_type": "markdown",
   "metadata": {},
   "source": [
    "## 先举个简单的例子做练习\n",
    "\n",
    "有长方形，三角形，圆形，三种形状，通过坐标来表示。\n",
    "\n",
    "1. 判断一个点是否在某个具体的形状里。（用\\__contains\\__)\n",
    "2. 比较两个形状的面积大小。（用\\__lt\\__或者\\__gt\\__）\n",
    "3. 利用\\__str\\__输出形状的信息\n",
    "\n",
    "如何设计类来完成上面的目标？\n"
   ]
  },
  {
   "cell_type": "markdown",
   "metadata": {},
   "source": [
    "|Point|         \n",
    "| :- |\n",
    "|- x  <br> - y <br> @ xy|\n",
    "|+ \\__init\\__ (x, y) <br> + \\__add\\__ (p) <br> + \\__sub\\__ (p) <br> + \\__str\\__ ()| \n",
    "\n",
    "|Shape|\n",
    "| :- |\n",
    "|- points <br> @ area|\n",
    "|+ \\__init\\__ (point_list) <br> + \\__str\\__ () <br> + \\__lt\\__ (p) <br> + \\__gt\\__ (p)| \n",
    "\n",
    "|RectAngle(Shape)|         \n",
    "| :- |\n",
    "|- w  <br> - h<br> @ area|\n",
    "|+ \\__init\\__ (start_p, w, h) <br> + \\__contains\\__ (p)| \n",
    "\n",
    "|Circle(Shape)|\n",
    "| :- |\n",
    "|- center_p <br> - radius<br> @ area|\n",
    "|+ \\__init\\__ (center_p, radius)<br> + \\__contains\\__ (p)| \n"
   ]
  },
  {
   "cell_type": "code",
   "execution_count": null,
   "metadata": {},
   "outputs": [],
   "source": [
    "%load day10/shape_oop_01.py\n"
   ]
  },
  {
   "cell_type": "code",
   "execution_count": null,
   "metadata": {
    "scrolled": true
   },
   "outputs": [],
   "source": [
    "test()"
   ]
  },
  {
   "cell_type": "markdown",
   "metadata": {},
   "source": [
    "## <a name=\"3\">作业</a>\n",
    "\n",
    "1. PK游戏里，如何让英雄动起来？\n",
    "2. 英雄动起来后，就有了距离，请通过距离来为英雄增加攻击范围，比如亚瑟是近战英雄，后羿是远程英雄，如何体现他们的不同？\n",
    "3. 考虑有的装备可以为英雄增加攻击范围。\n",
    "4. 考虑用contains来判断是否在英雄攻击范围"
   ]
  }
 ],
 "metadata": {
  "kernelspec": {
   "display_name": "Python 3",
   "language": "python",
   "name": "python3"
  },
  "language_info": {
   "codemirror_mode": {
    "name": "ipython",
    "version": 3
   },
   "file_extension": ".py",
   "mimetype": "text/x-python",
   "name": "python",
   "nbconvert_exporter": "python",
   "pygments_lexer": "ipython3",
   "version": "3.6.4"
  }
 },
 "nbformat": 4,
 "nbformat_minor": 2
}
