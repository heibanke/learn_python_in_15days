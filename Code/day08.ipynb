{
 "cells": [
  {
   "cell_type": "markdown",
   "metadata": {},
   "source": [
    "# 15天入门Python3\n",
    "\n",
    "CopyRight by 黑板客  \n",
    "转载请联系heibanke_at_aliyun.com"
   ]
  },
  {
   "cell_type": "markdown",
   "metadata": {},
   "source": [
    "**上节作业**\n",
    "\n",
    "汉诺塔\n",
    "\n",
    "如何存储和操作数据？"
   ]
  },
  {
   "cell_type": "code",
   "execution_count": null,
   "metadata": {
    "scrolled": true
   },
   "outputs": [],
   "source": [
    "%load day07/hnt.py\n"
   ]
  },
  {
   "cell_type": "markdown",
   "metadata": {},
   "source": [
    "## day08：生成器—临阵磨枪\n",
    "\n",
    "1. <a href=\"#1\">生成器</a>\n",
    "2. <a href=\"#2\">itertools</a>\n",
    "4. <a href=\"#3\">作业——八皇后</a>\n",
    "\n",
    "## <a name=\"1\">生成器</a>\n",
    "\n",
    "生成器函数  \n",
    "  1) return关键词被yield取代   \n",
    "  2) 当调用这个“函数”的时候，它会立即返回一个迭代器，而不立即执行函数内容，直到调用其返回迭代器的next方法是才开始执行，直到遇到yield语句暂停。   \n",
    "  3) 继续调用生成器返回的迭代器的next方法，恢复函数执行，直到再次遇到yield语句   \n",
    "  4) 如此反复，一直到遇到StopIteration  "
   ]
  },
  {
   "cell_type": "code",
   "execution_count": null,
   "metadata": {},
   "outputs": [],
   "source": [
    "# 最简单的例子，产生0～N个整数\n",
    "\n",
    "def irange(N):\n",
    "    a = 0\n",
    "    while a<N:\n",
    "        yield a\n",
    "        a = a+1\n",
    "\n",
    "b = irange(10)\n"
   ]
  },
  {
   "cell_type": "code",
   "execution_count": null,
   "metadata": {},
   "outputs": [],
   "source": [
    "print(b)\n",
    "next(b)"
   ]
  },
  {
   "cell_type": "markdown",
   "metadata": {},
   "source": [
    "当你要产生的数据只用来遍历。那么这个数据就适合用生成器来实现。不过要注意，生成器只能遍历一次。"
   ]
  },
  {
   "cell_type": "code",
   "execution_count": null,
   "metadata": {},
   "outputs": [],
   "source": [
    "# fabonacci序列\n",
    "\n",
    "from __future__ import print_function\n",
    "\n",
    "def fib():  \n",
    "    a, b = 0, 1  \n",
    "    while  True:  \n",
    "        yield b  \n",
    "        a, b = b, a + b\n",
    "\n",
    "for i in fib():\n",
    "    if i > 1000:\n",
    "        break\n",
    "    else:\n",
    "        print(i)"
   ]
  },
  {
   "cell_type": "markdown",
   "metadata": {},
   "source": [
    "### 生成器表达式"
   ]
  },
  {
   "cell_type": "code",
   "execution_count": null,
   "metadata": {},
   "outputs": [],
   "source": [
    "a  = (x**2 for x in range(10))\n",
    "next(a)"
   ]
  },
  {
   "cell_type": "code",
   "execution_count": null,
   "metadata": {},
   "outputs": [],
   "source": [
    "%%timeit -n 1 -r 1\n",
    "sum([x**2 for x in range(10000000)])"
   ]
  },
  {
   "cell_type": "code",
   "execution_count": null,
   "metadata": {},
   "outputs": [],
   "source": [
    "%%timeit -n 1 -r 1\n",
    "sum(x**2 for x in range(10000000))"
   ]
  },
  {
   "cell_type": "markdown",
   "metadata": {},
   "source": [
    "### send\n",
    "\n",
    "生成器可以修改遍历过程，插入指定的数据"
   ]
  },
  {
   "cell_type": "code",
   "execution_count": null,
   "metadata": {},
   "outputs": [],
   "source": [
    "def counter(maximum):\n",
    "    i = 0\n",
    "    while i < maximum:\n",
    "        val = (yield i)\n",
    "        print(\"i=%s, val=%s\"%(i, val))\n",
    "        # If value provided, change counter\n",
    "        if val is not None:\n",
    "            i = val\n",
    "        else:\n",
    "            i += 1"
   ]
  },
  {
   "cell_type": "code",
   "execution_count": null,
   "metadata": {},
   "outputs": [],
   "source": [
    "it = counter(10)\n",
    "print(\"yield value: %s\"%(next(it)))\n",
    "\n",
    "print(\"yield value: %s\"%(next(it)))\n",
    "\n",
    "print(it.send(5))\n",
    "\n",
    "# 想一下下个print(next(it))会输出什么？"
   ]
  },
  {
   "cell_type": "markdown",
   "metadata": {},
   "source": [
    "## <a name=\"2\">itertools</a>\n",
    "\n",
    "1. chain        # 将多个生成器串起来\n",
    "2. repeat       # 重复元素\n",
    "3. permutations # 排列，从N个数里取m个，考虑顺序。\n",
    "4. combinations # 组合，从N个数里取m个，不考虑顺序。\n",
    "5. product      # 依次从不同集合里任选一个数。笛卡尔乘积\n",
    "\n",
    "<img src=\"day08/cartesian_product.png\" width=300></img>"
   ]
  },
  {
   "cell_type": "code",
   "execution_count": null,
   "metadata": {},
   "outputs": [],
   "source": [
    "import itertools\n",
    "\n",
    "horses=[1,2,3,4]\n",
    "races = itertools.permutations(horses,3) \n",
    "\n",
    "a=itertools.product([1,2],[3,4],[5,6])\n",
    "b=itertools.repeat([1,2,3],4)\n",
    "c=itertools.combinations([1,2,3,4],3)\n",
    "d=itertools.chain(races, a, b, c)\n",
    "\n",
    "print([i for i in races])\n",
    "print(\"====================\")\n",
    "print([i for i in a])\n",
    "print(\"====================\")\n",
    "\n",
    "print([i for i in b])\n",
    "print(\"====================\")\n",
    "\n",
    "print([i for i in c])\n",
    "print(\"====================\")\n",
    "\n",
    "print([i for i in d])\n"
   ]
  },
  {
   "cell_type": "markdown",
   "metadata": {},
   "source": [
    "<a name=\"3\">**作业：八皇后问题**</a>\n",
    "\n",
    "8*8的棋盘上放下8个皇后，彼此吃不到对方。找出所有的位置组合。\n",
    "\n",
    "1. 棋盘的每一行，每一列，每一个条正斜线，每一条反斜线，都只能有1个皇后\n",
    "2. 使用生成器\n",
    "3. 支持N皇后\n",
    "\n",
    "<img src=\"day08/queen.png\"></img>"
   ]
  },
  {
   "cell_type": "code",
   "execution_count": null,
   "metadata": {},
   "outputs": [],
   "source": [
    "from day08.eight_queen import gen_n_queen, printsolution\n",
    "\n",
    "solves = gen_n_queen(5)"
   ]
  },
  {
   "cell_type": "code",
   "execution_count": null,
   "metadata": {},
   "outputs": [],
   "source": [
    "s = next(solves)\n",
    "print(s)\n",
    "printsolution(s)"
   ]
  },
  {
   "cell_type": "code",
   "execution_count": null,
   "metadata": {},
   "outputs": [],
   "source": [
    "def printsolution(solve):\n",
    "    n = len(solve)\n",
    "    sep = \"+\" + \"-+\" * n\n",
    "    print(sep)\n",
    "    for i in range(n):\n",
    "        squares = [\" \" for j in range(n)]\n",
    "        squares[solve[i]] = \"Q\"\n",
    "        print(\"|\" + \"|\".join(squares) + \"|\")\n",
    "        print(sep)"
   ]
  },
  {
   "cell_type": "markdown",
   "metadata": {},
   "source": [
    "提示：\n",
    "\n",
    "1. 产生所有的可能（先满足不在同一行，同一列）\n",
    "2. 判断是否满足对角条件\n",
    "3. 所有条件都满足，则yield输出\n",
    "4. next则继续检查剩余的可能\n",
    "5. 8皇后的解答有92种。"
   ]
  }
 ],
 "metadata": {
  "kernelspec": {
   "display_name": "Python 3",
   "language": "python",
   "name": "python3"
  },
  "language_info": {
   "codemirror_mode": {
    "name": "ipython",
    "version": 3
   },
   "file_extension": ".py",
   "mimetype": "text/x-python",
   "name": "python",
   "nbconvert_exporter": "python",
   "pygments_lexer": "ipython3",
   "version": "3.6.4"
  }
 },
 "nbformat": 4,
 "nbformat_minor": 2
}
