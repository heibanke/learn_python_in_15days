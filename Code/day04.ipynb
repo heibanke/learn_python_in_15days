{
 "cells": [
  {
   "cell_type": "markdown",
   "metadata": {},
   "source": [
    "# 15天入门Python3\n",
    "\n",
    "CopyRight by 黑板客  \n",
    "转载请联系heibanke_at_aliyun.com"
   ]
  },
  {
   "cell_type": "markdown",
   "metadata": {},
   "source": [
    "**上节作业**\n",
    "\n",
    "1. 熟悉列表，字典的基本操作\n",
    "2. 试着在tuple里放入list元素\n",
    "3. 修改tuple里的list，看tuple是否修改"
   ]
  },
  {
   "cell_type": "code",
   "execution_count": 6,
   "metadata": {},
   "outputs": [
    {
     "name": "stdout",
     "output_type": "stream",
     "text": [
      "([1, 2, 3], [2, 3, 4])\n",
      "([1, 2, 100], [2, 3, 4])\n"
     ]
    }
   ],
   "source": [
    "a=([1,2,3], [2,3,4])\n",
    "print(a)\n",
    "a[0][2]=100\n",
    "print(a)"
   ]
  },
  {
   "cell_type": "markdown",
   "metadata": {},
   "source": [
    "## day04：语句和表达式\n",
    "\n",
    "### 输入输出"
   ]
  },
  {
   "cell_type": "code",
   "execution_count": 7,
   "metadata": {},
   "outputs": [
    {
     "name": "stdout",
     "output_type": "stream",
     "text": [
      "Please input a number:10\n",
      "10 <class 'str'>\n"
     ]
    }
   ],
   "source": [
    "from __future__ import print_function\n",
    "from __future__ import unicode_literals\n",
    "\n",
    "from builtins import input\n",
    "# python2 中的raw_input 相当于python3中的input\n",
    "# 使用上面的语句可以让两者统一\n",
    "\n",
    "a = input('Please input a number:')\n",
    "print(a, type(a))\n"
   ]
  },
  {
   "cell_type": "code",
   "execution_count": 6,
   "metadata": {},
   "outputs": [
    {
     "name": "stdout",
     "output_type": "stream",
     "text": [
      "i like python\n",
      "you like python \n",
      "we like python \n"
     ]
    }
   ],
   "source": [
    "print(\"%s like %s\"%('i','python'))\n",
    "print(\"{0} like {1} \".format('you','python'))\n",
    "print(\"{a} like {b} \".format(a='we',b='python'))"
   ]
  },
  {
   "cell_type": "markdown",
   "metadata": {},
   "source": [
    "### 条件语句 if else "
   ]
  },
  {
   "cell_type": "code",
   "execution_count": 21,
   "metadata": {},
   "outputs": [
    {
     "name": "stdout",
     "output_type": "stream",
     "text": [
      "a是小于0的数\n"
     ]
    }
   ],
   "source": [
    "import random\n",
    "a = random.randint(-10,20)\n",
    "if a > 10:  \n",
    "    print('a是大于10的数')  \n",
    "elif a < 0:  \n",
    "    print('a是小于0的数')\n",
    "else:  \n",
    "    print('a是大于等于0 并且 小于等于10的数')"
   ]
  },
  {
   "cell_type": "markdown",
   "metadata": {},
   "source": [
    "逻辑表达式 not / and / or  \n",
    "三元表达式 a=y if x>0 else z\n"
   ]
  },
  {
   "cell_type": "code",
   "execution_count": 32,
   "metadata": {},
   "outputs": [
    {
     "name": "stdout",
     "output_type": "stream",
     "text": [
      "False 0.4830901428127746\n"
     ]
    }
   ],
   "source": [
    "x = random.random()\n",
    "a = True if x > 0.5 else False\n",
    "print(a, x)"
   ]
  },
  {
   "cell_type": "markdown",
   "metadata": {},
   "source": [
    "### 循环语句 for和while"
   ]
  },
  {
   "cell_type": "code",
   "execution_count": 5,
   "metadata": {},
   "outputs": [
    {
     "data": {
      "text/plain": [
       "'\\n\\nwhile 条件:  \\n  处理过程  \\n  if 条件:  \\n    continue/break  \\nelse:  \\n  处理过程\\n\\n'"
      ]
     },
     "execution_count": 5,
     "metadata": {},
     "output_type": "execute_result"
    }
   ],
   "source": [
    "\"\"\"\n",
    "\n",
    "while 条件:  \n",
    "    处理过程  \n",
    "    if 条件:  \n",
    "        continue/break  \n",
    "else:  \n",
    "    处理过程\n",
    "\n",
    "\"\"\""
   ]
  },
  {
   "cell_type": "code",
   "execution_count": 4,
   "metadata": {},
   "outputs": [
    {
     "name": "stdout",
     "output_type": "stream",
     "text": [
      "10, 8, 6, 4, 2, 结束 0\n"
     ]
    }
   ],
   "source": [
    "# 求小于等于x的比0大的偶数，并把它们输出\n",
    "x = 10\n",
    "while x > 0:\n",
    "    if  x%2!=0: \n",
    "        x-=1\n",
    "        continue\n",
    "    else:\n",
    "        print(x, end=', ')\n",
    "    x-=1\n",
    "else:\n",
    "    print('结束',x)\n",
    "    "
   ]
  },
  {
   "cell_type": "code",
   "execution_count": null,
   "metadata": {},
   "outputs": [],
   "source": [
    "# 将上面的结果整理成下面的格式输出：\n",
    "# 比如x＝10的话：10，8，6，4，2（都在一行）\n",
    "# Your Code\n",
    "\n",
    "\n"
   ]
  },
  {
   "cell_type": "code",
   "execution_count": null,
   "metadata": {},
   "outputs": [],
   "source": [
    "# 利用input得到一个数，判断它是否是素数(质数)：大于1的自然数，除1和它本身外没有整数能够整除\n",
    "# 结果“是”，“不是”\n",
    "\n",
    "x = int(input('请输入一个数字：'))\n",
    "# Your code\n",
    "\n",
    "\n"
   ]
  },
  {
   "cell_type": "code",
   "execution_count": 5,
   "metadata": {},
   "outputs": [
    {
     "data": {
      "text/plain": [
       "'\\n\\nwhile 条件:  \\n  处理过程  \\n  if 条件:  \\n    continue/break  \\nelse:  \\n  处理过程\\n\\n'"
      ]
     },
     "execution_count": 5,
     "metadata": {},
     "output_type": "execute_result"
    }
   ],
   "source": [
    "\"\"\"\n",
    "\n",
    "for x in 集合:  \n",
    "    处理过程  \n",
    "    if 条件:  \n",
    "        continue/break  \n",
    "else:  \n",
    "    处理过程\n",
    "\n",
    "\"\"\""
   ]
  },
  {
   "cell_type": "code",
   "execution_count": 6,
   "metadata": {},
   "outputs": [
    {
     "name": "stdout",
     "output_type": "stream",
     "text": [
      "10\n"
     ]
    }
   ],
   "source": [
    "sum = 0\n",
    "for x in [1, 2, 3, 4]:\n",
    "    sum += x\n",
    "else:\n",
    "    print(sum)"
   ]
  },
  {
   "cell_type": "code",
   "execution_count": 9,
   "metadata": {},
   "outputs": [
    {
     "name": "stdout",
     "output_type": "stream",
     "text": [
      "小李 没找到\n"
     ]
    }
   ],
   "source": [
    "items = [\"小方\", \"小白\", \"小三\", \"小王\"] # 名单\n",
    "key = \"小李\" # 需要找的人名\n",
    "\n",
    "for item in items: # 遍历\n",
    "    if item == key: # 判断\n",
    "        print(key, \"找到了\")\n",
    "        break\n",
    "else:\n",
    "    print(key, \"没找到\")"
   ]
  },
  {
   "cell_type": "code",
   "execution_count": 10,
   "metadata": {},
   "outputs": [],
   "source": [
    "# 给一个字符串，要求处理后输出结果如下：\n",
    "# \"abcd\"    -->  \"A-Bb-Ccc-Dddd\"\n",
    "# \"RqaEzty\" --> \"R-Qq-Aaa-Eeee-Zzzzz-Tttttt-Yyyyyyy\"\n",
    "# \"cwAt\"    --> \"C-Ww-Aaa-Tttt\"\n",
    "\n",
    "txt = [\"abcd\", \"RqaEzty\", \"cwAt\"]\n",
    "# Your code\n",
    "\n",
    "\n"
   ]
  },
  {
   "cell_type": "markdown",
   "metadata": {},
   "source": [
    "### 列表解析"
   ]
  },
  {
   "cell_type": "code",
   "execution_count": 46,
   "metadata": {},
   "outputs": [
    {
     "name": "stdout",
     "output_type": "stream",
     "text": [
      "{'c++': 38599, 'python': 100931, 'shell': 26153, 'ruby': 93142, 'java': 84275, 'javascript': 184220, 'c': 46843, 'php': 78014, 'objective-c': 34444}\n",
      "ref =  {'python': 100931, 'shell': 26153, 'ruby': 93142, 'java': 84275, 'javascript': 184220, 'c': 46843, 'php': 78014, 'objective-c': 34444}\n",
      "copy =  {'c++': 38599, 'python': 100931, 'shell': 26153, 'ruby': 93142, 'java': 84275, 'javascript': 184220, 'c': 46843}\n",
      "{}\n"
     ]
    }
   ],
   "source": [
    "# 引用和copy\n",
    "a_ref = code_dict\n",
    "a_copy = code_dict.copy()\n",
    "\n",
    "#--------update, del, copy, clear\n",
    "other_code = {'php':78014,'objective-c':34444}\n",
    "code_dict.update(other_code)\n",
    "print(code_dict)\n",
    "del code_dict['c++']\n",
    "print('ref = ',a_ref)\n",
    "print('copy = ', a_copy)\n",
    "a_ref.clear()\n",
    "print(a_ref)\n",
    "\n",
    "code_dict = a_copy.copy() # 为了让这段代码可以单独执行"
   ]
  },
  {
   "cell_type": "markdown",
   "metadata": {},
   "source": [
    "### 异常处理\n",
    "\n",
    "try/except，  try后语句有异常发生后执行except  \n",
    "try/finally， 无论异常是否发生都执行finally  \n",
    "raise error(message)    触发异常  \n",
    "Assert condition，message   \n",
    "条件触发错误，触发后打印信息，并终止程序\n"
   ]
  },
  {
   "cell_type": "code",
   "execution_count": 13,
   "metadata": {},
   "outputs": [
    {
     "name": "stdout",
     "output_type": "stream",
     "text": [
      "'int' object is not subscriptable\n"
     ]
    }
   ],
   "source": [
    "#n[1]         #NameError\n",
    "#n=2; n[1]    #TypeError\n",
    "#n=[2]; n[1]  #IndexError\n",
    "#n={}; n[1]   #KeyError\n",
    "try:\n",
    "    n=2;n[1]\n",
    "except Exception as e:\n",
    "    print(e)"
   ]
  },
  {
   "cell_type": "markdown",
   "metadata": {},
   "source": [
    "**作业**\n",
    "\n",
    "1. 完成猜数字程序\n",
    "2. 优化猜数字"
   ]
  },
  {
   "cell_type": "code",
   "execution_count": null,
   "metadata": {},
   "outputs": [],
   "source": [
    "# 1. 随机产生要猜的数字\n",
    "# 2. 循环获得用户输入\n",
    "# 3. 判断用户输入和结果的关系，输出提示“你猜的数太大了”， 或者“你猜的数太小了”\n",
    "# 4. 正确后输出结果“恭喜你，猜对了！”\n",
    "\n",
    "from __future__ import print_function\n",
    "from __future__ import unicode_literals\n",
    "from builtins import input\n",
    "\n",
    "\n",
    "import random\n",
    "result = random.randint(1,100)\n",
    "\n",
    "print(\"你好, 你很幸运, 我是一个路过的神仙, 我有一个秘密!\")\n",
    "print(\"我的秘密是一个从1到99的数字。\")\n",
    "print(\"如果你猜到它, 那说明你真的很幸运, 赶紧去买彩票吧!\")\n",
    "\n",
    "while True:\n",
    "    guess_num = int(input(\"请输入你要猜的数字：\"))\n",
    "    # Your code\n",
    "    \n",
    "    \n",
    "    \n",
    "    "
   ]
  },
  {
   "cell_type": "code",
   "execution_count": null,
   "metadata": {},
   "outputs": [],
   "source": [
    "# 1. 猜的次数太多，总能猜对，如果最多只能猜6次，6次猜不对则Game Over。如何修改\n",
    "# 2. 用户输入错误异常处理，如果用户输入非数字的字符，如何进行异常处理，提示用户并要求用户重新输入。"
   ]
  }
 ],
 "metadata": {
  "kernelspec": {
   "display_name": "Python 3",
   "language": "python",
   "name": "python3"
  },
  "language_info": {
   "codemirror_mode": {
    "name": "ipython",
    "version": 3
   },
   "file_extension": ".py",
   "mimetype": "text/x-python",
   "name": "python",
   "nbconvert_exporter": "python",
   "pygments_lexer": "ipython3",
   "version": "3.6.4"
  }
 },
 "nbformat": 4,
 "nbformat_minor": 2
}
