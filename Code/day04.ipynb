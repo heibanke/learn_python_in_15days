{
 "cells": [
  {
   "cell_type": "markdown",
   "metadata": {},
   "source": [
    "# 15天入门Python3\n",
    "\n",
    "CopyRight by 黑板客  \n",
    "转载请联系heibanke_at_aliyun.com"
   ]
  },
  {
   "cell_type": "markdown",
   "metadata": {},
   "source": [
    "**上节作业**\n",
    "\n",
    "1. 熟悉列表，字典的基本操作\n",
    "2. 试着在tuple里放入list元素\n",
    "3. 修改tuple里的list，看tuple是否修改\n",
    "4. 操作文件"
   ]
  },
  {
   "cell_type": "code",
   "execution_count": null,
   "metadata": {},
   "outputs": [],
   "source": [
    "a=([1,2,3], [2,3,4])\n",
    "print(a)\n",
    "a[0][2]=100\n",
    "print(a)\n",
    "\n",
    "# a[0]=[3,4,5,6]"
   ]
  },
  {
   "cell_type": "markdown",
   "metadata": {},
   "source": [
    "## day04：简单步骤—语句和表达式\n",
    "\n",
    "1. <a href=\"#1\">输入输出</a>\n",
    "2. <a href=\"#2\">条件语句</a>\n",
    "3. <a href=\"#3\">循环语句</a>\n",
    "4. <a href=\"#4\">列表解析</a>\n",
    "5. <a href=\"#5\">异常处理</a>\n",
    "6. <a href=\"#6\">作业</a>\n",
    "\n",
    "通过这些语句把不同的数据整合起来，实现想要的功能。\n",
    "\n",
    "### <a name=\"1\">输入输出</a>"
   ]
  },
  {
   "cell_type": "code",
   "execution_count": null,
   "metadata": {},
   "outputs": [],
   "source": [
    "from __future__ import print_function\n",
    "from __future__ import unicode_literals\n",
    "\n",
    "from builtins import input\n",
    "# python2 中的raw_input 相当于python3中的input\n",
    "# 使用上面的语句可以让两者统一\n",
    "\n",
    "a = input('Please input a number:')\n",
    "print(a, type(a))\n",
    "int(a)"
   ]
  },
  {
   "cell_type": "code",
   "execution_count": null,
   "metadata": {},
   "outputs": [],
   "source": [
    "print(\"%s like %s\"%('i','python'))\n",
    "print(\"{0} like {1} \".format('you','python'))\n",
    "print(\"{a} like {b} \".format(a='we',b='python'))"
   ]
  },
  {
   "cell_type": "markdown",
   "metadata": {},
   "source": [
    "### <a name=\"2\">条件语句 if else </a>"
   ]
  },
  {
   "cell_type": "code",
   "execution_count": null,
   "metadata": {},
   "outputs": [],
   "source": [
    "# 一只猴子，看到一棵香蕉树，不过树旁有只凶猛的狮子。它会不顾危险去吃香蕉，还是会悄悄溜走。\n",
    "\n",
    "if 猴子快饿死了:\n",
    "    不顾危险去吃香蕉\n",
    "elif 猴子还能坚持会:\n",
    "    躲在旁边观察，寻找时机\n",
    "else: # 不饿\n",
    "    悄悄溜走\n",
    "\n",
    "# 自己想一个实际的例子1。\n",
    "\n",
    "# 注意结尾是:的语句后面，换行需要缩进，习惯缩进4个空格。\n",
    "# 缩进就类似于c语言和javascript里的大括号{}\n",
    "# 由缩进的一致来区分代码块。\n",
    "# 缩进不一致会报错。"
   ]
  },
  {
   "cell_type": "code",
   "execution_count": null,
   "metadata": {},
   "outputs": [],
   "source": [
    "import random\n",
    "a = random.randint(-10,20)\n",
    "if a > 10:  \n",
    "    print('a是大于10的数')  \n",
    "elif a < 0:  \n",
    "    print('a是小于0的数')\n",
    "else:  \n",
    "    print('a是大于等于0 并且 小于等于10的数')"
   ]
  },
  {
   "cell_type": "markdown",
   "metadata": {},
   "source": [
    "逻辑表达式 not / and / or  \n",
    "三元表达式 a=y if x>0 else z\n"
   ]
  },
  {
   "cell_type": "code",
   "execution_count": null,
   "metadata": {},
   "outputs": [],
   "source": [
    "x = random.random()\n",
    "a = True if x > 0.5 else False\n",
    "print(a, x)"
   ]
  },
  {
   "cell_type": "markdown",
   "metadata": {},
   "source": [
    "### <a name=\"3\">循环语句 for和while</a>"
   ]
  },
  {
   "cell_type": "code",
   "execution_count": null,
   "metadata": {},
   "outputs": [],
   "source": [
    "\"\"\"\n",
    "# 同样注意缩进\n",
    "\n",
    "while 条件:  \n",
    "    处理过程  \n",
    "    if 条件:  \n",
    "        continue/break/pass  \n",
    "else:  \n",
    "    处理过程\n",
    "\n",
    "\"\"\""
   ]
  },
  {
   "cell_type": "code",
   "execution_count": null,
   "metadata": {},
   "outputs": [],
   "source": [
    "while 工作没做完:\n",
    "    加班1小时 (剩余工作 - 1)\n",
    "    if 困的不行了:\n",
    "        break\n",
    "else:\n",
    "    下班回家\n",
    "\n",
    "# 自己想一个实际的例子2"
   ]
  },
  {
   "cell_type": "code",
   "execution_count": null,
   "metadata": {},
   "outputs": [],
   "source": [
    "# 求小于等于x的比0大的偶数，并把它们输出\n",
    "x = 10\n",
    "while x > 0:\n",
    "    if  x%2==0: \n",
    "        print(x)\n",
    "    x-=1\n",
    "else:\n",
    "    print('结束',x)\n",
    "    "
   ]
  },
  {
   "cell_type": "code",
   "execution_count": null,
   "metadata": {},
   "outputs": [],
   "source": [
    "# 将上面的结果整理成下面的格式输出：\n",
    "# 比如x＝10的话：10，8，6，4，2（都在一行）\n",
    "# Your Code\n",
    "\n",
    "\n"
   ]
  },
  {
   "cell_type": "code",
   "execution_count": null,
   "metadata": {},
   "outputs": [],
   "source": [
    "# 利用input得到一个数，判断它是否是素数(质数)：大于1的自然数，除1和它本身外没有整数能够整除\n",
    "# 结果“是”，“不是”\n",
    "\n",
    "x = int(input('请输入一个数字：'))\n",
    "# Your code\n",
    "\n",
    "\n"
   ]
  },
  {
   "cell_type": "code",
   "execution_count": null,
   "metadata": {},
   "outputs": [],
   "source": [
    "\"\"\"\n",
    "\n",
    "for x in 集合:  \n",
    "    处理过程  \n",
    "    if 条件:  \n",
    "        continue/break/pass  \n",
    "else:  \n",
    "    处理过程\n",
    "\n",
    "\"\"\""
   ]
  },
  {
   "cell_type": "code",
   "execution_count": null,
   "metadata": {},
   "outputs": [],
   "source": [
    "for 作业 in 所有作业:\n",
    "    做这个作业\n",
    "    if 实在做不动了，不想做了:\n",
    "        break\n",
    "else:\n",
    "    出去玩\n",
    "    \n",
    "# 自己想一个实际的例子3"
   ]
  },
  {
   "cell_type": "code",
   "execution_count": null,
   "metadata": {},
   "outputs": [],
   "source": [
    "sum_i = 0\n",
    "for x in [1, 2, 3, 4]:\n",
    "    sum_i += x\n",
    "else:\n",
    "    print(sum_i)"
   ]
  },
  {
   "cell_type": "code",
   "execution_count": null,
   "metadata": {},
   "outputs": [],
   "source": [
    "items = [\"小方\", \"小白\", \"小三\", \"小王\"] # 名单\n",
    "key = \"小李\" # 需要找的人名\n",
    "\n",
    "for item in items: # 遍历\n",
    "    if item == key: # 判断\n",
    "        print(key, \"找到了\")\n",
    "        break\n",
    "else:\n",
    "    print(key, \"没找到\")"
   ]
  },
  {
   "cell_type": "code",
   "execution_count": null,
   "metadata": {},
   "outputs": [],
   "source": [
    "# 给一个字符串，要求处理后输出结果如下：\n",
    "# \"abcd\"    -->  \"A-Bb-Ccc-Dddd\"\n",
    "# \"RqaEzty\" --> \"R-Qq-Aaa-Eeee-Zzzzz-Tttttt-Yyyyyyy\"\n",
    "# \"cwAt\"    --> \"C-Ww-Aaa-Tttt\"\n",
    "\n",
    "txt = [\"abcd\", \"RqaEzty\", \"cwAt\"]\n",
    "# Your code\n",
    "\n",
    "\n"
   ]
  },
  {
   "cell_type": "markdown",
   "metadata": {},
   "source": [
    "### <a name=\"4\">列表解析</a>"
   ]
  },
  {
   "cell_type": "code",
   "execution_count": null,
   "metadata": {},
   "outputs": [],
   "source": [
    "# 求10以内大于0的偶数\n",
    "[a for a in range(10, 0, -1) if a%2==0]"
   ]
  },
  {
   "cell_type": "code",
   "execution_count": null,
   "metadata": {},
   "outputs": [],
   "source": [
    "# 去除l1里的重复字符\n",
    "l1 = ['b','c','d','b','c','a','a']\n",
    "l2 = []\n",
    "[l2.append(i) for i in l1 if not i in l2]\n",
    "print(l2)"
   ]
  },
  {
   "cell_type": "code",
   "execution_count": null,
   "metadata": {},
   "outputs": [],
   "source": [
    "a = [(x,y) for x, y in ((1,5),(2,6),(3,7),(4,8)) if x*y > 25]\n",
    "b = [(x,y) for x in (1,2,3,4) for y in (5,6,7,8) if x*y > 25]\n",
    "print(a)\n",
    "print(b)\n",
    "\n",
    "# 这两种写法有区别吗？"
   ]
  },
  {
   "cell_type": "markdown",
   "metadata": {},
   "source": [
    "### <a name=\"5\">异常处理</a>\n",
    "\n",
    "try/except，  try后语句有异常发生后执行except  \n",
    "try/finally， 无论异常是否发生都执行finally  \n",
    "raise error(message)    触发异常  \n",
    "assert condition，message   \n",
    "条件触发错误，触发后打印信息，并终止程序\n"
   ]
  },
  {
   "cell_type": "code",
   "execution_count": null,
   "metadata": {},
   "outputs": [],
   "source": [
    "#n[1]         #NameError\n",
    "#n=2; n[1]    #TypeError\n",
    "#n=[2]; n[1]  #IndexError\n",
    "#n={}; n[1]   #KeyError\n",
    "try:\n",
    "    n=2\n",
    "    #raise IndexError(\"error\")\n",
    "    assert n==0,\"assert error\"\n",
    "except Exception as e: # support python2 and python3\n",
    "    print(type(e), e)\n",
    "finally:\n",
    "    print('Over')"
   ]
  },
  {
   "cell_type": "code",
   "execution_count": null,
   "metadata": {},
   "outputs": [],
   "source": [
    "# 经常用于测试，判断输出结果是否和预期一致。\n",
    "assert n==0,\"assert error\""
   ]
  },
  {
   "cell_type": "markdown",
   "metadata": {},
   "source": [
    "<a name=\"6\">**作业**</a>\n",
    "\n",
    "1. 把自己想的三个栗子发到讨论区\n",
    "2. 把100以内的两个乘积大于25的数挑出来。分别用列表解析和for循环实现。并且分别评估两种方式的时间。（timeit）\n",
    "3. 完成下面猜数字程序\n",
    "4. 根据优化思路优化猜数字程序"
   ]
  },
  {
   "cell_type": "code",
   "execution_count": null,
   "metadata": {},
   "outputs": [],
   "source": [
    "from __future__ import print_function\n",
    "from __future__ import unicode_literals\n",
    "from builtins import input\n",
    "\n",
    "print(\"你好, 你很幸运, 我是一个路过的神仙, 我有一个秘密!\")\n",
    "print(\"我的秘密是一个从1到99的数字。\")\n",
    "print(\"如果你猜到它, 那说明你真的很幸运, 赶紧去买彩票吧!\")\n",
    "\n",
    "# 1. 随机产生要猜的数字\n",
    "# Your code1\n",
    "\n",
    "while True:\n",
    "    # 2. 循环获得用户输入\n",
    "    # Your code2\n",
    "    \n",
    "    # 3. 判断用户输入和结果的关系，输出提示“你猜的数太大了”， 或者“你猜的数太小了”\n",
    "    #    正确后输出结果“恭喜你，猜对了！”\n",
    "    # Your code3\n",
    "    "
   ]
  },
  {
   "cell_type": "code",
   "execution_count": null,
   "metadata": {},
   "outputs": [],
   "source": [
    "# 优化思路：\n",
    "# 1. 猜的次数太多，总能猜对，如果最多只能猜6次，6次猜不对则Game Over。如何修改\n",
    "# 2. 用户输入错误异常处理，如果用户输入非数字的字符，如何进行异常处理，提示用户并要求用户重新输入。"
   ]
  }
 ],
 "metadata": {
  "kernelspec": {
   "display_name": "Python 3",
   "language": "python",
   "name": "python3"
  },
  "language_info": {
   "codemirror_mode": {
    "name": "ipython",
    "version": 3
   },
   "file_extension": ".py",
   "mimetype": "text/x-python",
   "name": "python",
   "nbconvert_exporter": "python",
   "pygments_lexer": "ipython3",
   "version": "3.6.4"
  }
 },
 "nbformat": 4,
 "nbformat_minor": 2
}
