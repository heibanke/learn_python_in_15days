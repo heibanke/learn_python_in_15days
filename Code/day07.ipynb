{
 "cells": [
  {
   "cell_type": "markdown",
   "metadata": {},
   "source": [
    "# 15天入门Python3\n",
    "\n",
    "CopyRight by 黑板客  \n",
    "转载请联系heibanke_at_aliyun.com"
   ]
  },
  {
   "cell_type": "markdown",
   "metadata": {},
   "source": [
    "**上节作业**\n",
    "\n",
    "1. 用装饰器完成给人穿各种衣服的例子\n",
    "2. 实现套装适合各种场景，比如：上班工作套装，运动套装，休闲套装等。\n"
   ]
  },
  {
   "cell_type": "code",
   "execution_count": null,
   "metadata": {
    "scrolled": true
   },
   "outputs": [],
   "source": [
    "%load day06/decorator_mode.py\n"
   ]
  },
  {
   "cell_type": "markdown",
   "metadata": {},
   "source": [
    "## day07：递归\n",
    "\n",
    "1. <a href=\"#1\">递归——函数调用它自己</a>\n",
    "2. <a href=\"#2\">快速排序算法</a>\n",
    "4. <a href=\"#5\">作业——汉诺塔</a>\n",
    "\n",
    "## <a name=\"1\">递归</a>\n",
    "\n",
    "递归就是在函数中调用它自己。\n"
   ]
  },
  {
   "cell_type": "code",
   "execution_count": 5,
   "metadata": {},
   "outputs": [
    {
     "name": "stdout",
     "output_type": "stream",
     "text": [
      "从前有座山，山里有个庙，庙里有个老和尚，老和尚对小和尚说: \n",
      "'从前有座山，山里有个庙，庙里有个老和尚，老和尚对小和尚说: \n",
      "'从前有座山，山里有个庙，庙里有个老和尚，老和尚对小和尚说: \n",
      "'从前有座山，山里有个庙，庙里有个老和尚，老和尚对小和尚说: \n",
      "'从前有座山，山里有个庙，庙里有个老和尚，老和尚对小和尚说: \n",
      "'从前有座山，山里有个庙，庙里有个老和尚，老和尚对小和尚说: \n",
      "'从前有座山，山里有个庙，庙里有个老和尚，老和尚对小和尚说: \n",
      "'从前有座山，山里有个庙，庙里有个老和尚，老和尚对小和尚说: \n",
      "'从前有座山，山里有个庙，庙里有个老和尚，老和尚对小和尚说: \n",
      "'从前有座山，山里有个庙，庙里有个老和尚，老和尚对小和尚说: \n",
      "'今天的故事讲完了！''''''''''\n"
     ]
    }
   ],
   "source": [
    "def jianggushi(n):\n",
    "    if n==0:\n",
    "        return \"今天的故事讲完了！\"\n",
    "    return \"从前有座山，山里有个庙，庙里有个老和尚，老和尚对小和尚说: \\n'%s'\"%(jianggushi(n-1))\n",
    "\n",
    "print(jianggushi(10))"
   ]
  },
  {
   "cell_type": "code",
   "execution_count": null,
   "metadata": {},
   "outputs": [],
   "source": [
    "# 最简单的例子，n的阶乘 n!\n",
    "\n",
    "# 循环实现\n",
    "def g(n):\n",
    "    result = 1\n",
    "    while n>=1:\n",
    "        result *=n\n",
    "        n-=1\n",
    "    return result\n",
    "\n",
    "# 递归实现\n",
    "def f(n):\n",
    "    if n<=1:\n",
    "        return 1\n",
    "    return n*f(n-1)\n",
    "\n",
    "print(f(10), 10*9*8*7*6*5*4*3*2*1, g(10))"
   ]
  },
  {
   "cell_type": "markdown",
   "metadata": {},
   "source": [
    "当你要解决的问题可以分解为几个小规模的同类问题。那么这个问题就可以用递归来实现。"
   ]
  },
  {
   "cell_type": "markdown",
   "metadata": {},
   "source": [
    "Fibonacci序列\n",
    "\n",
    "1对小兔子，一个月后成年，成年后每月下一对小兔子。1年后会有多少对兔子？\n",
    "\n",
    "\n",
    "<img src=\"day07/fibonacci.png\" width=600></img>\n",
    "\n",
    "兔子的数量有个规律：f(N) = f(N-1) + f(N-2)\n"
   ]
  },
  {
   "cell_type": "code",
   "execution_count": null,
   "metadata": {},
   "outputs": [],
   "source": [
    "# fabonacci序列\n",
    "\n",
    "from __future__ import print_function\n",
    "\n",
    "# 循环实现\n",
    "def g(x):\n",
    "    if x<0:\n",
    "        return 1\n",
    "    \n",
    "    xn = [1,1]\n",
    "    for i in range(x-1):\n",
    "        xn = [xn[1], xn[0]+xn[1]]\n",
    "    \n",
    "    return xn[1]\n",
    "\n",
    "# 递归实现\n",
    "def f(x):\n",
    "    if x<=1:\n",
    "        return 1\n",
    "    else:\n",
    "        return f(x-1) + f(x-2)\n",
    "\n",
    "\n",
    "\n",
    "print(f(7), g(7))\n"
   ]
  },
  {
   "cell_type": "code",
   "execution_count": null,
   "metadata": {},
   "outputs": [],
   "source": [
    "# 练习\n",
    "# 1. 实现函数s_reverse(s)对字符串求反，要求循环写法和递归写法。\n",
    "# 2. 实现binary_search函数对序列进行二分法查找。要求循环写法和递归写法。\n",
    "# 3. 同时写出自测试代码\n",
    "\n",
    "def binary_search(sorted_list, x):\n",
    "    \"\"\"\n",
    "    查找x是否在有序列表sorted_list里，\n",
    "    在，则返回index，是这个列表的第几个元素。\n",
    "    不在，则返回-1\n",
    "    \"\"\"\n",
    "    # Your Code\n",
    "    pass\n"
   ]
  },
  {
   "cell_type": "code",
   "execution_count": null,
   "metadata": {},
   "outputs": [],
   "source": [
    "%load day07/binary_search_test.py"
   ]
  },
  {
   "cell_type": "markdown",
   "metadata": {},
   "source": [
    "## <a name=\"2\">快速排序算法</a>\n",
    "\n",
    "<img src=\"day07/quicksort.png\" width=200></img>"
   ]
  },
  {
   "cell_type": "markdown",
   "metadata": {},
   "source": [
    "对A这个List进行排序：\n",
    "\n",
    "1. 从A里选一个元素x（如最后一个）\n",
    "2. 从第一个到倒数第二个和x进行比较，比x小的放在A的前半部分p到i－1，比x大的放在A的后半部分i＋1到r。i的位置就是元素x。\n",
    "3. i把A分为两部分，再次按上述方法对两部分分别进行排序\n"
   ]
  },
  {
   "cell_type": "code",
   "execution_count": null,
   "metadata": {},
   "outputs": [],
   "source": [
    "from day07.quicksort import partition\n",
    "\n",
    "def quicksort(A, p, r):\n",
    "    if p < r:\n",
    "        i = partition(A, p, r)\n",
    "        quicksort(A, p, i-1)\n",
    "        quicksort(A, i+1, r)\n",
    "        \n",
    "test_list=[random.randint(1,100) for i in range(100)]\n",
    "quicksort(test_list, 0, 99)"
   ]
  },
  {
   "cell_type": "markdown",
   "metadata": {},
   "source": [
    "<a name=\"5\">**作业：**</a>\n",
    "\n",
    "1. 对10000个随机数进行排序，评估冒泡算法和快速排序的时间差别\n",
    "2. 汉诺塔（hanoi tower）  \n",
    "任务：\n",
    "把三个不同大小的盘子从左边的源柱子，搬到最右边的目标柱子上。  \n",
    "\n",
    "要求：  \n",
    "1）一次搬一个盘子。搬完一个盘子才能搬下一个。不能让盘子在空中。  \n",
    "2）大盘子下面不能有小盘子。小盘子下面可以有大盘子。\n",
    "\n",
    "<img src=\"day07/hnt_start.png\" width=460></img>"
   ]
  },
  {
   "cell_type": "markdown",
   "metadata": {},
   "source": [
    "<img src=\"day07/hnt.gif\"></img>"
   ]
  },
  {
   "cell_type": "markdown",
   "metadata": {},
   "source": [
    "提示：  \n",
    "整个过程可以分解成三个子任务。  \n",
    "\n",
    "1. 把n-1块一起 从 源柱子 搬到 暂存柱子上。\n",
    "2. 把第n块 从 源柱子 搬到 目标柱子上。\n",
    "3. 把n-1块一起 从 暂存柱子 搬到 目标柱子上。\n",
    "\n",
    "<img src=\"day07/hnt_1.png\" width=460></img>\n",
    "<img src=\"day07/hnt_2.png\" width=460></img>\n",
    "<img src=\"day07/hnt_3.png\" width=460></img>\n",
    "\n"
   ]
  },
  {
   "cell_type": "markdown",
   "metadata": {},
   "source": [
    "编程实现汉诺塔的解决方法：\n",
    "\n",
    "每搬一次就输出这样的信息：\n",
    "\n",
    "把xxx从xxx搬到xxx，  \n",
    "搬完后的状态是。。。。。。\n",
    "\n",
    "\n",
    "数据如何描述？  \n",
    "如何对数据进行操作？"
   ]
  }
 ],
 "metadata": {
  "kernelspec": {
   "display_name": "Python 3",
   "language": "python",
   "name": "python3"
  },
  "language_info": {
   "codemirror_mode": {
    "name": "ipython",
    "version": 3
   },
   "file_extension": ".py",
   "mimetype": "text/x-python",
   "name": "python",
   "nbconvert_exporter": "python",
   "pygments_lexer": "ipython3",
   "version": "3.6.4"
  }
 },
 "nbformat": 4,
 "nbformat_minor": 2
}
