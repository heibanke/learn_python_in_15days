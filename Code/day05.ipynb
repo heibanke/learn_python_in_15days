{
 "cells": [
  {
   "cell_type": "markdown",
   "metadata": {},
   "source": [
    "# 15天入门Python3\n",
    "\n",
    "CopyRight by 黑板客  \n",
    "转载请联系heibanke_at_aliyun.com"
   ]
  },
  {
   "cell_type": "markdown",
   "metadata": {},
   "source": [
    "**上节作业**\n",
    "\n",
    "1. 把自己想的三个栗子发到讨论区\n",
    "2. 把100以内的两个乘积大于25的数挑出来。分别用列表解析和for循环实现。并且分别评估两种方式的时间。\n",
    "3. 完成猜数字程序\n",
    "4. 优化猜数字\n",
    "\n",
    "优化思路：\n",
    "1. 猜的次数太多，总能猜对，如果最多只能猜6次，6次猜不对则Game Over。如何修改\n",
    "2. 用户输入错误异常处理，如果用户输入非数字的字符，如何进行异常处理，提示用户并要求用户重新输入。"
   ]
  },
  {
   "cell_type": "code",
   "execution_count": null,
   "metadata": {
    "scrolled": true
   },
   "outputs": [],
   "source": [
    "%%timeit -n 1000\n",
    "a=[(x,y) for x in range(100) for y in range(100) if x*y > 25]"
   ]
  },
  {
   "cell_type": "code",
   "execution_count": null,
   "metadata": {},
   "outputs": [],
   "source": [
    "%%timeit -n 1000\n",
    "a=[]\n",
    "for x in range(0,100):\n",
    "    for y in range(0,100):\n",
    "        if x*y>25:\n",
    "            a.append((x,y))"
   ]
  },
  {
   "cell_type": "code",
   "execution_count": null,
   "metadata": {},
   "outputs": [],
   "source": [
    "# 3\n",
    "%load day04/guess_number.py"
   ]
  },
  {
   "cell_type": "code",
   "execution_count": null,
   "metadata": {},
   "outputs": [],
   "source": [
    "# 4\n",
    "%load day04/guess_number_opt1.py"
   ]
  },
  {
   "cell_type": "code",
   "execution_count": null,
   "metadata": {},
   "outputs": [],
   "source": [
    "%load day04/guess_number_opt2.py"
   ]
  },
  {
   "cell_type": "markdown",
   "metadata": {},
   "source": [
    "## day05：操作步骤的集合—函数使操作更高效（1）\n",
    "\n",
    "1. 语法\n",
    "2. 理解函数也是对象\n",
    "3. lambda匿名函数\n",
    "4. 函数编程的例子\n",
    "\n",
    "### 函数的语法"
   ]
  },
  {
   "cell_type": "code",
   "execution_count": null,
   "metadata": {},
   "outputs": [],
   "source": [
    "\"\"\"\n",
    "函数定义\n",
    "\n",
    "def 做蛋炒饭(鸡蛋，米饭，油，香肠，盐):\n",
    "    鸡蛋打成汤加盐\n",
    "    炒熟鸡蛋，盛出来\n",
    "    炒葱花，火腿，加盐\n",
    "    加米饭，加鸡蛋，翻炒\n",
    "    return 一份蛋炒饭\n",
    "\n",
    "函数调用\n",
    "\n",
    "做蛋炒饭(参数)\n",
    "\"\"\""
   ]
  },
  {
   "cell_type": "code",
   "execution_count": 2,
   "metadata": {},
   "outputs": [
    {
     "name": "stdout",
     "output_type": "stream",
     "text": [
      "a=1, args=(), kargs={}\n",
      "a=1, args=(2, 3), kargs={}\n",
      "a=1, args=(2, 3), kargs={'x': 1, 'y': 2}\n",
      "None\n"
     ]
    }
   ],
   "source": [
    "from __future__ import print_function\n",
    "from __future__ import unicode_literals\n",
    "\n",
    "# 可变参数\n",
    "def f(a, *args, **kargs):  \n",
    "    print(\"a=%s, args=%s, kargs=%s\"%(a, args, kargs))\n",
    "\n",
    "f(1)\n",
    "f(1,2,3)\n",
    "a = f(1,2,3, x=1, y=2)\n",
    "print(a)"
   ]
  },
  {
   "cell_type": "code",
   "execution_count": 22,
   "metadata": {},
   "outputs": [
    {
     "name": "stdout",
     "output_type": "stream",
     "text": [
      "a=1, b=2\n",
      "3\n",
      "a=4, b=2\n",
      "6\n",
      "a=4, b=8\n",
      "12\n"
     ]
    }
   ],
   "source": [
    "# 默认参数\n",
    "def g(a=1, b=2):\n",
    "    print(\"a=%d, b=%d\"%(a, b))\n",
    "    return a+b\n",
    "print(g())\n",
    "print(g(4))\n",
    "print(g(4,8))"
   ]
  },
  {
   "cell_type": "code",
   "execution_count": 6,
   "metadata": {},
   "outputs": [
    {
     "name": "stdout",
     "output_type": "stream",
     "text": [
      "OK, All Test Pass!\n"
     ]
    }
   ],
   "source": [
    "# 判断一个数是否是素数\n",
    "def is_prime(x):\n",
    "    # Your Code\n",
    "    z = x-1\n",
    "    while z>1:\n",
    "        if x%z==0:\n",
    "            return False\n",
    "        else:\n",
    "            z -= 1\n",
    "    return True\n",
    "\n",
    "########### Test Code ################\n",
    "for i in [3, 5, 7, 13, 19]:\n",
    "    assert is_prime(i)==True, 'True的测试%d, fail'%(i)\n",
    "for i in [4, 8, 12, 15, 32]:\n",
    "    assert is_prime(i)==False, 'False的测试%d, fail'%(i)\n",
    "    \n",
    "print(\"OK, All Test Pass!\")"
   ]
  },
  {
   "cell_type": "markdown",
   "metadata": {},
   "source": [
    "### 练习"
   ]
  },
  {
   "cell_type": "code",
   "execution_count": null,
   "metadata": {},
   "outputs": [],
   "source": [
    "# 给一个字符串，要求处理后输出结果如下：\n",
    "# \"abcd\"    -->  \"A-Bb-Ccc-Dddd\"\n",
    "# \"RqaEzty\" --> \"R-Qq-Aaa-Eeee-Zzzzz-Tttttt-Yyyyyyy\"\n",
    "# \"cwAt\"    --> \"C-Ww-Aaa-Tttt\"\n",
    "\n",
    "txt = [\"abcd\", \"RqaEzty\", \"cwAt\"]\n",
    "\n",
    "# Your code\n",
    "# 把你上节课的代码改为函数，并写出自动测试代码。\n",
    "\n"
   ]
  },
  {
   "cell_type": "code",
   "execution_count": null,
   "metadata": {},
   "outputs": [],
   "source": [
    "\"\"\"\n",
    "判断一个字符串中重复字符的个数，比如：\n",
    "\"abcde\" -> 0 # no characters repeat\n",
    "\"aabbcde\" -> 2 # 'a' and 'b'\n",
    "\"aabBcde\" -> 2 # 'a' occurs twice and 'b' twice , b and B是重复\n",
    "\"indivisibility\" -> 1 # 'i' occurs six times，不过只有i是重复的。\n",
    "\"Indivisibilities\" -> 2 # 'i' occurs seven times and 's' occurs twice\n",
    "\"aA11\" -> 2 # 'a' and '1'\n",
    "\"ABBA\" -> 2 # 'A' and 'B' each occur twice\n",
    "\"\"\"\n",
    "def duplicate_count(s):\n",
    "    # Your Code\n",
    "\n",
    "    return 0\n",
    "\n",
    "########### Test Code ################\n",
    "for s,result in ((\"abcde\",0), (\"aabbcde\", 2), (\"aabBcde\", 2), \\\n",
    "                 (\"indivisibility\", 1), (\"Indivisibilities\",2), \\\n",
    "                 (\"aA11\", 2), (\"ABBA\", 2)):\n",
    "    assert duplicate_count(s)==result, \"%s fail\"%(s)\n",
    "print(\"OK, All Test Pass!\")"
   ]
  },
  {
   "cell_type": "markdown",
   "metadata": {},
   "source": [
    "### 函数也是对象\n",
    "\n",
    "1. 可以赋给其他变量\n",
    "2. 可以作为函数返回值\n",
    "3. 可以作为其他函数的参数"
   ]
  },
  {
   "cell_type": "code",
   "execution_count": 29,
   "metadata": {},
   "outputs": [
    {
     "data": {
      "text/plain": [
       "True"
      ]
     },
     "execution_count": 29,
     "metadata": {},
     "output_type": "execute_result"
    }
   ],
   "source": [
    "# 赋值\n",
    "def is_prime(x):\n",
    "    # Your Code\n",
    "    z = x-1\n",
    "    while z>1:\n",
    "        if x%z==0:\n",
    "            return False\n",
    "        else:\n",
    "            z -= 1\n",
    "    return True\n",
    "\n",
    "a = is_prime\n",
    "a(3)"
   ]
  },
  {
   "cell_type": "code",
   "execution_count": 35,
   "metadata": {},
   "outputs": [
    {
     "data": {
      "text/plain": [
       "200"
      ]
     },
     "execution_count": 35,
     "metadata": {},
     "output_type": "execute_result"
    }
   ],
   "source": [
    "# 作为返回值\n",
    "def f_add(a,b):  return a+b\n",
    "def f_mul(a,b):  return a*b\n",
    "def f_sub(a,b):  return a-b\n",
    "    \n",
    "def calc2(s):    \n",
    "    if s=='+':\n",
    "        return  f_add\n",
    "    elif s=='*':\n",
    "        return f_mul\n",
    "    elif s=='-':\n",
    "        return f_sub\n",
    "    else:\n",
    "        assert False, \"error\"\n",
    "\n",
    "calc2('*')(100, 2)"
   ]
  },
  {
   "cell_type": "code",
   "execution_count": 39,
   "metadata": {},
   "outputs": [
    {
     "name": "stdout",
     "output_type": "stream",
     "text": [
      "点菜完毕，开始做菜\n",
      "\n",
      "做了一份蛋炒饭\n",
      "做了一份肉丝面\n",
      "做了一份肉丝面\n",
      "做了一个肉夹馍\n",
      "做了一个肉夹馍\n",
      "做了一个肉夹馍\n",
      "\n",
      "做菜完毕，开始上菜\n"
     ]
    }
   ],
   "source": [
    "# 函数做参数\n",
    "def do_danchaofan():\n",
    "    # 做蛋炒饭\n",
    "    print('做了一份蛋炒饭')\n",
    "\n",
    "def do_rousimian():\n",
    "    # 做肉丝面\n",
    "    print('做了一份肉丝面')\n",
    "    \n",
    "def do_roubing():\n",
    "    # 做肉夹馍\n",
    "    print('做了一个肉夹馍')\n",
    "\n",
    "\n",
    "# 点菜\n",
    "order = [(1, do_danchaofan), (2, do_rousimian), (3, do_roubing)]\n",
    "\n",
    "# 做菜\n",
    "def send_order(orders):\n",
    "    print(\"点菜完毕，开始做菜\\n\")\n",
    "    for nums, do_fan in orders:\n",
    "        for i in range(nums):\n",
    "            do_fan()\n",
    "    print(\"\\n做菜完毕，开始上菜\")\n",
    "\n",
    "send_order(order)"
   ]
  },
  {
   "cell_type": "markdown",
   "metadata": {},
   "source": [
    "### lambda匿名函数\n"
   ]
  },
  {
   "cell_type": "code",
   "execution_count": 43,
   "metadata": {},
   "outputs": [
    {
     "data": {
      "text/plain": [
       "1"
      ]
     },
     "execution_count": 43,
     "metadata": {},
     "output_type": "execute_result"
    }
   ],
   "source": [
    "lower = (lambda x, y: x if x < y else y)\n",
    "lower(1,2)"
   ]
  },
  {
   "cell_type": "code",
   "execution_count": 65,
   "metadata": {},
   "outputs": [
    {
     "name": "stdout",
     "output_type": "stream",
     "text": [
      "[15, -9, -25, -4, -41, -17, -13, 34, 4, 23]\n",
      "[-41, -25, -17, -13, -9, -4, 4, 15, 23, 34]\n",
      "[-41, -25, -17, -13, -9, -4, 4, 15, 23, 34]\n"
     ]
    }
   ],
   "source": [
    "import random\n",
    "nums = [random.randint(-50,50) for i in range(10)]\n",
    "\n",
    "# sorted(iterable, cmp=None, key=None, reverse=False)       ## Python 2.x\n",
    "# sorted(iterable, key=None, reverse=False)                 ## Python 3.x\n",
    "\n",
    "from functools import cmp_to_key\n",
    "out = sorted(nums, key=cmp_to_key(lambda x,y: x-y))\n",
    "print(nums)\n",
    "print(out)\n",
    "nums.sort(key=cmp_to_key(lambda x,y: x-y))\n",
    "print(nums)"
   ]
  },
  {
   "cell_type": "code",
   "execution_count": 4,
   "metadata": {},
   "outputs": [
    {
     "name": "stdout",
     "output_type": "stream",
     "text": [
      "['Fengxiaotian', 'Lisixiang', 'Wangqiang', 'Zhangming', 'lilong', 'wangxiaotong', 'yangfengshuang']\n"
     ]
    }
   ],
   "source": [
    "# 1. 把上面的排序改为倒序\n",
    "\n",
    "# 2. 把下面这个列表忽略首字母大小写进行排序\n",
    "\n",
    "names = ['lilong', 'Wangqiang', 'Fengxiaotian', 'yangfengshuang', 'Zhangming', 'wangxiaotong', 'Lisixiang']\n",
    "print(sorted(names))"
   ]
  },
  {
   "cell_type": "markdown",
   "metadata": {},
   "source": [
    "## 常用高阶函数\n",
    "\n",
    "一个函数f接收另一个函数g作为参数，这种函数就称之为高阶函数  \n",
    "数学上写为：f(g(x))"
   ]
  },
  {
   "cell_type": "code",
   "execution_count": 6,
   "metadata": {},
   "outputs": [
    {
     "name": "stdout",
     "output_type": "stream",
     "text": [
      "[39, 26, 11, 18, 10, 6, 27]\n",
      "[-100, 78, 52, 22, 36, 20, -50, 12, 54, -32]\n",
      "-6505012800000\n"
     ]
    }
   ],
   "source": [
    "# 高阶函数 filter, map, reduce\n",
    "# python2 不需要导入reduce\n",
    "import random\n",
    "from functools import reduce\n",
    "\n",
    "nums = [random.randint(-50,50) for i in range(10)]\n",
    "nums2 = filter(lambda n: n>0, nums)\n",
    "nums3 = map(lambda x: x * 2, nums)\n",
    "nums4 = reduce(lambda x,y: x*y, nums)\n",
    "\n",
    "\n",
    "print(list(nums2))\n",
    "print(list(nums3))\n",
    "print(nums4)"
   ]
  },
  {
   "cell_type": "markdown",
   "metadata": {},
   "source": [
    "**作业**\n",
    "\n",
    "1. day05文件夹下有一些英文小说文件，编写程序统计出每个文件里单词出现频率最高的前10大单词是什么？\n",
    "2. 你会发现只有001这个文件最好用，其他文件报错。其他文件的问题在哪里。（选做）"
   ]
  },
  {
   "cell_type": "code",
   "execution_count": null,
   "metadata": {},
   "outputs": [],
   "source": [
    "# 读文件对字符串进行处理，得到单词list\n",
    "# 这里请检查一下，单词的格式是否包含了不属于单词的字符。如何处理。\n",
    "# Your code\n",
    "\n",
    "# 对每个单词统计出现的次数\n",
    "# Your code\n",
    "    \n",
    "# 最后对单词出现的次数进行排序\n",
    "# Your Code\n"
   ]
  },
  {
   "cell_type": "code",
   "execution_count": 257,
   "metadata": {},
   "outputs": [],
   "source": [
    "from day05.tongji import read_file"
   ]
  },
  {
   "cell_type": "code",
   "execution_count": 278,
   "metadata": {
    "scrolled": true
   },
   "outputs": [
    {
     "name": "stdout",
     "output_type": "stream",
     "text": [
      "文件行数： 3386\n",
      "549 ms ± 0 ns per loop (mean ± std. dev. of 1 run, 1 loop each)\n"
     ]
    }
   ],
   "source": [
    "%%timeit -n 1 -r 1\n",
    "\n",
    "a = read_file('day05/001.txt')"
   ]
  },
  {
   "cell_type": "code",
   "execution_count": 280,
   "metadata": {},
   "outputs": [
    {
     "name": "stdout",
     "output_type": "stream",
     "text": [
      "频率最高的50个单词\n",
      "[('the', 10894), ('to', 6445), ('and', 5952), ('of', 4922), ('a', 4897), ('in', 3387), ('her', 3339), ('he', 3326), ('was', 3245), ('it', 3124), ('i', 2690), ('you', 2652), ('she', 2641), ('his', 2258), ('had', 2035), ('for', 1850), ('as', 1586), ('on', 1579), ('but', 1555), ('with', 1524), ('that', 1512), ('at', 1287), ('not', 1222), ('him', 1184), ('be', 1124), ('meggie', 1108), ('so', 1090), ('have', 979), ('they', 944), ('from', 933), ('no', 913), ('all', 901), ('what', 900), ('were', 867), ('if', 768), ('said', 766), ('me', 744), ('is', 717), ('out', 717), ('one', 707), ('would', 694), ('up', 669), ('do', 653), ('like', 651), ('could', 636), ('there', 607), ('my', 594), ('or', 579), ('when', 572), ('never', 565)]\n",
      "频率最低的50个单词\n",
      "[('smug', 1), ('philodendron', 1), ('pussy-cat', 1), ('wagging', 1), ('spectacle', 1), ('frivolously', 1), ('frittered', 1), ('sketch', 1), ('dogmatic', 1), ('leather-coated', 1), ('[said', 1), ('meggie]', 1), ('impulsive', 1), ('provoke', 1), ('drastic', 1), ('accomplish', 1), (\"nanna's\", 1), ('presumption', 1), ('suggest', 1), ('altruistic', 1), ('wailing', 1), ('needless', 1), ('citizen', 1), ('unavoidable', 1), ('impotence', 1), ('mummy', 1), (\"mummy's\", 1), ('ranch', 1), ('humanly', 1), ('rekindle', 1), (\"chauffeur's\", 1), (\"butler's\", 1), ('impassive', 1), ('opponent', 1), ('altruist', 1), ('acquire', 1), ('faithfully', 1), ('rain-when', 1), ('enlightening', 1), ('tension', 1), ('like-no', 1), ('love-about', 1), ('rawer', 1), ('hibiscus', 1), ('bottlebrush', 1), ('unceasing', 1), ('renew', 1), ('immutable', 1), ('impale', 1), ('enters', 1)]\n"
     ]
    }
   ],
   "source": [
    "print(\"频率最高的50个单词\")\n",
    "print(a[:50])\n",
    "print(\"频率最低的50个单词\")\n",
    "print(a[-50:])"
   ]
  }
 ],
 "metadata": {
  "kernelspec": {
   "display_name": "Python 3",
   "language": "python",
   "name": "python3"
  },
  "language_info": {
   "codemirror_mode": {
    "name": "ipython",
    "version": 3
   },
   "file_extension": ".py",
   "mimetype": "text/x-python",
   "name": "python",
   "nbconvert_exporter": "python",
   "pygments_lexer": "ipython3",
   "version": "3.6.4"
  }
 },
 "nbformat": 4,
 "nbformat_minor": 2
}
