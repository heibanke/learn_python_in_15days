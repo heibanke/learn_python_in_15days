{
 "cells": [
  {
   "cell_type": "markdown",
   "metadata": {},
   "source": [
    "# 15天入门Python3\n",
    "\n",
    "CopyRight by 黑板客  \n",
    "转载请联系heibanke_at_aliyun.com"
   ]
  },
  {
   "cell_type": "markdown",
   "metadata": {},
   "source": [
    "### 上节作业\n",
    "\n",
    "1. 跟着键盘动还没完成，请完成其他方向的动作。\n",
    "2. 如果houyi是电脑玩家，想让它随机动，如何更改程序？\n",
    "3. 如何对位置进行限制？"
   ]
  },
  {
   "cell_type": "markdown",
   "metadata": {},
   "source": [
    "## day13：大功告成—pkgame\n",
    "\n",
    "\n",
    "1. <a href=\"#1\">AI英雄</a>\n",
    "2. <a href=\"#2\">检测碰撞并互相伤害</a>\n",
    "3. <a href=\"#3\">文件结构和Game Over处理</a>\n",
    "4. <a href=\"#4\">使用鼠标</a>\n",
    "4. <a href=\"#5\">作业</a>"
   ]
  },
  {
   "cell_type": "markdown",
   "metadata": {},
   "source": [
    "## <a name=\"1\">AI英雄</a>\n",
    "\n",
    "AI英雄应该设计为Hero的子类，还是应该为英雄增加属性进行判断？"
   ]
  },
  {
   "cell_type": "markdown",
   "metadata": {},
   "source": [
    "AI英雄的不同：\n",
    "- key_handle随机\n",
    "- 随机走动"
   ]
  },
  {
   "cell_type": "code",
   "execution_count": null,
   "metadata": {},
   "outputs": [],
   "source": [
    "%load pk_pyglet/pkgame_05.py\n",
    "\n"
   ]
  },
  {
   "cell_type": "markdown",
   "metadata": {},
   "source": [
    "## <a name=\"2\">检测碰撞并互相伤害</a>\n",
    "\n",
    "pkgame_06"
   ]
  },
  {
   "cell_type": "code",
   "execution_count": null,
   "metadata": {},
   "outputs": [],
   "source": [
    "%load pk_pyglet/pkgame_06.py\n",
    "\n"
   ]
  },
  {
   "cell_type": "markdown",
   "metadata": {},
   "source": [
    "## <a name=\"3\">Game Over处理</a>\n",
    "\n",
    "pkgame_07"
   ]
  },
  {
   "cell_type": "code",
   "execution_count": null,
   "metadata": {},
   "outputs": [],
   "source": [
    "%load pk_pyglet/pkgame_07.py\n"
   ]
  },
  {
   "cell_type": "code",
   "execution_count": null,
   "metadata": {},
   "outputs": [],
   "source": [
    "%load pk_pyglet/game/player.py\n"
   ]
  },
  {
   "cell_type": "markdown",
   "metadata": {},
   "source": [
    "## <a name=\"4\">使用鼠标</a>\n",
    "\n",
    "pkgame_08"
   ]
  },
  {
   "cell_type": "code",
   "execution_count": null,
   "metadata": {},
   "outputs": [],
   "source": [
    "%load pk_pyglet/pkgame_08.py\n",
    "\n"
   ]
  },
  {
   "cell_type": "markdown",
   "metadata": {},
   "source": [
    "## <a name=\"5\">大作业</a>\n",
    "\n",
    "1. 目前我们的英雄走路都是横平竖直的，能否将英雄走路的方向增加到8个方向？\n",
    "2. 如何增加一个玩家，让两个人控制不同键盘，和4个电脑玩家进行对战？\n",
    "3. 为亚瑟增加一个技能，按空格，可以按照亚瑟行走的方向快速冲锋一段时间，期间撞到敌人后，会对敌人造成伤害并且敌人会被撞晕一段时间。（撞晕不能走动和伤害）。\n",
    "4. 为后羿增加一个技能，按空格，可以按照后羿行走的方向发射火球，火球碰到敌人或出屏幕后，火球消失，碰到敌人会被减速，并持续受到伤害一段时间。火球图片在img文件夹。\n",
    "5. 还可以考虑增加发射冰箭的技能，可以让敌人冻住，冻住期间再受到伤害会加倍。\n",
    "6. 技能有一定的冻结时间，在冻结时间内无法再次释放技能，能否释放技能在界面增加提示。\n",
    "7. 思考当有很多技能时如何加入现有程序？考虑不同的技能可能造成不同的效果。\n",
    "8. 如何让AI更智能的使用这些技能？\n",
    "\n",
    "\n",
    "要求：\n",
    "1. 讨论区分享作业时可以保证能直接运行，\n",
    "2. 可以分享Code的百度云盘链接。\n",
    "3. 分享时大概说明一下你的Code增加的功能"
   ]
  }
 ],
 "metadata": {
  "kernelspec": {
   "display_name": "Python 3",
   "language": "python",
   "name": "python3"
  },
  "language_info": {
   "codemirror_mode": {
    "name": "ipython",
    "version": 3
   },
   "file_extension": ".py",
   "mimetype": "text/x-python",
   "name": "python",
   "nbconvert_exporter": "python",
   "pygments_lexer": "ipython3",
   "version": "3.6.4"
  }
 },
 "nbformat": 4,
 "nbformat_minor": 2
}
