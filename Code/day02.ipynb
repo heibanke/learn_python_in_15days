{
 "cells": [
  {
   "cell_type": "markdown",
   "metadata": {},
   "source": [
    "# 15天入门Python3\n",
    "\n",
    "CopyRight by 黑板客  \n",
    "转载请联系heibanke_at_aliyun.com\n"
   ]
  },
  {
   "cell_type": "markdown",
   "metadata": {},
   "source": [
    "## day02：如何存储／操作简单数据\n",
    "\n",
    "1. <a href=\"#1\">动态变量</a>\n",
    "2. <a href=\"#2\">一切皆对象</a>\n",
    "3. <a href=\"#3\">数字</a>\n",
    "4. <a href=\"#4\">Bool类型</a>\n",
    "5. <a href=\"#5\">字符串</a>\n",
    "6. <a href=\"#6\">作业</a>"
   ]
  },
  {
   "cell_type": "markdown",
   "metadata": {},
   "source": [
    "### <a name=\"1\">动态变量</a>"
   ]
  },
  {
   "cell_type": "code",
   "execution_count": null,
   "metadata": {},
   "outputs": [],
   "source": [
    "from __future__ import print_function\n",
    "\n",
    "a = 123\n",
    "print(a, type(a))\n",
    "a = 123.0\n",
    "print(a, type(a))\n",
    "a = 'heibanke'\n",
    "print(a, type(a))\n",
    "a = [1,2,3]\n",
    "print(a, type(a))\n",
    "a = {'1':2}\n",
    "print(a, type(a))\n",
    "a = (1,2)\n",
    "print(a, type(a))\n",
    "\n",
    "# a这个变量名没有变，变的是什么？\n"
   ]
  },
  {
   "cell_type": "markdown",
   "metadata": {},
   "source": [
    "### <a name=\"2\">一切皆对象</a>\n",
    "\n",
    "具体到某一个数据就是对象（实例），某一类数据就是类。\n",
    "\n",
    "- 整数是类，a=123是对象\n",
    "- 蛋炒饭是类，你已经做出来的蛋炒饭就是对象。\n",
    "- 鸡蛋是类，你昨天买的鸡蛋就是对象。\n",
    "- 男人是类，黑板客是对象\n",
    "- 程序员是类，你这个程序员是对象\n",
    "- 中国手机是类，你手里的中国华为手机是对象\n",
    "\n",
    "类和类之间的区别在于属性和方法。\n",
    "\n",
    "- 属性可以理解为描述这个类的特有的数据\n",
    "- 方法可以理解为这个类如何操作它的数据\n",
    "- 比如鸡蛋的大小，重量，是否土鸡蛋，产地，生产日期，那只鸡生的等。是它的属性\n",
    "- 蒸鸡蛋，炒鸡蛋，煎鸡蛋是操作它的方法\n",
    "\n",
    "为什么要有那么多的类？\n",
    "\n",
    "常用的类：数字，字符串，日期时间，列表，字典，元组，文件。\n",
    "\n",
    "查看类的属性和方法用dir(xxx)\n",
    "\n",
    "接下来我们来学习如何存储和操作不同的数据"
   ]
  },
  {
   "cell_type": "markdown",
   "metadata": {},
   "source": [
    "## <a name=\"3\">数字</a>"
   ]
  },
  {
   "cell_type": "markdown",
   "metadata": {},
   "source": [
    "加+减-乘*除/这些操作就不多说了。唯一要说的是python2的除法要想和python3一致，需要\n",
    "\n",
    "from \\__future\\__ import division\n",
    "\n",
    "否则python2会将5/2计算得到2，而5.0/2才会等于2.5"
   ]
  },
  {
   "cell_type": "code",
   "execution_count": null,
   "metadata": {},
   "outputs": [],
   "source": [
    "from __future__ import division\n",
    "print(5/2)\n",
    "print(1/2**10000)"
   ]
  },
  {
   "cell_type": "code",
   "execution_count": null,
   "metadata": {},
   "outputs": [],
   "source": [
    "# decimal是高精度的计算模块\n",
    "from decimal import Decimal as D\n",
    "print(D.from_float(0.1))\n",
    "print(D('0.1'))\n",
    "\n",
    "print(D('0.3')/D(3))\n",
    "print(0.3/3)\n",
    "\n",
    "print(D(1)/D(2**10000))\n",
    "print(1/2**10000)"
   ]
  },
  {
   "cell_type": "markdown",
   "metadata": {},
   "source": [
    "既然decimal这么好，为何不干脆都用decimal呢？\n",
    "\n",
    "我们学习一下如何查看一段程序执行的时间效率。"
   ]
  },
  {
   "cell_type": "markdown",
   "metadata": {},
   "source": [
    "### timeit查看代码效率"
   ]
  },
  {
   "cell_type": "code",
   "execution_count": null,
   "metadata": {},
   "outputs": [],
   "source": [
    "from timeit import timeit\n",
    "from decimal import Decimal as D\n",
    "\n",
    "\n",
    "print( timeit(\"from decimal import Decimal as D;D('1.2')+D('3.4')\", number=10000) )\n",
    "print( timeit(\"1.2+3.4\", number=10000) )"
   ]
  },
  {
   "cell_type": "code",
   "execution_count": null,
   "metadata": {},
   "outputs": [],
   "source": [
    "%%timeit -n 10000\n",
    "#from decimal import Decimal as D\n",
    "D('1.2')+D('3.4')"
   ]
  },
  {
   "cell_type": "code",
   "execution_count": null,
   "metadata": {},
   "outputs": [],
   "source": [
    "%%timeit?"
   ]
  },
  {
   "cell_type": "code",
   "execution_count": null,
   "metadata": {},
   "outputs": [],
   "source": [
    "%%timeit -n 10000\n",
    "1.2+3.4"
   ]
  },
  {
   "cell_type": "markdown",
   "metadata": {},
   "source": [
    "### math, random使用"
   ]
  },
  {
   "cell_type": "code",
   "execution_count": null,
   "metadata": {},
   "outputs": [],
   "source": [
    "# math是最常用的一些数学运算模块\n",
    "import math\n",
    "print(dir(math))\n",
    "print(help(math))\n",
    "from math import *\n"
   ]
  },
  {
   "cell_type": "code",
   "execution_count": null,
   "metadata": {},
   "outputs": [],
   "source": [
    "print(math.pi)\n",
    "print(math.sqrt(80))\n",
    "print(math.log10(2**1000))\n",
    "print(math.pow(4,0.5))\n",
    "print(math.factorial(10)) # 10!\n",
    "print(1*2*3*4*5*6*7*8*9*10)"
   ]
  },
  {
   "cell_type": "code",
   "execution_count": null,
   "metadata": {},
   "outputs": [],
   "source": [
    "# random模块用来产生随机数\n",
    "import random\n",
    "# 随机产生0，1之间的小数\n",
    "print(random.random())\n",
    "\n",
    "# 在已有的数据里选一个\n",
    "print(random.choice([1,2,3,4]))\n",
    "\n",
    "# 在[0~10]范围内产生随机整数\n",
    "print(random.randint(0,10))"
   ]
  },
  {
   "cell_type": "markdown",
   "metadata": {},
   "source": [
    "## <a name=\"4\">布尔类型(BOOL)</a>"
   ]
  },
  {
   "cell_type": "code",
   "execution_count": null,
   "metadata": {},
   "outputs": [],
   "source": [
    "print(2 > 1)\n",
    "print(2 == 4)\n",
    "print(not 2 > 1)\n",
    "print(2>1 and 3 > 1) # any and False = False \n",
    "print(2<1 or 2 != 4) # any or True = True"
   ]
  },
  {
   "cell_type": "markdown",
   "metadata": {},
   "source": [
    "### None空值"
   ]
  },
  {
   "cell_type": "code",
   "execution_count": null,
   "metadata": {},
   "outputs": [],
   "source": [
    "a = None\n",
    "print(a)\n",
    "print(a is None)"
   ]
  },
  {
   "cell_type": "markdown",
   "metadata": {},
   "source": [
    "## <a name=\"5\">字符串</a>"
   ]
  },
  {
   "cell_type": "code",
   "execution_count": null,
   "metadata": {},
   "outputs": [],
   "source": [
    "# 为了让python2和python3的中文一致，这样在python2里也无需加u前缀\n",
    "from __future__ import unicode_literals\n",
    "print('15天python编程入门')"
   ]
  },
  {
   "cell_type": "code",
   "execution_count": null,
   "metadata": {},
   "outputs": [],
   "source": [
    "print('a\\nb')\n",
    "# '\\n'被转义为回车\n",
    "\n",
    "print('a\\\\nb')\n",
    "print(r'a\\nb') # r为raw的含义"
   ]
  },
  {
   "cell_type": "code",
   "execution_count": null,
   "metadata": {},
   "outputs": [],
   "source": [
    "# 两段字符串拼接直接＋就可以\n",
    "a = 'learn python'\n",
    "b = 'from zero'\n",
    "c = a + ' ' + b\n",
    "print(c)"
   ]
  },
  {
   "cell_type": "code",
   "execution_count": null,
   "metadata": {},
   "outputs": [],
   "source": [
    "# 长字符串拆分到列表\n",
    "d = c.split(' ')\n",
    "print(d)\n",
    "\n",
    "# 列表的合并\n",
    "e = '-'.join(d)\n",
    "print(e)"
   ]
  },
  {
   "cell_type": "code",
   "execution_count": null,
   "metadata": {},
   "outputs": [],
   "source": [
    "# 通过dir来查看类的方法有哪些\n",
    "print(dir(a))"
   ]
  },
  {
   "cell_type": "code",
   "execution_count": null,
   "metadata": {
    "scrolled": false
   },
   "outputs": [],
   "source": [
    "# 通过help来查看某个方法的使用\n",
    "help(e.upper)\n",
    "print(e.upper())"
   ]
  },
  {
   "cell_type": "markdown",
   "metadata": {},
   "source": [
    "### Day02 我们学习的内容：\n",
    "\n",
    "1. 理解动态变量\n",
    "2. 理解类和对象的关系\n",
    "3. 会用dir和help\n",
    "4. 会存储并使用数字，字符串，布尔值\n",
    "5. 会用timeit来评估性能\n",
    "6. 会使用math，random模块"
   ]
  },
  {
   "cell_type": "markdown",
   "metadata": {},
   "source": [
    "<a name=\"6\">**作业**</a>\n",
    "\n",
    "执行完上面的程序后\n",
    "\n",
    "1. 判断字符串e中是否包含python字符串，并且告诉位置\n",
    "2. 判断字符串e中字母'o', 'n'的个数。\n",
    "3. 使字符串e的首字母大写\n",
    "4. 将字符串 'c++, python2, python3, perl, ruby, java, javascript, php4, php5, c'通过程序修改为\n",
    "   'c++python2python3perlrubyjavajavascriptphp4php5c'\n",
    "5. 利用random模块模拟扔硬币，正面为True，反面为False。随机选择正面或反面。"
   ]
  }
 ],
 "metadata": {
  "kernelspec": {
   "display_name": "Python 3",
   "language": "python",
   "name": "python3"
  },
  "language_info": {
   "codemirror_mode": {
    "name": "ipython",
    "version": 3
   },
   "file_extension": ".py",
   "mimetype": "text/x-python",
   "name": "python",
   "nbconvert_exporter": "python",
   "pygments_lexer": "ipython3",
   "version": "3.6.4"
  }
 },
 "nbformat": 4,
 "nbformat_minor": 2
}
