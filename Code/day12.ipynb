{
 "cells": [
  {
   "cell_type": "markdown",
   "metadata": {},
   "source": [
    "# 15天入门Python3\n",
    "\n",
    "CopyRight by 黑板客  \n",
    "转载请联系heibanke_at_aliyun.com"
   ]
  },
  {
   "cell_type": "markdown",
   "metadata": {},
   "source": [
    "## day12：学以致用—pyglet\n",
    "\n",
    "<a href=\"https://pyglet.readthedocs.io/en/pyglet-1.3-maintenance/index.html#\">pyglet--1.3</a> : a cross-platform windowing and multimedia library for Python.\n",
    "\n",
    "pyglet可以工作在Windows, OS X 和 Linux.\n",
    "\n",
    "安装：pip install pyglet\n",
    "\n",
    "1. <a href=\"#1\">英雄图像载入</a>\n",
    "2. <a href=\"#2\">英雄动起来</a>\n",
    "3. <a href=\"#3\">上下左右动起来</a>\n",
    "4. <a href=\"#4\">作业</a>"
   ]
  },
  {
   "cell_type": "code",
   "execution_count": 14,
   "metadata": {},
   "outputs": [
    {
     "data": {
      "text/html": [
       "<style>\n",
       ".rendered_html img {background: #000000;}\n",
       "</style>"
      ],
      "text/plain": [
       "<IPython.core.display.HTML object>"
      ]
     },
     "metadata": {},
     "output_type": "display_data"
    }
   ],
   "source": [
    "%%html\n",
    "<style>\n",
    ".rendered_html img {background: #000000;}\n",
    "</style>"
   ]
  },
  {
   "cell_type": "markdown",
   "metadata": {},
   "source": [
    "## <a name=\"1\">英雄图像载入</a>\n",
    "\n",
    "<img src=\"pk_pyglet/img/players.png\" style=\"backgroud:#FFFFFF\"></img>"
   ]
  },
  {
   "cell_type": "code",
   "execution_count": 15,
   "metadata": {},
   "outputs": [],
   "source": [
    "%load pk_pyglet/pkgame_01.py\n",
    "\n"
   ]
  },
  {
   "cell_type": "markdown",
   "metadata": {},
   "source": [
    "## <a name=\"2\">英雄动起来</a>\n",
    "\n",
    "pkgame_02"
   ]
  },
  {
   "cell_type": "code",
   "execution_count": null,
   "metadata": {},
   "outputs": [],
   "source": [
    "%load pk_pyglet/pkgame_02.py\n",
    "\n"
   ]
  },
  {
   "cell_type": "markdown",
   "metadata": {},
   "source": [
    "## <a name=\"3\">真正动起来</a>\n",
    "\n",
    "pkgame_03"
   ]
  },
  {
   "cell_type": "code",
   "execution_count": null,
   "metadata": {},
   "outputs": [],
   "source": [
    "%load pk_pyglet/pkgame_03.py\n"
   ]
  },
  {
   "cell_type": "markdown",
   "metadata": {},
   "source": [
    "## <a name=\"4\">跟着键盘动起来</a>\n",
    "\n",
    "pkgame_04"
   ]
  },
  {
   "cell_type": "code",
   "execution_count": null,
   "metadata": {},
   "outputs": [],
   "source": [
    "%load pk_pyglet/pkgame_04.py\n",
    "\n"
   ]
  },
  {
   "cell_type": "markdown",
   "metadata": {},
   "source": [
    "## <a name=\"5\">思考与作业</a>\n",
    "\n",
    "1. 跟着键盘动还没完成，请完成其他方向的动作。\n",
    "2. 如果houyi是电脑玩家，想让它随机动，如何更改程序？\n",
    "3. 如何对位置进行限制？"
   ]
  }
 ],
 "metadata": {
  "kernelspec": {
   "display_name": "Python 3",
   "language": "python",
   "name": "python3"
  },
  "language_info": {
   "codemirror_mode": {
    "name": "ipython",
    "version": 3
   },
   "file_extension": ".py",
   "mimetype": "text/x-python",
   "name": "python",
   "nbconvert_exporter": "python",
   "pygments_lexer": "ipython3",
   "version": "3.6.4"
  }
 },
 "nbformat": 4,
 "nbformat_minor": 2
}
