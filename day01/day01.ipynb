{
 "cells": [
  {
   "cell_type": "markdown",
   "metadata": {},
   "source": [
    "## day01：搭建环境"
   ]
  },
  {
   "cell_type": "markdown",
   "metadata": {},
   "source": [
    "1. 装python3\n",
    "2. 装pip，easy_install\n",
    "3. 装virtualenv\n",
    "4. 更新pip源\n",
    "5. 安装库\n",
    "\n",
    "\n",
    "豆瓣(douban) https://pypi.douban.com/simple  \n",
    "阿里云 https://mirrors.aliyun.com/pypi/simple  \n",
    "中国科技大学 https://pypi.mirrors.ustc.edu.cn/simple  \n",
    "清华大学 https://pypi.tuna.tsinghua.edu.cn/simple\n",
    "\n",
    "配置文件的位置（需要自己写配置文件并保存）\n",
    "\n",
    "linux  \n",
    "~/.pip/pip.conf\n",
    "\n",
    "windows  \n",
    "%HOME%\\pip\\pip.ini    C:\\Users\\your_name\\pip\\pip.ini \n",
    "\n",
    "virtualenv  \n",
    "env/pip.conf\n",
    "\n",
    "配置文件的格式\n",
    "\n",
    "[global]  \n",
    "index-url = https://pypi.tuna.tsinghua.edu.cn/simple\n",
    "\n",
    "pip freeze > requirements.txt  \n",
    "pip install －r requirements.txt"
   ]
  },
  {
   "cell_type": "code",
   "execution_count": 6,
   "metadata": {},
   "outputs": [
    {
     "name": "stdout",
     "output_type": "stream",
     "text": [
      "Hello World!\n",
      "Help on built-in function print in module builtins:\n",
      "\n",
      "print(...)\n",
      "    print(value, ..., sep=' ', end='\\n', file=sys.stdout, flush=False)\n",
      "    \n",
      "    Prints the values to a stream, or to sys.stdout by default.\n",
      "    Optional keyword arguments:\n",
      "    file:  a file-like object (stream); defaults to the current sys.stdout.\n",
      "    sep:   string inserted between values, default a space.\n",
      "    end:   string appended after the last value, default a newline.\n",
      "    flush: whether to forcibly flush the stream.\n",
      "\n"
     ]
    }
   ],
   "source": [
    "# 下面这句是为了让python2使用和python3一样的print语法，python3中不需要这句\n",
    "from __future__ import print_function\n",
    "print('Hello World!')\n",
    "help(print)"
   ]
  },
  {
   "cell_type": "markdown",
   "metadata": {},
   "source": [
    "其中import语句的作用是导入其他模块的类或方法，使用方法如下：\n",
    "\n",
    "import xxx\n",
    "\n",
    "from xxx import xx\n",
    "\n",
    "from xxx import xx as x\n",
    "\n",
    "from xxx import *"
   ]
  },
  {
   "cell_type": "code",
   "execution_count": 7,
   "metadata": {},
   "outputs": [
    {
     "name": "stdout",
     "output_type": "stream",
     "text": [
      "2 3 4\n",
      "2 3 4\n",
      "\n",
      "2,3,4\n"
     ]
    }
   ],
   "source": [
    "print(2,3,4)\n",
    "print(2,3,4,end='\\n\\n')\n",
    "print(2,3,4,sep=',')"
   ]
  },
  {
   "cell_type": "code",
   "execution_count": 2,
   "metadata": {},
   "outputs": [
    {
     "name": "stdout",
     "output_type": "stream",
     "text": [
      "[9, 34, 5, 23, 14, 7, 32, 2, 12]\n",
      "[9, 5, 34, 23, 14, 7, 32, 2, 12]\n",
      "[9, 5, 23, 34, 14, 7, 32, 2, 12]\n",
      "[9, 5, 23, 14, 34, 7, 32, 2, 12]\n",
      "[9, 5, 23, 14, 7, 34, 32, 2, 12]\n",
      "[9, 5, 23, 14, 7, 32, 34, 2, 12]\n",
      "[9, 5, 23, 14, 7, 32, 2, 34, 12]\n",
      "[9, 5, 23, 14, 7, 32, 2, 12, 34]\n",
      "\n",
      " 0\n",
      "[5, 9, 23, 14, 7, 32, 2, 12, 34]\n",
      "[5, 9, 14, 23, 7, 32, 2, 12, 34]\n",
      "[5, 9, 14, 7, 23, 32, 2, 12, 34]\n",
      "[5, 9, 14, 7, 23, 2, 32, 12, 34]\n",
      "[5, 9, 14, 7, 23, 2, 12, 32, 34]\n",
      "\n",
      " 1\n",
      "[5, 9, 7, 14, 23, 2, 12, 32, 34]\n",
      "[5, 9, 7, 14, 2, 23, 12, 32, 34]\n",
      "[5, 9, 7, 14, 2, 12, 23, 32, 34]\n",
      "\n",
      " 2\n",
      "[5, 7, 9, 14, 2, 12, 23, 32, 34]\n",
      "[5, 7, 9, 2, 14, 12, 23, 32, 34]\n",
      "[5, 7, 9, 2, 12, 14, 23, 32, 34]\n",
      "\n",
      " 3\n",
      "[5, 7, 2, 9, 12, 14, 23, 32, 34]\n",
      "\n",
      " 4\n",
      "[5, 2, 7, 9, 12, 14, 23, 32, 34]\n",
      "\n",
      " 5\n",
      "[2, 5, 7, 9, 12, 14, 23, 32, 34]\n",
      "\n",
      " 6\n",
      "\n",
      " 7\n",
      "\n",
      " 8\n",
      "After sorted:  [2, 5, 7, 9, 12, 14, 23, 32, 34]\n",
      "Before sorted:  [34, 9, 5, 23, 14, 7, 32, 2, 12]\n",
      "Help on function bubble_sort in module __main__:\n",
      "\n",
      "bubble_sort(nums)\n",
      "    bubble sort function\n",
      "    input: list\n",
      "    output: sorted list\n",
      "\n"
     ]
    }
   ],
   "source": [
    "from __future__ import print_function\n",
    "\n",
    "def bubble_sort(nums):\n",
    "    \"\"\"\n",
    "    bubble sort function\n",
    "    input: list\n",
    "    output: sorted list\n",
    "    \"\"\"\n",
    "    n = nums[:]\n",
    "    for j in range(len(n)):\n",
    "        for i in range(len(n) - j - 1):\n",
    "            if n[i] > n[i + 1]:\n",
    "                n[i], n[i + 1] = n[i + 1],n[i]\n",
    "                print(n)\n",
    "        print('\\n', j)\n",
    "    return n\n",
    "\n",
    "if __name__ == '__main__':\n",
    "    numbers=[34, 9, 5, 23, 14, 7, 32, 2, 12]\n",
    "    sorted_nums = bubble_sort(numbers)\n",
    "    print('After sorted: ', sorted_nums)\n",
    "    print('Before sorted: ', numbers)\n",
    "    help(bubble_sort)"
   ]
  }
 ],
 "metadata": {
  "kernelspec": {
   "display_name": "Python 3",
   "language": "python",
   "name": "python3"
  },
  "language_info": {
   "codemirror_mode": {
    "name": "ipython",
    "version": 3
   },
   "file_extension": ".py",
   "mimetype": "text/x-python",
   "name": "python",
   "nbconvert_exporter": "python",
   "pygments_lexer": "ipython3",
   "version": "3.6.4"
  }
 },
 "nbformat": 4,
 "nbformat_minor": 2
}
